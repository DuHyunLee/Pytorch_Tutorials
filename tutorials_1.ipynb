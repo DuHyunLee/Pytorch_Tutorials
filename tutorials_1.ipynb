{
 "cells": [
  {
   "cell_type": "code",
   "execution_count": 7,
   "metadata": {},
   "outputs": [],
   "source": [
    "import os\n",
    "import math\n",
    "import numpy as np\n",
    "import time\n",
    "import matplotlib.pyplot as plt\n",
    "%matplotlib inline\n",
    "\n",
    "from IPython.display import set_matplotlib_formats\n",
    "set_matplotlib_formats(\"svg\",\"pdf\")\n",
    "from matplotlib.colors import to_rgba\n",
    "import seaborn as sns\n",
    "sns.set()\n",
    "\n",
    "from tqdm.notebook import tqdm"
   ]
  },
  {
   "cell_type": "code",
   "execution_count": 8,
   "metadata": {},
   "outputs": [
    {
     "name": "stdout",
     "output_type": "stream",
     "text": [
      "Using torch 1.7.1+cpu\n"
     ]
    }
   ],
   "source": [
    "import torch\n",
    "print(\"Using torch\",torch.__version__)"
   ]
  },
  {
   "cell_type": "code",
   "execution_count": 8,
   "metadata": {},
   "outputs": [
    {
     "data": {
      "text/plain": [
       "<torch._C.Generator at 0x1780b10dcf0>"
      ]
     },
     "execution_count": 8,
     "metadata": {},
     "output_type": "execute_result"
    }
   ],
   "source": [
    "torch.manual_seed(42)      "
   ]
  },
  {
   "cell_type": "code",
   "execution_count": 11,
   "metadata": {},
   "outputs": [
    {
     "name": "stdout",
     "output_type": "stream",
     "text": [
      "tensor([[[9.1837e-39, 4.6837e-39, 6.9796e-39, 9.0000e-39],\n",
      "         [1.0561e-38, 1.0653e-38, 4.1327e-39, 8.9082e-39],\n",
      "         [9.8265e-39, 9.4592e-39, 1.0561e-38, 1.0653e-38]],\n",
      "\n",
      "        [[1.0469e-38, 9.5510e-39, 8.7245e-39, 1.1020e-38],\n",
      "         [8.7245e-39, 9.6429e-39, 9.6429e-39, 8.7245e-39],\n",
      "         [4.2246e-39, 1.1112e-38, 9.6427e-39, 1.0561e-38]]])\n",
      "torch.Size([2, 3, 4])\n"
     ]
    }
   ],
   "source": [
    "x = torch.Tensor(2,3,4)\n",
    "print(x)\n",
    "print(x.shape)\n",
    "# tensor 생성시에 random값으로 생성"
   ]
  },
  {
   "cell_type": "code",
   "execution_count": 25,
   "metadata": {},
   "outputs": [
    {
     "name": "stdout",
     "output_type": "stream",
     "text": [
      "tensor([[1., 2.],\n",
      "        [3., 4.]])\n"
     ]
    }
   ],
   "source": [
    "x = torch.Tensor([[1,2],[3,4]])\n",
    "print(x)"
   ]
  },
  {
   "cell_type": "code",
   "execution_count": 26,
   "metadata": {},
   "outputs": [
    {
     "name": "stdout",
     "output_type": "stream",
     "text": [
      "tensor([[[0.5014, 0.3139, 0.4654, 0.1612],\n",
      "         [0.1568, 0.2083, 0.3289, 0.1054],\n",
      "         [0.9192, 0.4008, 0.9302, 0.6558]],\n",
      "\n",
      "        [[0.0766, 0.8460, 0.3624, 0.3083],\n",
      "         [0.0850, 0.0029, 0.6431, 0.3908],\n",
      "         [0.6947, 0.0897, 0.8712, 0.1330]]])\n"
     ]
    }
   ],
   "source": [
    "x = torch.rand(2,3,4)\n",
    "print(x)"
   ]
  },
  {
   "cell_type": "code",
   "execution_count": 27,
   "metadata": {},
   "outputs": [
    {
     "name": "stdout",
     "output_type": "stream",
     "text": [
      "shape: torch.Size([2, 3, 4])\n",
      "size: torch.Size([2, 3, 4])\n",
      "size: 2 3 4\n"
     ]
    }
   ],
   "source": [
    "shape = x.shape\n",
    "print(\"shape:\",x.shape)\n",
    "\n",
    "size = x.size()\n",
    "print(\"size:\",size)\n",
    "\n",
    "dim1,dim2,dim3 = x.size()\n",
    "print(\"size:\", dim1,dim2,dim3)"
   ]
  },
  {
   "cell_type": "code",
   "execution_count": 32,
   "metadata": {},
   "outputs": [
    {
     "name": "stdout",
     "output_type": "stream",
     "text": [
      "tensor([[0.8196, 0.9297, 0.4505],\n",
      "        [0.3881, 0.5073, 0.4701]]) tensor([[0.6202, 0.6401, 0.0459],\n",
      "        [0.3155, 0.9211, 0.6948]]) tensor([[1.4398, 1.5698, 0.4964],\n",
      "        [0.7035, 1.4284, 1.1649]])\n"
     ]
    }
   ],
   "source": [
    "x1 = torch.rand(2,3)\n",
    "x2 = torch.rand(2,3)\n",
    "\n",
    "y = x1+x2\n",
    "print(x1,x2,y)"
   ]
  },
  {
   "cell_type": "code",
   "execution_count": 38,
   "metadata": {},
   "outputs": [
    {
     "name": "stdout",
     "output_type": "stream",
     "text": [
      "x1:(before): tensor([[0.4118, 0.2576, 0.3470],\n",
      "        [0.0240, 0.7797, 0.1519]])\n",
      "x2:(before): tensor([[0.7513, 0.7269, 0.8572],\n",
      "        [0.1165, 0.8596, 0.2636]])\n",
      "x3:(before): tensor([[1, 2, 3],\n",
      "        [4, 5, 6]])\n",
      "x1:(after): tensor([[0.4118, 0.2576, 0.3470],\n",
      "        [0.0240, 0.7797, 0.1519]])\n",
      "x2:(after): tensor([[1.1631, 0.9845, 1.2042],\n",
      "        [0.1405, 1.6393, 0.4155]])\n",
      "x3:(after): tensor([[1, 2, 3],\n",
      "        [4, 5, 6]])\n"
     ]
    }
   ],
   "source": [
    "x1 = torch.rand(2,3)\n",
    "x2 = torch.rand(2,3)\n",
    "x3 = torch.tensor([[1,2,3],[4,5,6]])\n",
    "\n",
    "print(\"x1:(before):\",x1)\n",
    "print(\"x2:(before):\",x2)\n",
    "print(\"x3:(before):\",x3)\n",
    "\n",
    "\n",
    "x2.add_(x1)\n",
    "x3.add(x1)\n",
    "print(\"x1:(after):\",x1)  \n",
    "print(\"x2:(after):\",x2)\n",
    "print(\"x3:(after):\",x3)\n",
    "\n",
    "#x2.add(x1)이라는 명령어는 오류는 안나오는데 실질적으로 기능을 못하는 명령어\n",
    "\n"
   ]
  },
  {
   "cell_type": "code",
   "execution_count": 40,
   "metadata": {},
   "outputs": [
    {
     "name": "stdout",
     "output_type": "stream",
     "text": [
      "x: tensor([0, 1, 2, 3, 4, 5])\n"
     ]
    }
   ],
   "source": [
    "x = torch.arange(6)\n",
    "print(\"x:\",x)"
   ]
  },
  {
   "cell_type": "code",
   "execution_count": 42,
   "metadata": {},
   "outputs": [
    {
     "name": "stdout",
     "output_type": "stream",
     "text": [
      "x: tensor([[0, 1, 2],\n",
      "        [3, 4, 5]])\n"
     ]
    }
   ],
   "source": [
    "x = x.view(2,3)\n",
    "print(\"x:\",x)"
   ]
  },
  {
   "cell_type": "code",
   "execution_count": 47,
   "metadata": {},
   "outputs": [
    {
     "name": "stdout",
     "output_type": "stream",
     "text": [
      "X: tensor([[0, 1, 2],\n",
      "        [3, 4, 5]])\n"
     ]
    }
   ],
   "source": [
    "x = x.permute(1,0) #swaapping dimension 0 and 1 #  차원 축을 바꿔줌\n",
    "print(\"X:\",x)"
   ]
  },
  {
   "cell_type": "code",
   "execution_count": 49,
   "metadata": {},
   "outputs": [
    {
     "name": "stdout",
     "output_type": "stream",
     "text": [
      "tensor([[0, 1, 2],\n",
      "        [3, 4, 5]])\n"
     ]
    }
   ],
   "source": [
    "x = torch.arange(6)\n",
    "x = x.view(2,3)\n",
    "print(x)"
   ]
  },
  {
   "cell_type": "code",
   "execution_count": 51,
   "metadata": {},
   "outputs": [
    {
     "name": "stdout",
     "output_type": "stream",
     "text": [
      "tensor([[0, 1, 2],\n",
      "        [3, 4, 5],\n",
      "        [6, 7, 8]])\n"
     ]
    }
   ],
   "source": [
    "w = torch.arange(9).view(3,3)\n",
    "print(w)"
   ]
  },
  {
   "cell_type": "code",
   "execution_count": 53,
   "metadata": {},
   "outputs": [
    {
     "name": "stdout",
     "output_type": "stream",
     "text": [
      "tensor([[15, 18, 21],\n",
      "        [42, 54, 66]])\n"
     ]
    }
   ],
   "source": [
    "h = torch.matmul(x,w) # 일반적인 행렬곱\n",
    "print(h)"
   ]
  },
  {
   "cell_type": "code",
   "execution_count": 84,
   "metadata": {},
   "outputs": [
    {
     "name": "stdout",
     "output_type": "stream",
     "text": [
      "x tensor([[ 0,  1,  2,  3],\n",
      "        [ 4,  5,  6,  7],\n",
      "        [ 8,  9, 10, 11]])\n"
     ]
    }
   ],
   "source": [
    "x = torch.arange(12).view(3,4)\n",
    "print(\"x\",x)"
   ]
  },
  {
   "cell_type": "code",
   "execution_count": 85,
   "metadata": {},
   "outputs": [
    {
     "name": "stdout",
     "output_type": "stream",
     "text": [
      "tensor([4, 5, 6, 7])\n",
      "tensor([4, 5, 6, 7])\n",
      "tensor([1, 5, 9])\n"
     ]
    }
   ],
   "source": [
    "print(x[1,:]) , print(x[1]) # 1행 출력\n",
    "print(x[:,1]) # 1열 출력"
   ]
  },
  {
   "cell_type": "code",
   "execution_count": 86,
   "metadata": {},
   "outputs": [
    {
     "name": "stdout",
     "output_type": "stream",
     "text": [
      "tensor([[ 6,  7],\n",
      "        [10, 11]])\n"
     ]
    }
   ],
   "source": [
    "print(x[1:3,2:])"
   ]
  },
  {
   "cell_type": "code",
   "execution_count": 87,
   "metadata": {},
   "outputs": [
    {
     "name": "stdout",
     "output_type": "stream",
     "text": [
      "False\n"
     ]
    }
   ],
   "source": [
    "x = torch.ones((3,))\n",
    "print(x.requires_grad)"
   ]
  },
  {
   "cell_type": "code",
   "execution_count": 88,
   "metadata": {},
   "outputs": [
    {
     "name": "stdout",
     "output_type": "stream",
     "text": [
      "True\n"
     ]
    }
   ],
   "source": [
    "x.requires_grad_(True)\n",
    "print(x.requires_grad)"
   ]
  },
  {
   "cell_type": "code",
   "execution_count": 15,
   "metadata": {},
   "outputs": [
    {
     "name": "stdout",
     "output_type": "stream",
     "text": [
      "tensor([0.5586, 0.2975, 0.6916], requires_grad=True)\n"
     ]
    }
   ],
   "source": [
    "x = torch.randn(3,dtype=torch.float32,requires_grad=True)\n",
    "print(x)"
   ]
  },
  {
   "cell_type": "code",
   "execution_count": 23,
   "metadata": {},
   "outputs": [
    {
     "name": "stdout",
     "output_type": "stream",
     "text": [
      "tensor(9.3565, grad_fn=<MeanBackward0>)\n"
     ]
    }
   ],
   "source": [
    "a = x + 2\n",
    "b = a**2\n",
    "c = b + 3\n",
    "y = c.mean()\n",
    "print(y)\n"
   ]
  },
  {
   "cell_type": "code",
   "execution_count": 24,
   "metadata": {},
   "outputs": [
    {
     "data": {
      "text/plain": [
       "<MeanBackward0 at 0x1b2f1035e80>"
      ]
     },
     "execution_count": 24,
     "metadata": {},
     "output_type": "execute_result"
    }
   ],
   "source": [
    "y.grad_fn"
   ]
  },
  {
   "cell_type": "code",
   "execution_count": 19,
   "metadata": {},
   "outputs": [],
   "source": [
    "y.backward()"
   ]
  },
  {
   "cell_type": "code",
   "execution_count": 25,
   "metadata": {},
   "outputs": [
    {
     "name": "stdout",
     "output_type": "stream",
     "text": [
      "tensor([1.7057, 1.5317, 1.7944])\n"
     ]
    }
   ],
   "source": [
    "print(x.grad)"
   ]
  },
  {
   "cell_type": "code",
   "execution_count": 76,
   "metadata": {},
   "outputs": [
    {
     "name": "stdout",
     "output_type": "stream",
     "text": [
      "False\n"
     ]
    }
   ],
   "source": [
    "gpu_avail = torch.cuda.is_available()\n",
    "print(gpu_avail)"
   ]
  },
  {
   "cell_type": "code",
   "execution_count": 78,
   "metadata": {},
   "outputs": [
    {
     "name": "stdout",
     "output_type": "stream",
     "text": [
      "cpu\n"
     ]
    }
   ],
   "source": [
    "device = torch.device(\"cuda\") if torch.cuda.is_available() else torch.device('cpu')\n",
    "print(device)"
   ]
  },
  {
   "cell_type": "code",
   "execution_count": 80,
   "metadata": {},
   "outputs": [
    {
     "name": "stdout",
     "output_type": "stream",
     "text": [
      "tensor([[0., 0., 0.],\n",
      "        [0., 0., 0.]])\n"
     ]
    }
   ],
   "source": [
    "x = torch.zeros(2,3)\n",
    "x = x.to(device)\n",
    "print(x)"
   ]
  },
  {
   "cell_type": "code",
   "execution_count": 81,
   "metadata": {},
   "outputs": [],
   "source": [
    "if torch.cuda.is_available():\n",
    "    torch.cuda.manual_seed(42)\n",
    "    torch.cuda.manual_seed_all(42)\n",
    "\n",
    "    torch.backends.cudnn.deterministic = True\n",
    "    torch.backends.cudnn.benchmark = False"
   ]
  },
  {
   "cell_type": "code",
   "execution_count": 26,
   "metadata": {},
   "outputs": [],
   "source": [
    "###pytorch Part 2"
   ]
  },
  {
   "cell_type": "code",
   "execution_count": 28,
   "metadata": {},
   "outputs": [],
   "source": [
    "import torch.nn as nn\n",
    "import torch.nn.functional as F"
   ]
  },
  {
   "cell_type": "code",
   "execution_count": 36,
   "metadata": {},
   "outputs": [],
   "source": [
    "class Mymodule(nn.Module):\n",
    "\n",
    "    def __init__(self):\n",
    "        super.__init__()\n",
    "        #some init for my module\n",
    "    \n",
    "    def forward(self,x):\n",
    "        pass\n",
    "        #Function for performing the calculation of the module\n",
    "        \n",
    "    #def backward()\n",
    "    #backward의 경우에는 자동으로 실행되고, 필요에 따라 내가 직접 정의할 수 있음."
   ]
  },
  {
   "cell_type": "code",
   "execution_count": 54,
   "metadata": {},
   "outputs": [],
   "source": [
    "class SimpleClassifier(nn.Module):\n",
    "\n",
    "    def __init__(self, num_inputs, num_hidden,num_outputs):\n",
    "        super().__init__()\n",
    "        # Initialize the module we need to build the network\n",
    "        self.linear1 = nn.Linear(num_inputs,num_hidden)\n",
    "        # input을 받아주는 layer\n",
    "        self.act_func = nn.Tanh()\n",
    "        # activation 함수 ## 근데 activation layer의 노드 수가 4개인데 이거는 설정을 어떻게 하는거지?\n",
    "                            ## 이건은 num_hidden이 결정하는 것!\n",
    "                            ## hidden Layer의 수가 여럿인데, 노드 수를 다르게 하고 싶을땐 어카지?\n",
    "        self.linear2 = nn.Linear(num_inputs,num_hidden)\n",
    "        # output\n",
    "\n",
    "    def forward(self,x):\n",
    "        # perform the calculation of the model to determine the prediction\n",
    "        x = self.linear1(x)\n",
    "        x = self.act_func(x)\n",
    "        x = self.linear2(x)\n",
    "\n",
    "        # x에 대한 식을 한줄로 써도 문제는 없지만 보기 불편하고, 이해하기 어려울 수 있으므로, 이렇게 쓰는게 나음\n",
    "\n",
    "        return x        "
   ]
  },
  {
   "cell_type": "code",
   "execution_count": 55,
   "metadata": {},
   "outputs": [
    {
     "name": "stdout",
     "output_type": "stream",
     "text": [
      "SimpleClassifier(\n",
      "  (linear1): Linear(in_features=2, out_features=4, bias=True)\n",
      "  (act_func): Tanh()\n",
      "  (linear2): Linear(in_features=2, out_features=4, bias=True)\n",
      ")\n"
     ]
    }
   ],
   "source": [
    "model = SimpleClassifier(num_inputs=2,num_hidden=4,num_outputs=1)\n",
    "# printing a module shows all its submodule\n",
    "print(model)"
   ]
  },
  {
   "cell_type": "code",
   "execution_count": 57,
   "metadata": {},
   "outputs": [
    {
     "name": "stdout",
     "output_type": "stream",
     "text": [
      "parameter linear1.weight, shape torch.Size([4, 2])\n",
      "parameter linear1.bias, shape torch.Size([4])\n",
      "parameter linear2.weight, shape torch.Size([4, 2])\n",
      "parameter linear2.bias, shape torch.Size([4])\n"
     ]
    }
   ],
   "source": [
    "for name,param in model.named_parameters():\n",
    "    print(\"parameter %s, shape %s\" % (name, str(param.shape)))\n",
    "    #   %s는 .format이랑 비슷한 기능해줌."
   ]
  },
  {
   "cell_type": "code",
   "execution_count": 66,
   "metadata": {},
   "outputs": [],
   "source": [
    "import torch.utils.data as data"
   ]
  },
  {
   "cell_type": "code",
   "execution_count": 68,
   "metadata": {},
   "outputs": [
    {
     "data": {
      "text/plain": [
       "torch.utils.data.dataset.Dataset"
      ]
     },
     "execution_count": 68,
     "metadata": {},
     "output_type": "execute_result"
    }
   ],
   "source": [
    "data.Dataset"
   ]
  },
  {
   "cell_type": "code",
   "execution_count": 97,
   "metadata": {},
   "outputs": [
    {
     "name": "stdout",
     "output_type": "stream",
     "text": [
      "tensor([[0, 1],\n",
      "        [1, 0],\n",
      "        [1, 0]])\n",
      "tensor([1, 1, 1])\n",
      "tensor([True, True, True])\n"
     ]
    },
    {
     "data": {
      "text/plain": [
       "tensor([1, 1, 1])"
      ]
     },
     "execution_count": 97,
     "metadata": {},
     "output_type": "execute_result"
    }
   ],
   "source": [
    "x = torch.randint(low = 0, high = 2,size =(3,2))\n",
    "print(x)\n",
    "print(x.sum(dim = 1)) # 행끼리의 합\n",
    "# print(x.sum(dim = 0)) # 열끼리의 합\n",
    "\n",
    "# print(x.to(torch.long)) # datatype을 변경해주는 작업\n",
    "\n",
    "print(x.sum(dim = 1) == 1)# 행의 sum이 1이냐?\n",
    "(x.sum(dim = 1) == 1).to(torch.long)"
   ]
  },
  {
   "cell_type": "code",
   "execution_count": 163,
   "metadata": {},
   "outputs": [],
   "source": [
    "class XORDataset(data.Dataset): #data.Dataset를 상속받음\n",
    "    def __init__(self,size,std = 0.1):\n",
    "        \"\"\"\n",
    "            inputs :\n",
    "                size - Number of data points we want to generate\n",
    "                std - Standard deviation of the noise ( see generate_continuous_xor function)\n",
    "    \n",
    "        \"\"\"\n",
    "        super().__init__()\n",
    "        self.size = size\n",
    "        self.std = std\n",
    "        self.generate_continuous_xor()\n",
    "\n",
    "    def generate_continuous_xor(self):\n",
    "\n",
    "        # Each data point int he XOR dataset has two variables, x and y, that can be either 0 or 1\n",
    "        # the label is their XOR combination, i.e. 1 if iobly x or only y is 1 while the other is 0\n",
    "        # if x = y, the label is 0\n",
    "\n",
    "        data = torch.randint(low = 0,high = 2,size = (self.size,2),dtype = torch.float32)\n",
    "        label = (data.sum(dim = 1) == 1 ).to(torch.long)\n",
    "        # data.sum(dim = 1) == 1 : xor을 boolen값으로 나타내는 작업\n",
    "        # data를 열끼리 더한 값이 boolen형태의 값으로 출력이 되면, 그것을 숫자형으로 바꿔서 0 or 1로 나타나게 만든다.\n",
    "        \n",
    "        # To make it slightly more challenging, we add a bit of gaussian noise to the data points\n",
    "\n",
    "        data += self.std * torch.randn(data.shape)\n",
    "\n",
    "        self.data =  data\n",
    "        self.label = label\n",
    "    \n",
    "    def __len__(self):\n",
    "\n",
    "        # number of data point we have. alternatively self.data.shaoe[0], or self.label.shape[0]\n",
    "\n",
    "        return self.size\n",
    "\n",
    "    def __getitem__(self,idx):\n",
    "        \n",
    "        # index를 사용할 수 있도록 해주는 내장함수!\n",
    "\n",
    "        data_point = self.data[idx]\n",
    "        data_label = self.label[idx]\n",
    "        return data_point , data_label\n",
    "\n"
   ]
  },
  {
   "cell_type": "code",
   "execution_count": 164,
   "metadata": {},
   "outputs": [
    {
     "name": "stdout",
     "output_type": "stream",
     "text": [
      "size of data: 200\n"
     ]
    },
    {
     "data": {
      "text/plain": [
       "(tensor([0.8996, 0.1029]), tensor(1))"
      ]
     },
     "execution_count": 164,
     "metadata": {},
     "output_type": "execute_result"
    }
   ],
   "source": [
    "dataset = XORDataset(size = 200)\n",
    "print(\"size of data:\",len(dataset))\n",
    "\n",
    "dataset[0]"
   ]
  },
  {
   "cell_type": "code",
   "execution_count": 177,
   "metadata": {},
   "outputs": [],
   "source": [
    "x = dataset[:][0][0:,0]\n",
    "y = dataset[:][0][0:,1]\n",
    "# dataset.data\n",
    "\n",
    "label = dataset[:][1]\n",
    "# dataset.label"
   ]
  },
  {
   "cell_type": "code",
   "execution_count": 182,
   "metadata": {},
   "outputs": [
    {
     "data": {
      "text/plain": [
       "array([[ 8.99552166e-01,  1.02852322e-01],\n",
       "       [ 1.03635728e-01,  8.44623029e-01],\n",
       "       [ 1.04918468e+00,  8.60425293e-01],\n",
       "       [ 1.20688617e+00, -1.65170301e-02],\n",
       "       [ 9.92980361e-01,  9.93060827e-01],\n",
       "       [ 5.96949272e-02,  8.12127650e-01],\n",
       "       [ 1.04441476e+00, -1.23031162e-01],\n",
       "       [ 9.14071620e-01,  9.30231690e-01],\n",
       "       [ 1.03063059e+00, -2.28522643e-02],\n",
       "       [ 1.24195564e+00,  9.33152497e-01],\n",
       "       [-7.31098726e-02,  8.06237981e-02],\n",
       "       [ 9.24916506e-01,  7.23335892e-02],\n",
       "       [ 1.66555587e-02,  9.94252086e-01],\n",
       "       [ 1.12952888e+00,  9.91548955e-01],\n",
       "       [-1.06799928e-02, -2.39567637e-01],\n",
       "       [ 1.04517889e+00,  8.75410020e-01],\n",
       "       [ 9.82279599e-01,  1.12441921e+00],\n",
       "       [ 8.76499295e-01,  2.35644132e-02],\n",
       "       [ 9.08917487e-01,  6.41666993e-04],\n",
       "       [ 7.93375909e-01,  2.45077252e-01],\n",
       "       [ 1.06339264e+00,  1.40193105e-01],\n",
       "       [ 1.04184294e+00,  2.27412907e-03],\n",
       "       [-8.44313726e-02,  9.99691904e-01],\n",
       "       [ 1.60296988e-02,  9.22946572e-01],\n",
       "       [ 8.60735118e-01,  8.81391525e-01],\n",
       "       [ 2.64236599e-01,  1.79434940e-01],\n",
       "       [ 1.05998874e+00,  1.03186107e+00],\n",
       "       [ 1.17463090e-01,  2.01607700e-02],\n",
       "       [-1.58765335e-02,  1.03253233e+00],\n",
       "       [ 1.05938137e+00, -4.59736586e-02],\n",
       "       [ 1.11042857e+00,  9.22779202e-01],\n",
       "       [ 6.99075684e-02,  1.53296605e-01],\n",
       "       [ 1.36305660e-01,  1.75026841e-02],\n",
       "       [-2.69693732e-02, -1.90866470e-01],\n",
       "       [ 8.31025004e-01, -7.94599131e-02],\n",
       "       [-1.48624808e-01,  9.27271605e-01],\n",
       "       [ 9.80601847e-01,  1.00565672e+00],\n",
       "       [ 1.08633435e+00,  1.03465676e+00],\n",
       "       [ 9.39534128e-01,  1.03598595e+00],\n",
       "       [ 9.94206011e-01, -1.37073800e-01],\n",
       "       [ 8.92989933e-01,  1.02596962e+00],\n",
       "       [-2.66493000e-02, -5.99630736e-02],\n",
       "       [ 1.04798305e+00,  1.03636920e+00],\n",
       "       [ 9.80685174e-01,  1.11487198e+00],\n",
       "       [ 1.02478194e+00,  8.58216524e-01],\n",
       "       [ 1.07228339e-01,  1.04367578e+00],\n",
       "       [-1.26857281e-01,  9.20171365e-02],\n",
       "       [ 1.03266753e-01, -3.35032605e-02],\n",
       "       [ 3.16335976e-01,  1.06730068e+00],\n",
       "       [ 9.30476308e-01,  9.46113646e-01],\n",
       "       [-9.73290280e-02, -5.73991938e-03],\n",
       "       [-2.30999645e-02, -1.14766158e-01],\n",
       "       [-1.04692467e-02,  1.14099717e+00],\n",
       "       [ 8.95890176e-01,  9.97344851e-01],\n",
       "       [ 7.97483861e-01, -5.18828817e-02],\n",
       "       [ 9.58539486e-01,  4.63529266e-02],\n",
       "       [ 9.98667002e-01,  8.64986479e-01],\n",
       "       [ 9.63536441e-01,  9.12591994e-01],\n",
       "       [ 1.02858353e+00,  1.06820500e+00],\n",
       "       [ 8.63820493e-01,  1.08935165e+00],\n",
       "       [ 1.08590341e+00,  1.05638707e+00],\n",
       "       [ 3.30797248e-02,  9.94030356e-01],\n",
       "       [ 1.17211401e+00, -8.95679146e-02],\n",
       "       [-4.30124961e-02,  8.33469331e-01],\n",
       "       [-6.51874468e-02, -4.45672683e-02],\n",
       "       [-2.11371973e-01,  8.04224074e-01],\n",
       "       [ 9.07998458e-02, -1.79203033e-01],\n",
       "       [-9.87153873e-02, -1.07688032e-01],\n",
       "       [ 8.92719328e-01,  1.11521387e+00],\n",
       "       [ 9.14035067e-02,  9.45647836e-01],\n",
       "       [ 9.16631818e-02,  7.61819109e-02],\n",
       "       [-4.92379665e-02,  6.46139383e-02],\n",
       "       [ 1.35727515e-02, -9.90361720e-02],\n",
       "       [ 1.08506501e+00,  1.73957404e-02],\n",
       "       [-7.20423386e-02,  1.09920144e+00],\n",
       "       [ 1.04179704e+00, -1.33602127e-01],\n",
       "       [ 8.86643112e-01, -5.47408164e-02],\n",
       "       [ 1.14867723e+00,  1.02750921e+00],\n",
       "       [ 9.82297003e-01,  8.34935308e-01],\n",
       "       [ 1.22137807e-01,  1.07502866e+00],\n",
       "       [ 1.41530424e-01, -3.84752080e-02],\n",
       "       [-5.70114097e-03,  1.00722075e+00],\n",
       "       [ 6.14790395e-02,  5.67042120e-02],\n",
       "       [ 1.02035797e+00,  1.09160411e+00],\n",
       "       [ 1.07305706e+00, -4.69806744e-03],\n",
       "       [ 1.85790739e-03,  8.86250436e-01],\n",
       "       [ 9.87701178e-01, -5.87617122e-02],\n",
       "       [ 9.96718705e-02,  9.69085515e-01],\n",
       "       [ 1.97444391e-02, -2.75151711e-02],\n",
       "       [ 1.11610961e+00,  9.47408080e-01],\n",
       "       [ 9.38996196e-01,  1.05711794e+00],\n",
       "       [ 1.14359438e+00,  1.55231044e-01],\n",
       "       [-1.08494740e-02,  8.95056501e-03],\n",
       "       [ 8.94441247e-01,  1.03355134e+00],\n",
       "       [ 8.32035840e-01,  9.71987069e-01],\n",
       "       [ 1.03123021e+00,  1.11230230e+00],\n",
       "       [ 9.88268614e-01,  9.28475082e-01],\n",
       "       [-5.01696765e-02,  1.07616365e+00],\n",
       "       [ 2.68070906e-01,  9.66350675e-01],\n",
       "       [ 9.90989447e-01,  9.71403837e-01],\n",
       "       [ 1.02303314e+00,  8.67706478e-01],\n",
       "       [ 9.86647785e-01, -5.72470240e-02],\n",
       "       [-1.17396049e-01,  1.04369211e+00],\n",
       "       [-1.79566499e-02,  8.01024884e-02],\n",
       "       [ 1.24642599e+00,  1.06843793e+00],\n",
       "       [ 9.74600971e-01,  9.32496309e-01],\n",
       "       [-1.82739291e-02,  8.99590313e-01],\n",
       "       [-8.83505270e-02,  1.13761592e+00],\n",
       "       [ 1.10642505e+00,  1.04851878e+00],\n",
       "       [-6.97716773e-02,  2.79538929e-02],\n",
       "       [ 2.24697545e-01, -8.61824080e-02],\n",
       "       [-1.58124760e-01,  1.18930221e+00],\n",
       "       [-1.08220853e-01,  7.33073503e-02],\n",
       "       [ 1.02012467e+00,  7.99144730e-02],\n",
       "       [ 8.69877517e-01,  1.15017509e+00],\n",
       "       [-5.68527579e-02,  3.05580534e-02],\n",
       "       [ 1.69037268e-01, -4.07981537e-02],\n",
       "       [ 1.04842043e+00,  1.11637592e+00],\n",
       "       [ 1.23940814e+00,  7.45081604e-01],\n",
       "       [ 1.02344358e+00,  1.00787950e+00],\n",
       "       [ 1.60234109e-01,  1.23650026e+00],\n",
       "       [ 4.45092730e-02,  1.10169566e+00],\n",
       "       [ 9.83370483e-01, -5.95108345e-02],\n",
       "       [-1.10260002e-01,  9.86620411e-02],\n",
       "       [ 7.26127550e-02,  9.80512619e-01],\n",
       "       [-6.56624977e-03,  7.06469715e-02],\n",
       "       [ 8.12897384e-02,  1.03987169e+00],\n",
       "       [ 1.06321357e-01,  3.87629494e-02],\n",
       "       [ 1.77247331e-01, -1.75083261e-02],\n",
       "       [ 1.52337536e-01,  1.00112319e+00],\n",
       "       [-4.18165289e-02,  1.21882200e+00],\n",
       "       [-1.02062836e-01,  1.53258711e-01],\n",
       "       [ 8.95449102e-01,  1.09927344e+00],\n",
       "       [ 1.19465005e+00,  1.05408049e+00],\n",
       "       [ 1.12061612e-01,  1.93425771e-02],\n",
       "       [ 1.00395441e+00,  8.15336347e-01],\n",
       "       [ 9.81821656e-01,  9.90497708e-01],\n",
       "       [-9.53775924e-03,  8.89360249e-01],\n",
       "       [ 6.65411875e-02, -1.13856971e-01],\n",
       "       [-1.97281763e-01,  1.04775000e+00],\n",
       "       [-3.04064490e-02,  9.84380126e-01],\n",
       "       [ 1.03079450e+00, -1.71701118e-01],\n",
       "       [ 8.58950540e-02, -1.04958273e-01],\n",
       "       [ 1.10113132e+00, -7.05003133e-03],\n",
       "       [ 1.11550188e+00,  1.00377786e+00],\n",
       "       [ 7.65223755e-04,  2.09269717e-01],\n",
       "       [-1.99195426e-02, -7.10663572e-02],\n",
       "       [-1.04856625e-01,  2.30504517e-02],\n",
       "       [-1.11412192e-02,  2.15220880e-02],\n",
       "       [-4.42766398e-02,  4.87834252e-02],\n",
       "       [ 1.02710414e+00,  1.01098788e+00],\n",
       "       [ 2.05374241e-01,  1.02286720e+00],\n",
       "       [ 1.65996198e-02,  9.62069094e-01],\n",
       "       [ 1.58829521e-02,  1.14957500e+00],\n",
       "       [ 8.97431374e-01, -9.74891987e-03],\n",
       "       [-2.71981116e-02,  8.48272562e-01],\n",
       "       [ 1.29867345e-01,  2.44941544e-02],\n",
       "       [ 1.18727362e+00,  1.00978911e+00],\n",
       "       [ 8.93721044e-01,  2.20637210e-02],\n",
       "       [-1.35805011e-02,  9.57562253e-02],\n",
       "       [ 1.12945330e+00, -1.13735460e-01],\n",
       "       [ 9.96515810e-01, -5.31384908e-02],\n",
       "       [ 9.86555159e-01,  1.11733949e+00],\n",
       "       [ 9.49121594e-01,  9.97902095e-01],\n",
       "       [ 9.18868482e-01,  8.46659362e-01],\n",
       "       [ 1.84646398e-01,  1.71878442e-01],\n",
       "       [-1.15506805e-01, -1.06028967e-01],\n",
       "       [-7.81622753e-02, -2.35901758e-01],\n",
       "       [ 6.30187169e-02,  1.20507531e-01],\n",
       "       [ 6.48940727e-02,  1.06698871e+00],\n",
       "       [-9.99321863e-02,  9.76959169e-01],\n",
       "       [ 1.02564025e+00,  9.88899052e-01],\n",
       "       [ 1.04380167e+00,  1.53249800e-01],\n",
       "       [-1.63633451e-01, -8.27006437e-03],\n",
       "       [ 9.44736481e-01,  8.61239508e-02],\n",
       "       [ 4.28863196e-03,  1.00754905e+00],\n",
       "       [ 1.46989003e-01,  1.97950359e-02],\n",
       "       [ 1.78357735e-01,  1.04151025e-01],\n",
       "       [ 9.57822204e-01,  6.91251680e-02],\n",
       "       [-1.21098988e-01,  1.07477605e+00],\n",
       "       [ 1.01963878e+00,  2.89868955e-02],\n",
       "       [ 1.09089398e+00, -1.67753652e-01],\n",
       "       [ 8.76861736e-02,  7.26561844e-02],\n",
       "       [ 1.06341159e+00, -1.14046447e-01],\n",
       "       [ 1.15116000e+00,  7.46969357e-02],\n",
       "       [ 1.19891226e+00,  1.03203499e+00],\n",
       "       [ 1.10698354e+00,  1.50049552e-01],\n",
       "       [ 7.81606659e-02, -3.94376442e-02],\n",
       "       [-2.81875562e-02,  1.06219769e+00],\n",
       "       [-6.93944935e-03, -2.10123844e-02],\n",
       "       [ 9.81829464e-01,  1.12646580e+00],\n",
       "       [-4.67357002e-02,  2.68779665e-01],\n",
       "       [-1.59413218e-01,  9.92113233e-01],\n",
       "       [ 1.05211914e+00,  1.09400475e+00],\n",
       "       [ 9.68742073e-01, -6.66462723e-03],\n",
       "       [ 1.09811652e+00,  1.17814565e+00],\n",
       "       [ 9.95481193e-01,  9.86004174e-01],\n",
       "       [ 9.67186332e-01, -1.61827952e-01],\n",
       "       [-7.07495138e-02, -2.04994634e-01],\n",
       "       [ 8.60462487e-02,  9.93120015e-01]], dtype=float32)"
      ]
     },
     "execution_count": 182,
     "metadata": {},
     "output_type": "execute_result"
    }
   ],
   "source": [
    "dataset.data.cpu().numpy()\n",
    "# https://byeongjo-kim.tistory.com/32\n",
    "# .cpu()는 gpu에 있는 데이터를 cpu로 복사해서 가져오는것을 이야기한다.\n"
   ]
  },
  {
   "cell_type": "code",
   "execution_count": 171,
   "metadata": {},
   "outputs": [],
   "source": [
    "def visualize_sample(data,label):\n",
    "    if isinstance(data,torch.Tensor):\n",
    "        # isinstance(data,dtype) -> 가져온 데이터 타입이 입력학 dtype과 같으면 True, 아니면 False\n",
    "        # GPU로 부터 tensor를 가져와서 CPU에 복사한 뒤에, numpy로 변환한다.\n",
    "        data = data.cpu().numpy()\n",
    "    \n",
    "    if isinstance(label,torch.Tensor):\n",
    "        label = label.cpu().numpy()\n",
    "    \n",
    "    data_0 = data[label == 0]\n",
    "    data_1 = data[label == 1]\n",
    "\n",
    "    plt.figure(figsize=(4,4))\n",
    "    plt.scatter(data_0[:,0], data_0[:,1], edgecolor=\"#333\", label = \"Class 0\")\n",
    "    plt.scatter(data_1[:,0], data_1[:,1], edgecolor=\"#333\", label = \"Class 1\")    \n",
    "\n",
    "    plt.title(\"Dataset_samples\")\n",
    "    plt.ylabel(r\"$x_2$\")\n",
    "    plt.xlabel(r\"$x_1$\")\n",
    "    plt.legend()\n",
    "\n",
    "\n"
   ]
  },
  {
   "cell_type": "code",
   "execution_count": 172,
   "metadata": {},
   "outputs": [
    {
     "data": {
      "application/pdf": "[encoded data removed]",
      "image/svg+xml": "<?xml version=\"1.0\" encoding=\"utf-8\" standalone=\"no\"?>\r\n<!DOCTYPE svg PUBLIC \"-//W3C//DTD SVG 1.1//EN\"\r\n  \"http://www.w3.org/Graphics/SVG/1.1/DTD/svg11.dtd\">\r\n<!-- Created with matplotlib (https://matplotlib.org/) -->\r\n<svg height=\"280.963594pt\" version=\"1.1\" viewBox=\"0 0 283.789063 280.963594\" width=\"283.789063pt\" xmlns=\"http://www.w3.org/2000/svg\" xmlns:xlink=\"http://www.w3.org/1999/xlink\">\r\n <defs>\r\n  <style type=\"text/css\">\r\n*{stroke-linecap:butt;stroke-linejoin:round;}\r\n  </style>\r\n </defs>\r\n <g id=\"figure_1\">\r\n  <g id=\"patch_1\">\r\n   <path d=\"M 0 280.963594 \r\nL 283.789063 280.963594 \r\nL 283.789063 0 \r\nL 0 0 \r\nz\r\n\" style=\"fill:#ffffff;\"/>\r\n  </g>\r\n  <g id=\"axes_1\">\r\n   <g id=\"patch_2\">\r\n    <path d=\"M 53.389062 239.229375 \r\nL 276.589063 239.229375 \r\nL 276.589063 21.789375 \r\nL 53.389062 21.789375 \r\nz\r\n\" style=\"fill:#eaeaf2;\"/>\r\n   </g>\r\n   <g id=\"matplotlib.axis_1\">\r\n    <g id=\"xtick_1\">\r\n     <g id=\"line2d_1\">\r\n      <path clip-path=\"url(#p07954842fc)\" d=\"M 92.95512 239.229375 \r\nL 92.95512 21.789375 \r\n\" style=\"fill:none;stroke:#ffffff;stroke-linecap:round;\"/>\r\n     </g>\r\n     <g id=\"text_1\">\r\n      <!-- 0.0 -->\r\n      <defs>\r\n       <path d=\"M 4.15625 35.296875 \r\nQ 4.15625 48 6.765625 55.734375 \r\nQ 9.375 63.484375 14.515625 67.671875 \r\nQ 19.671875 71.875 27.484375 71.875 \r\nQ 33.25 71.875 37.59375 69.546875 \r\nQ 41.9375 67.234375 44.765625 62.859375 \r\nQ 47.609375 58.5 49.21875 52.21875 \r\nQ 50.828125 45.953125 50.828125 35.296875 \r\nQ 50.828125 22.703125 48.234375 14.96875 \r\nQ 45.65625 7.234375 40.5 3 \r\nQ 35.359375 -1.21875 27.484375 -1.21875 \r\nQ 17.140625 -1.21875 11.234375 6.203125 \r\nQ 4.15625 15.140625 4.15625 35.296875 \r\nz\r\nM 13.1875 35.296875 \r\nQ 13.1875 17.671875 17.3125 11.828125 \r\nQ 21.4375 6 27.484375 6 \r\nQ 33.546875 6 37.671875 11.859375 \r\nQ 41.796875 17.71875 41.796875 35.296875 \r\nQ 41.796875 52.984375 37.671875 58.78125 \r\nQ 33.546875 64.59375 27.390625 64.59375 \r\nQ 21.34375 64.59375 17.71875 59.46875 \r\nQ 13.1875 52.9375 13.1875 35.296875 \r\nz\r\n\" id=\"ArialMT-48\"/>\r\n       <path d=\"M 9.078125 0 \r\nL 9.078125 10.015625 \r\nL 19.09375 10.015625 \r\nL 19.09375 0 \r\nz\r\n\" id=\"ArialMT-46\"/>\r\n      </defs>\r\n      <g style=\"fill:#262626;\" transform=\"translate(85.31012 256.602969)scale(0.11 -0.11)\">\r\n       <use xlink:href=\"#ArialMT-48\"/>\r\n       <use x=\"55.615234\" xlink:href=\"#ArialMT-46\"/>\r\n       <use x=\"83.398438\" xlink:href=\"#ArialMT-48\"/>\r\n      </g>\r\n     </g>\r\n    </g>\r\n    <g id=\"xtick_2\">\r\n     <g id=\"line2d_2\">\r\n      <path clip-path=\"url(#p07954842fc)\" d=\"M 162.5495 239.229375 \r\nL 162.5495 21.789375 \r\n\" style=\"fill:none;stroke:#ffffff;stroke-linecap:round;\"/>\r\n     </g>\r\n     <g id=\"text_2\">\r\n      <!-- 0.5 -->\r\n      <defs>\r\n       <path d=\"M 4.15625 18.75 \r\nL 13.375 19.53125 \r\nQ 14.40625 12.796875 18.140625 9.390625 \r\nQ 21.875 6 27.15625 6 \r\nQ 33.5 6 37.890625 10.78125 \r\nQ 42.28125 15.578125 42.28125 23.484375 \r\nQ 42.28125 31 38.0625 35.34375 \r\nQ 33.84375 39.703125 27 39.703125 \r\nQ 22.75 39.703125 19.328125 37.765625 \r\nQ 15.921875 35.84375 13.96875 32.765625 \r\nL 5.71875 33.84375 \r\nL 12.640625 70.609375 \r\nL 48.25 70.609375 \r\nL 48.25 62.203125 \r\nL 19.671875 62.203125 \r\nL 15.828125 42.96875 \r\nQ 22.265625 47.46875 29.34375 47.46875 \r\nQ 38.71875 47.46875 45.15625 40.96875 \r\nQ 51.609375 34.46875 51.609375 24.265625 \r\nQ 51.609375 14.546875 45.953125 7.46875 \r\nQ 39.0625 -1.21875 27.15625 -1.21875 \r\nQ 17.390625 -1.21875 11.203125 4.25 \r\nQ 5.03125 9.71875 4.15625 18.75 \r\nz\r\n\" id=\"ArialMT-53\"/>\r\n      </defs>\r\n      <g style=\"fill:#262626;\" transform=\"translate(154.9045 256.602969)scale(0.11 -0.11)\">\r\n       <use xlink:href=\"#ArialMT-48\"/>\r\n       <use x=\"55.615234\" xlink:href=\"#ArialMT-46\"/>\r\n       <use x=\"83.398438\" xlink:href=\"#ArialMT-53\"/>\r\n      </g>\r\n     </g>\r\n    </g>\r\n    <g id=\"xtick_3\">\r\n     <g id=\"line2d_3\">\r\n      <path clip-path=\"url(#p07954842fc)\" d=\"M 232.14388 239.229375 \r\nL 232.14388 21.789375 \r\n\" style=\"fill:none;stroke:#ffffff;stroke-linecap:round;\"/>\r\n     </g>\r\n     <g id=\"text_3\">\r\n      <!-- 1.0 -->\r\n      <defs>\r\n       <path d=\"M 37.25 0 \r\nL 28.46875 0 \r\nL 28.46875 56 \r\nQ 25.296875 52.984375 20.140625 49.953125 \r\nQ 14.984375 46.921875 10.890625 45.40625 \r\nL 10.890625 53.90625 \r\nQ 18.265625 57.375 23.78125 62.296875 \r\nQ 29.296875 67.234375 31.59375 71.875 \r\nL 37.25 71.875 \r\nz\r\n\" id=\"ArialMT-49\"/>\r\n      </defs>\r\n      <g style=\"fill:#262626;\" transform=\"translate(224.49888 256.602969)scale(0.11 -0.11)\">\r\n       <use xlink:href=\"#ArialMT-49\"/>\r\n       <use x=\"55.615234\" xlink:href=\"#ArialMT-46\"/>\r\n       <use x=\"83.398438\" xlink:href=\"#ArialMT-48\"/>\r\n      </g>\r\n     </g>\r\n    </g>\r\n    <g id=\"text_4\">\r\n     <!-- $x_1$ -->\r\n     <defs>\r\n      <path d=\"M 60.015625 54.6875 \r\nL 34.90625 27.875 \r\nL 50.296875 0 \r\nL 39.984375 0 \r\nL 28.421875 21.6875 \r\nL 8.296875 0 \r\nL -2.59375 0 \r\nL 24.3125 28.8125 \r\nL 10.015625 54.6875 \r\nL 20.3125 54.6875 \r\nL 30.8125 34.90625 \r\nL 49.125 54.6875 \r\nz\r\n\" id=\"DejaVuSans-Oblique-120\"/>\r\n      <path d=\"M 12.40625 8.296875 \r\nL 28.515625 8.296875 \r\nL 28.515625 63.921875 \r\nL 10.984375 60.40625 \r\nL 10.984375 69.390625 \r\nL 28.421875 72.90625 \r\nL 38.28125 72.90625 \r\nL 38.28125 8.296875 \r\nL 54.390625 8.296875 \r\nL 54.390625 0 \r\nL 12.40625 0 \r\nz\r\n\" id=\"DejaVuSans-49\"/>\r\n     </defs>\r\n     <g style=\"fill:#262626;\" transform=\"translate(158.569063 271.378594)scale(0.12 -0.12)\">\r\n      <use transform=\"translate(0 0.3125)\" xlink:href=\"#DejaVuSans-Oblique-120\"/>\r\n      <use transform=\"translate(59.179688 -16.09375)scale(0.7)\" xlink:href=\"#DejaVuSans-49\"/>\r\n     </g>\r\n    </g>\r\n   </g>\r\n   <g id=\"matplotlib.axis_2\">\r\n    <g id=\"ytick_1\">\r\n     <g id=\"line2d_4\">\r\n      <path clip-path=\"url(#p07954842fc)\" d=\"M 53.389062 224.046902 \r\nL 276.589063 224.046902 \r\n\" style=\"fill:none;stroke:#ffffff;stroke-linecap:round;\"/>\r\n     </g>\r\n     <g id=\"text_5\">\r\n      <!-- −0.2 -->\r\n      <defs>\r\n       <path d=\"M 52.828125 31.203125 \r\nL 5.5625 31.203125 \r\nL 5.5625 39.40625 \r\nL 52.828125 39.40625 \r\nz\r\n\" id=\"ArialMT-8722\"/>\r\n       <path d=\"M 50.34375 8.453125 \r\nL 50.34375 0 \r\nL 3.03125 0 \r\nQ 2.9375 3.171875 4.046875 6.109375 \r\nQ 5.859375 10.9375 9.828125 15.625 \r\nQ 13.8125 20.3125 21.34375 26.46875 \r\nQ 33.015625 36.03125 37.109375 41.625 \r\nQ 41.21875 47.21875 41.21875 52.203125 \r\nQ 41.21875 57.421875 37.46875 61 \r\nQ 33.734375 64.59375 27.734375 64.59375 \r\nQ 21.390625 64.59375 17.578125 60.78125 \r\nQ 13.765625 56.984375 13.71875 50.25 \r\nL 4.6875 51.171875 \r\nQ 5.609375 61.28125 11.65625 66.578125 \r\nQ 17.71875 71.875 27.9375 71.875 \r\nQ 38.234375 71.875 44.234375 66.15625 \r\nQ 50.25 60.453125 50.25 52 \r\nQ 50.25 47.703125 48.484375 43.546875 \r\nQ 46.734375 39.40625 42.65625 34.8125 \r\nQ 38.578125 30.21875 29.109375 22.21875 \r\nQ 21.1875 15.578125 18.9375 13.203125 \r\nQ 16.703125 10.84375 15.234375 8.453125 \r\nz\r\n\" id=\"ArialMT-50\"/>\r\n      </defs>\r\n      <g style=\"fill:#262626;\" transform=\"translate(22.174375 227.983699)scale(0.11 -0.11)\">\r\n       <use xlink:href=\"#ArialMT-8722\"/>\r\n       <use x=\"58.398438\" xlink:href=\"#ArialMT-48\"/>\r\n       <use x=\"114.013672\" xlink:href=\"#ArialMT-46\"/>\r\n       <use x=\"141.796875\" xlink:href=\"#ArialMT-50\"/>\r\n      </g>\r\n     </g>\r\n    </g>\r\n    <g id=\"ytick_2\">\r\n     <g id=\"line2d_5\">\r\n      <path clip-path=\"url(#p07954842fc)\" d=\"M 53.389062 197.263212 \r\nL 276.589063 197.263212 \r\n\" style=\"fill:none;stroke:#ffffff;stroke-linecap:round;\"/>\r\n     </g>\r\n     <g id=\"text_6\">\r\n      <!-- 0.0 -->\r\n      <g style=\"fill:#262626;\" transform=\"translate(28.599062 201.200009)scale(0.11 -0.11)\">\r\n       <use xlink:href=\"#ArialMT-48\"/>\r\n       <use x=\"55.615234\" xlink:href=\"#ArialMT-46\"/>\r\n       <use x=\"83.398438\" xlink:href=\"#ArialMT-48\"/>\r\n      </g>\r\n     </g>\r\n    </g>\r\n    <g id=\"ytick_3\">\r\n     <g id=\"line2d_6\">\r\n      <path clip-path=\"url(#p07954842fc)\" d=\"M 53.389062 170.479521 \r\nL 276.589063 170.479521 \r\n\" style=\"fill:none;stroke:#ffffff;stroke-linecap:round;\"/>\r\n     </g>\r\n     <g id=\"text_7\">\r\n      <!-- 0.2 -->\r\n      <g style=\"fill:#262626;\" transform=\"translate(28.599062 174.416318)scale(0.11 -0.11)\">\r\n       <use xlink:href=\"#ArialMT-48\"/>\r\n       <use x=\"55.615234\" xlink:href=\"#ArialMT-46\"/>\r\n       <use x=\"83.398438\" xlink:href=\"#ArialMT-50\"/>\r\n      </g>\r\n     </g>\r\n    </g>\r\n    <g id=\"ytick_4\">\r\n     <g id=\"line2d_7\">\r\n      <path clip-path=\"url(#p07954842fc)\" d=\"M 53.389062 143.695831 \r\nL 276.589063 143.695831 \r\n\" style=\"fill:none;stroke:#ffffff;stroke-linecap:round;\"/>\r\n     </g>\r\n     <g id=\"text_8\">\r\n      <!-- 0.4 -->\r\n      <defs>\r\n       <path d=\"M 32.328125 0 \r\nL 32.328125 17.140625 \r\nL 1.265625 17.140625 \r\nL 1.265625 25.203125 \r\nL 33.9375 71.578125 \r\nL 41.109375 71.578125 \r\nL 41.109375 25.203125 \r\nL 50.78125 25.203125 \r\nL 50.78125 17.140625 \r\nL 41.109375 17.140625 \r\nL 41.109375 0 \r\nz\r\nM 32.328125 25.203125 \r\nL 32.328125 57.46875 \r\nL 9.90625 25.203125 \r\nz\r\n\" id=\"ArialMT-52\"/>\r\n      </defs>\r\n      <g style=\"fill:#262626;\" transform=\"translate(28.599062 147.632628)scale(0.11 -0.11)\">\r\n       <use xlink:href=\"#ArialMT-48\"/>\r\n       <use x=\"55.615234\" xlink:href=\"#ArialMT-46\"/>\r\n       <use x=\"83.398438\" xlink:href=\"#ArialMT-52\"/>\r\n      </g>\r\n     </g>\r\n    </g>\r\n    <g id=\"ytick_5\">\r\n     <g id=\"line2d_8\">\r\n      <path clip-path=\"url(#p07954842fc)\" d=\"M 53.389062 116.912141 \r\nL 276.589063 116.912141 \r\n\" style=\"fill:none;stroke:#ffffff;stroke-linecap:round;\"/>\r\n     </g>\r\n     <g id=\"text_9\">\r\n      <!-- 0.6 -->\r\n      <defs>\r\n       <path d=\"M 49.75 54.046875 \r\nL 41.015625 53.375 \r\nQ 39.84375 58.546875 37.703125 60.890625 \r\nQ 34.125 64.65625 28.90625 64.65625 \r\nQ 24.703125 64.65625 21.53125 62.3125 \r\nQ 17.390625 59.28125 14.984375 53.46875 \r\nQ 12.59375 47.65625 12.5 36.921875 \r\nQ 15.671875 41.75 20.265625 44.09375 \r\nQ 24.859375 46.4375 29.890625 46.4375 \r\nQ 38.671875 46.4375 44.84375 39.96875 \r\nQ 51.03125 33.5 51.03125 23.25 \r\nQ 51.03125 16.5 48.125 10.71875 \r\nQ 45.21875 4.9375 40.140625 1.859375 \r\nQ 35.0625 -1.21875 28.609375 -1.21875 \r\nQ 17.625 -1.21875 10.6875 6.859375 \r\nQ 3.765625 14.9375 3.765625 33.5 \r\nQ 3.765625 54.25 11.421875 63.671875 \r\nQ 18.109375 71.875 29.4375 71.875 \r\nQ 37.890625 71.875 43.28125 67.140625 \r\nQ 48.6875 62.40625 49.75 54.046875 \r\nz\r\nM 13.875 23.1875 \r\nQ 13.875 18.65625 15.796875 14.5 \r\nQ 17.71875 10.359375 21.1875 8.171875 \r\nQ 24.65625 6 28.46875 6 \r\nQ 34.03125 6 38.03125 10.484375 \r\nQ 42.046875 14.984375 42.046875 22.703125 \r\nQ 42.046875 30.125 38.078125 34.390625 \r\nQ 34.125 38.671875 28.125 38.671875 \r\nQ 22.171875 38.671875 18.015625 34.390625 \r\nQ 13.875 30.125 13.875 23.1875 \r\nz\r\n\" id=\"ArialMT-54\"/>\r\n      </defs>\r\n      <g style=\"fill:#262626;\" transform=\"translate(28.599062 120.848938)scale(0.11 -0.11)\">\r\n       <use xlink:href=\"#ArialMT-48\"/>\r\n       <use x=\"55.615234\" xlink:href=\"#ArialMT-46\"/>\r\n       <use x=\"83.398438\" xlink:href=\"#ArialMT-54\"/>\r\n      </g>\r\n     </g>\r\n    </g>\r\n    <g id=\"ytick_6\">\r\n     <g id=\"line2d_9\">\r\n      <path clip-path=\"url(#p07954842fc)\" d=\"M 53.389062 90.128451 \r\nL 276.589063 90.128451 \r\n\" style=\"fill:none;stroke:#ffffff;stroke-linecap:round;\"/>\r\n     </g>\r\n     <g id=\"text_10\">\r\n      <!-- 0.8 -->\r\n      <defs>\r\n       <path d=\"M 17.671875 38.8125 \r\nQ 12.203125 40.828125 9.5625 44.53125 \r\nQ 6.9375 48.25 6.9375 53.421875 \r\nQ 6.9375 61.234375 12.546875 66.546875 \r\nQ 18.171875 71.875 27.484375 71.875 \r\nQ 36.859375 71.875 42.578125 66.421875 \r\nQ 48.296875 60.984375 48.296875 53.171875 \r\nQ 48.296875 48.1875 45.671875 44.5 \r\nQ 43.0625 40.828125 37.75 38.8125 \r\nQ 44.34375 36.671875 47.78125 31.875 \r\nQ 51.21875 27.09375 51.21875 20.453125 \r\nQ 51.21875 11.28125 44.71875 5.03125 \r\nQ 38.234375 -1.21875 27.640625 -1.21875 \r\nQ 17.046875 -1.21875 10.546875 5.046875 \r\nQ 4.046875 11.328125 4.046875 20.703125 \r\nQ 4.046875 27.6875 7.59375 32.390625 \r\nQ 11.140625 37.109375 17.671875 38.8125 \r\nz\r\nM 15.921875 53.71875 \r\nQ 15.921875 48.640625 19.1875 45.40625 \r\nQ 22.46875 42.1875 27.6875 42.1875 \r\nQ 32.765625 42.1875 36.015625 45.375 \r\nQ 39.265625 48.578125 39.265625 53.21875 \r\nQ 39.265625 58.0625 35.90625 61.359375 \r\nQ 32.5625 64.65625 27.59375 64.65625 \r\nQ 22.5625 64.65625 19.234375 61.421875 \r\nQ 15.921875 58.203125 15.921875 53.71875 \r\nz\r\nM 13.09375 20.65625 \r\nQ 13.09375 16.890625 14.875 13.375 \r\nQ 16.65625 9.859375 20.171875 7.921875 \r\nQ 23.6875 6 27.734375 6 \r\nQ 34.03125 6 38.125 10.046875 \r\nQ 42.234375 14.109375 42.234375 20.359375 \r\nQ 42.234375 26.703125 38.015625 30.859375 \r\nQ 33.796875 35.015625 27.4375 35.015625 \r\nQ 21.234375 35.015625 17.15625 30.90625 \r\nQ 13.09375 26.8125 13.09375 20.65625 \r\nz\r\n\" id=\"ArialMT-56\"/>\r\n      </defs>\r\n      <g style=\"fill:#262626;\" transform=\"translate(28.599062 94.065247)scale(0.11 -0.11)\">\r\n       <use xlink:href=\"#ArialMT-48\"/>\r\n       <use x=\"55.615234\" xlink:href=\"#ArialMT-46\"/>\r\n       <use x=\"83.398438\" xlink:href=\"#ArialMT-56\"/>\r\n      </g>\r\n     </g>\r\n    </g>\r\n    <g id=\"ytick_7\">\r\n     <g id=\"line2d_10\">\r\n      <path clip-path=\"url(#p07954842fc)\" d=\"M 53.389062 63.34476 \r\nL 276.589063 63.34476 \r\n\" style=\"fill:none;stroke:#ffffff;stroke-linecap:round;\"/>\r\n     </g>\r\n     <g id=\"text_11\">\r\n      <!-- 1.0 -->\r\n      <g style=\"fill:#262626;\" transform=\"translate(28.599062 67.281557)scale(0.11 -0.11)\">\r\n       <use xlink:href=\"#ArialMT-49\"/>\r\n       <use x=\"55.615234\" xlink:href=\"#ArialMT-46\"/>\r\n       <use x=\"83.398438\" xlink:href=\"#ArialMT-48\"/>\r\n      </g>\r\n     </g>\r\n    </g>\r\n    <g id=\"ytick_8\">\r\n     <g id=\"line2d_11\">\r\n      <path clip-path=\"url(#p07954842fc)\" d=\"M 53.389062 36.56107 \r\nL 276.589063 36.56107 \r\n\" style=\"fill:none;stroke:#ffffff;stroke-linecap:round;\"/>\r\n     </g>\r\n     <g id=\"text_12\">\r\n      <!-- 1.2 -->\r\n      <g style=\"fill:#262626;\" transform=\"translate(28.599062 40.497867)scale(0.11 -0.11)\">\r\n       <use xlink:href=\"#ArialMT-49\"/>\r\n       <use x=\"55.615234\" xlink:href=\"#ArialMT-46\"/>\r\n       <use x=\"83.398438\" xlink:href=\"#ArialMT-50\"/>\r\n      </g>\r\n     </g>\r\n    </g>\r\n    <g id=\"text_13\">\r\n     <!-- $x_2$ -->\r\n     <defs>\r\n      <path d=\"M 19.1875 8.296875 \r\nL 53.609375 8.296875 \r\nL 53.609375 0 \r\nL 7.328125 0 \r\nL 7.328125 8.296875 \r\nQ 12.9375 14.109375 22.625 23.890625 \r\nQ 32.328125 33.6875 34.8125 36.53125 \r\nQ 39.546875 41.84375 41.421875 45.53125 \r\nQ 43.3125 49.21875 43.3125 52.78125 \r\nQ 43.3125 58.59375 39.234375 62.25 \r\nQ 35.15625 65.921875 28.609375 65.921875 \r\nQ 23.96875 65.921875 18.8125 64.3125 \r\nQ 13.671875 62.703125 7.8125 59.421875 \r\nL 7.8125 69.390625 \r\nQ 13.765625 71.78125 18.9375 73 \r\nQ 24.125 74.21875 28.421875 74.21875 \r\nQ 39.75 74.21875 46.484375 68.546875 \r\nQ 53.21875 62.890625 53.21875 53.421875 \r\nQ 53.21875 48.921875 51.53125 44.890625 \r\nQ 49.859375 40.875 45.40625 35.40625 \r\nQ 44.1875 33.984375 37.640625 27.21875 \r\nQ 31.109375 20.453125 19.1875 8.296875 \r\nz\r\n\" id=\"DejaVuSans-50\"/>\r\n     </defs>\r\n     <g style=\"fill:#262626;\" transform=\"translate(15.789375 136.929375)rotate(-90)scale(0.12 -0.12)\">\r\n      <use transform=\"translate(0 0.3125)\" xlink:href=\"#DejaVuSans-Oblique-120\"/>\r\n      <use transform=\"translate(59.179688 -16.09375)scale(0.7)\" xlink:href=\"#DejaVuSans-50\"/>\r\n     </g>\r\n    </g>\r\n   </g>\r\n   <g id=\"PathCollection_1\">\r\n    <defs>\r\n     <path d=\"M 0 3 \r\nC 0.795609 3 1.55874 2.683901 2.12132 2.12132 \r\nC 2.683901 1.55874 3 0.795609 3 0 \r\nC 3 -0.795609 2.683901 -1.55874 2.12132 -2.12132 \r\nC 1.55874 -2.683901 0.795609 -3 0 -3 \r\nC -0.795609 -3 -1.55874 -2.683901 -2.12132 -2.12132 \r\nC -2.683901 -1.55874 -3 -0.795609 -3 0 \r\nC -3 0.795609 -2.683901 1.55874 -2.12132 2.12132 \r\nC -1.55874 2.683901 -0.795609 3 0 3 \r\nz\r\n\" id=\"m7fec3b59a1\" style=\"stroke:#333333;\"/>\r\n    </defs>\r\n    <g clip-path=\"url(#p07954842fc)\">\r\n     <use style=\"fill:#4c72b0;stroke:#333333;\" x=\"238.989835\" xlink:href=\"#m7fec3b59a1\" y=\"82.036389\"/>\r\n     <use style=\"fill:#4c72b0;stroke:#333333;\" x=\"231.166826\" xlink:href=\"#m7fec3b59a1\" y=\"64.274044\"/>\r\n     <use style=\"fill:#4c72b0;stroke:#333333;\" x=\"220.183616\" xlink:href=\"#m7fec3b59a1\" y=\"72.688024\"/>\r\n     <use style=\"fill:#4c72b0;stroke:#333333;\" x=\"265.821386\" xlink:href=\"#m7fec3b59a1\" y=\"72.296874\"/>\r\n     <use style=\"fill:#4c72b0;stroke:#333333;\" x=\"82.779047\" xlink:href=\"#m7fec3b59a1\" y=\"186.466197\"/>\r\n     <use style=\"fill:#4c72b0;stroke:#333333;\" x=\"250.172845\" xlink:href=\"#m7fec3b59a1\" y=\"64.476511\"/>\r\n     <use style=\"fill:#4c72b0;stroke:#333333;\" x=\"91.468585\" xlink:href=\"#m7fec3b59a1\" y=\"229.345739\"/>\r\n     <use style=\"fill:#4c72b0;stroke:#333333;\" x=\"238.432274\" xlink:href=\"#m7fec3b59a1\" y=\"80.029657\"/>\r\n     <use style=\"fill:#4c72b0;stroke:#333333;\" x=\"229.6774\" xlink:href=\"#m7fec3b59a1\" y=\"46.682732\"/>\r\n     <use style=\"fill:#4c72b0;stroke:#333333;\" x=\"212.759774\" xlink:href=\"#m7fec3b59a1\" y=\"79.228624\"/>\r\n     <use style=\"fill:#4c72b0;stroke:#333333;\" x=\"129.733885\" xlink:href=\"#m7fec3b59a1\" y=\"173.233562\"/>\r\n     <use style=\"fill:#4c72b0;stroke:#333333;\" x=\"240.493638\" xlink:href=\"#m7fec3b59a1\" y=\"59.077976\"/>\r\n     <use style=\"fill:#4c72b0;stroke:#333333;\" x=\"109.304662\" xlink:href=\"#m7fec3b59a1\" y=\"194.563313\"/>\r\n     <use style=\"fill:#4c72b0;stroke:#333333;\" x=\"247.514296\" xlink:href=\"#m7fec3b59a1\" y=\"73.68605\"/>\r\n     <use style=\"fill:#4c72b0;stroke:#333333;\" x=\"102.685468\" xlink:href=\"#m7fec3b59a1\" y=\"176.733968\"/>\r\n     <use style=\"fill:#4c72b0;stroke:#333333;\" x=\"111.927336\" xlink:href=\"#m7fec3b59a1\" y=\"194.919279\"/>\r\n     <use style=\"fill:#4c72b0;stroke:#333333;\" x=\"89.201286\" xlink:href=\"#m7fec3b59a1\" y=\"222.823754\"/>\r\n     <use style=\"fill:#4c72b0;stroke:#333333;\" x=\"229.443876\" xlink:href=\"#m7fec3b59a1\" y=\"62.587221\"/>\r\n     <use style=\"fill:#4c72b0;stroke:#333333;\" x=\"244.160651\" xlink:href=\"#m7fec3b59a1\" y=\"58.70358\"/>\r\n     <use style=\"fill:#4c72b0;stroke:#333333;\" x=\"223.727711\" xlink:href=\"#m7fec3b59a1\" y=\"58.525578\"/>\r\n     <use style=\"fill:#4c72b0;stroke:#333333;\" x=\"217.249282\" xlink:href=\"#m7fec3b59a1\" y=\"59.866948\"/>\r\n     <use style=\"fill:#4c72b0;stroke:#333333;\" x=\"89.245837\" xlink:href=\"#m7fec3b59a1\" y=\"205.293374\"/>\r\n     <use style=\"fill:#4c72b0;stroke:#333333;\" x=\"238.822582\" xlink:href=\"#m7fec3b59a1\" y=\"58.474253\"/>\r\n     <use style=\"fill:#4c72b0;stroke:#333333;\" x=\"229.455474\" xlink:href=\"#m7fec3b59a1\" y=\"47.961283\"/>\r\n     <use style=\"fill:#4c72b0;stroke:#333333;\" x=\"235.593248\" xlink:href=\"#m7fec3b59a1\" y=\"82.332184\"/>\r\n     <use style=\"fill:#4c72b0;stroke:#333333;\" x=\"75.298012\" xlink:href=\"#m7fec3b59a1\" y=\"184.940419\"/>\r\n     <use style=\"fill:#4c72b0;stroke:#333333;\" x=\"107.328691\" xlink:href=\"#m7fec3b59a1\" y=\"201.749916\"/>\r\n     <use style=\"fill:#4c72b0;stroke:#333333;\" x=\"222.466964\" xlink:href=\"#m7fec3b59a1\" y=\"70.561137\"/>\r\n     <use style=\"fill:#4c72b0;stroke:#333333;\" x=\"79.408013\" xlink:href=\"#m7fec3b59a1\" y=\"198.031893\"/>\r\n     <use style=\"fill:#4c72b0;stroke:#333333;\" x=\"89.739865\" xlink:href=\"#m7fec3b59a1\" y=\"212.632518\"/>\r\n     <use style=\"fill:#4c72b0;stroke:#333333;\" x=\"217.652963\" xlink:href=\"#m7fec3b59a1\" y=\"63.700334\"/>\r\n     <use style=\"fill:#4c72b0;stroke:#333333;\" x=\"231.958342\" xlink:href=\"#m7fec3b59a1\" y=\"81.425562\"/>\r\n     <use style=\"fill:#4c72b0;stroke:#333333;\" x=\"227.068563\" xlink:href=\"#m7fec3b59a1\" y=\"75.050305\"/>\r\n     <use style=\"fill:#4c72b0;stroke:#333333;\" x=\"236.122386\" xlink:href=\"#m7fec3b59a1\" y=\"54.210853\"/>\r\n     <use style=\"fill:#4c72b0;stroke:#333333;\" x=\"213.189224\" xlink:href=\"#m7fec3b59a1\" y=\"51.378925\"/>\r\n     <use style=\"fill:#4c72b0;stroke:#333333;\" x=\"244.100669\" xlink:href=\"#m7fec3b59a1\" y=\"55.793492\"/>\r\n     <use style=\"fill:#4c72b0;stroke:#333333;\" x=\"83.88176\" xlink:href=\"#m7fec3b59a1\" y=\"203.231591\"/>\r\n     <use style=\"fill:#4c72b0;stroke:#333333;\" x=\"105.593438\" xlink:href=\"#m7fec3b59a1\" y=\"221.261804\"/>\r\n     <use style=\"fill:#4c72b0;stroke:#333333;\" x=\"79.215048\" xlink:href=\"#m7fec3b59a1\" y=\"211.684626\"/>\r\n     <use style=\"fill:#4c72b0;stroke:#333333;\" x=\"217.211617\" xlink:href=\"#m7fec3b59a1\" y=\"47.915497\"/>\r\n     <use style=\"fill:#4c72b0;stroke:#333333;\" x=\"105.713605\" xlink:href=\"#m7fec3b59a1\" y=\"187.061048\"/>\r\n     <use style=\"fill:#4c72b0;stroke:#333333;\" x=\"86.101748\" xlink:href=\"#m7fec3b59a1\" y=\"188.610213\"/>\r\n     <use style=\"fill:#4c72b0;stroke:#333333;\" x=\"94.844294\" xlink:href=\"#m7fec3b59a1\" y=\"210.525982\"/>\r\n     <use style=\"fill:#4c72b0;stroke:#333333;\" x=\"252.83808\" xlink:href=\"#m7fec3b59a1\" y=\"59.660769\"/>\r\n     <use style=\"fill:#4c72b0;stroke:#333333;\" x=\"229.679822\" xlink:href=\"#m7fec3b59a1\" y=\"85.449968\"/>\r\n     <use style=\"fill:#4c72b0;stroke:#333333;\" x=\"112.654564\" xlink:href=\"#m7fec3b59a1\" y=\"202.415752\"/>\r\n     <use style=\"fill:#4c72b0;stroke:#333333;\" x=\"101.512311\" xlink:href=\"#m7fec3b59a1\" y=\"189.669471\"/>\r\n     <use style=\"fill:#4c72b0;stroke:#333333;\" x=\"234.977481\" xlink:href=\"#m7fec3b59a1\" y=\"51.077279\"/>\r\n     <use style=\"fill:#4c72b0;stroke:#333333;\" x=\"95.703324\" xlink:href=\"#m7fec3b59a1\" y=\"200.948001\"/>\r\n     <use style=\"fill:#4c72b0;stroke:#333333;\" x=\"248.305033\" xlink:href=\"#m7fec3b59a1\" y=\"70.387789\"/>\r\n     <use style=\"fill:#4c72b0;stroke:#333333;\" x=\"223.652837\" xlink:href=\"#m7fec3b59a1\" y=\"55.695614\"/>\r\n     <use style=\"fill:#4c72b0;stroke:#333333;\" x=\"91.444995\" xlink:href=\"#m7fec3b59a1\" y=\"196.064566\"/>\r\n     <use style=\"fill:#4c72b0;stroke:#333333;\" x=\"217.451288\" xlink:href=\"#m7fec3b59a1\" y=\"58.851617\"/>\r\n     <use style=\"fill:#4c72b0;stroke:#333333;\" x=\"208.765157\" xlink:href=\"#m7fec3b59a1\" y=\"67.096209\"/>\r\n     <use style=\"fill:#4c72b0;stroke:#333333;\" x=\"236.490775\" xlink:href=\"#m7fec3b59a1\" y=\"48.30541\"/>\r\n     <use style=\"fill:#4c72b0;stroke:#333333;\" x=\"230.511003\" xlink:href=\"#m7fec3b59a1\" y=\"72.923267\"/>\r\n     <use style=\"fill:#4c72b0;stroke:#333333;\" x=\"230.889713\" xlink:href=\"#m7fec3b59a1\" y=\"67.174314\"/>\r\n     <use style=\"fill:#4c72b0;stroke:#333333;\" x=\"235.349835\" xlink:href=\"#m7fec3b59a1\" y=\"81.061304\"/>\r\n     <use style=\"fill:#4c72b0;stroke:#333333;\" x=\"90.455756\" xlink:href=\"#m7fec3b59a1\" y=\"186.53601\"/>\r\n     <use style=\"fill:#4c72b0;stroke:#333333;\" x=\"266.443608\" xlink:href=\"#m7fec3b59a1\" y=\"54.179658\"/>\r\n     <use style=\"fill:#4c72b0;stroke:#333333;\" x=\"228.608621\" xlink:href=\"#m7fec3b59a1\" y=\"72.38475\"/>\r\n     <use style=\"fill:#4c72b0;stroke:#333333;\" x=\"246.957051\" xlink:href=\"#m7fec3b59a1\" y=\"56.847201\"/>\r\n     <use style=\"fill:#4c72b0;stroke:#333333;\" x=\"83.243687\" xlink:href=\"#m7fec3b59a1\" y=\"193.51967\"/>\r\n     <use style=\"fill:#4c72b0;stroke:#333333;\" x=\"124.230493\" xlink:href=\"#m7fec3b59a1\" y=\"208.804626\"/>\r\n     <use style=\"fill:#4c72b0;stroke:#333333;\" x=\"77.891994\" xlink:href=\"#m7fec3b59a1\" y=\"187.446005\"/>\r\n     <use style=\"fill:#4c72b0;stroke:#333333;\" x=\"214.032293\" xlink:href=\"#m7fec3b59a1\" y=\"43.233544\"/>\r\n     <use style=\"fill:#4c72b0;stroke:#333333;\" x=\"85.041855\" xlink:href=\"#m7fec3b59a1\" y=\"193.170924\"/>\r\n     <use style=\"fill:#4c72b0;stroke:#333333;\" x=\"116.483208\" xlink:href=\"#m7fec3b59a1\" y=\"202.726837\"/>\r\n     <use style=\"fill:#4c72b0;stroke:#333333;\" x=\"238.88346\" xlink:href=\"#m7fec3b59a1\" y=\"47.759877\"/>\r\n     <use style=\"fill:#4c72b0;stroke:#333333;\" x=\"265.466802\" xlink:href=\"#m7fec3b59a1\" y=\"97.483037\"/>\r\n     <use style=\"fill:#4c72b0;stroke:#333333;\" x=\"235.406963\" xlink:href=\"#m7fec3b59a1\" y=\"62.28955\"/>\r\n     <use style=\"fill:#4c72b0;stroke:#333333;\" x=\"77.608167\" xlink:href=\"#m7fec3b59a1\" y=\"184.050544\"/>\r\n     <use style=\"fill:#4c72b0;stroke:#333333;\" x=\"92.041172\" xlink:href=\"#m7fec3b59a1\" y=\"187.802279\"/>\r\n     <use style=\"fill:#4c72b0;stroke:#333333;\" x=\"107.753858\" xlink:href=\"#m7fec3b59a1\" y=\"192.072137\"/>\r\n     <use style=\"fill:#4c72b0;stroke:#333333;\" x=\"117.625956\" xlink:href=\"#m7fec3b59a1\" y=\"199.6079\"/>\r\n     <use style=\"fill:#4c72b0;stroke:#333333;\" x=\"78.74912\" xlink:href=\"#m7fec3b59a1\" y=\"176.739042\"/>\r\n     <use style=\"fill:#4c72b0;stroke:#333333;\" x=\"217.59157\" xlink:href=\"#m7fec3b59a1\" y=\"50.050215\"/>\r\n     <use style=\"fill:#4c72b0;stroke:#333333;\" x=\"259.23698\" xlink:href=\"#m7fec3b59a1\" y=\"56.102385\"/>\r\n     <use style=\"fill:#4c72b0;stroke:#333333;\" x=\"108.552837\" xlink:href=\"#m7fec3b59a1\" y=\"194.672884\"/>\r\n     <use style=\"fill:#4c72b0;stroke:#333333;\" x=\"232.69429\" xlink:href=\"#m7fec3b59a1\" y=\"88.074631\"/>\r\n     <use style=\"fill:#4c72b0;stroke:#333333;\" x=\"229.613659\" xlink:href=\"#m7fec3b59a1\" y=\"64.617293\"/>\r\n     <use style=\"fill:#4c72b0;stroke:#333333;\" x=\"102.216905\" xlink:href=\"#m7fec3b59a1\" y=\"212.510761\"/>\r\n     <use style=\"fill:#4c72b0;stroke:#333333;\" x=\"104.910746\" xlink:href=\"#m7fec3b59a1\" y=\"211.319061\"/>\r\n     <use style=\"fill:#4c72b0;stroke:#333333;\" x=\"248.220444\" xlink:href=\"#m7fec3b59a1\" y=\"62.838835\"/>\r\n     <use style=\"fill:#4c72b0;stroke:#333333;\" x=\"93.061631\" xlink:href=\"#m7fec3b59a1\" y=\"169.238135\"/>\r\n     <use style=\"fill:#4c72b0;stroke:#333333;\" x=\"90.182544\" xlink:href=\"#m7fec3b59a1\" y=\"206.780308\"/>\r\n     <use style=\"fill:#4c72b0;stroke:#333333;\" x=\"78.360256\" xlink:href=\"#m7fec3b59a1\" y=\"194.176331\"/>\r\n     <use style=\"fill:#4c72b0;stroke:#333333;\" x=\"91.404387\" xlink:href=\"#m7fec3b59a1\" y=\"194.381007\"/>\r\n     <use style=\"fill:#4c72b0;stroke:#333333;\" x=\"86.792309\" xlink:href=\"#m7fec3b59a1\" y=\"190.730211\"/>\r\n     <use style=\"fill:#4c72b0;stroke:#333333;\" x=\"235.916472\" xlink:href=\"#m7fec3b59a1\" y=\"61.873281\"/>\r\n     <use style=\"fill:#4c72b0;stroke:#333333;\" x=\"111.031195\" xlink:href=\"#m7fec3b59a1\" y=\"193.982992\"/>\r\n     <use style=\"fill:#4c72b0;stroke:#333333;\" x=\"258.210264\" xlink:href=\"#m7fec3b59a1\" y=\"62.033818\"/>\r\n     <use style=\"fill:#4c72b0;stroke:#333333;\" x=\"91.064867\" xlink:href=\"#m7fec3b59a1\" y=\"184.439686\"/>\r\n     <use style=\"fill:#4c72b0;stroke:#333333;\" x=\"230.27251\" xlink:href=\"#m7fec3b59a1\" y=\"47.630837\"/>\r\n     <use style=\"fill:#4c72b0;stroke:#333333;\" x=\"225.062178\" xlink:href=\"#m7fec3b59a1\" y=\"63.625708\"/>\r\n     <use style=\"fill:#4c72b0;stroke:#333333;\" x=\"220.851285\" xlink:href=\"#m7fec3b59a1\" y=\"83.879901\"/>\r\n     <use style=\"fill:#4c72b0;stroke:#333333;\" x=\"118.655823\" xlink:href=\"#m7fec3b59a1\" y=\"174.245517\"/>\r\n     <use style=\"fill:#4c72b0;stroke:#333333;\" x=\"76.877871\" xlink:href=\"#m7fec3b59a1\" y=\"211.462447\"/>\r\n     <use style=\"fill:#4c72b0;stroke:#333333;\" x=\"82.07581\" xlink:href=\"#m7fec3b59a1\" y=\"228.85481\"/>\r\n     <use style=\"fill:#4c72b0;stroke:#333333;\" x=\"101.726617\" xlink:href=\"#m7fec3b59a1\" y=\"181.12503\"/>\r\n     <use style=\"fill:#4c72b0;stroke:#333333;\" x=\"235.712715\" xlink:href=\"#m7fec3b59a1\" y=\"64.831382\"/>\r\n     <use style=\"fill:#4c72b0;stroke:#333333;\" x=\"70.179183\" xlink:href=\"#m7fec3b59a1\" y=\"198.370726\"/>\r\n     <use style=\"fill:#4c72b0;stroke:#333333;\" x=\"113.414337\" xlink:href=\"#m7fec3b59a1\" y=\"194.612291\"/>\r\n     <use style=\"fill:#4c72b0;stroke:#333333;\" x=\"117.780512\" xlink:href=\"#m7fec3b59a1\" y=\"183.315468\"/>\r\n     <use style=\"fill:#4c72b0;stroke:#333333;\" x=\"105.16005\" xlink:href=\"#m7fec3b59a1\" y=\"187.533208\"/>\r\n     <use style=\"fill:#4c72b0;stroke:#333333;\" x=\"259.830232\" xlink:href=\"#m7fec3b59a1\" y=\"59.054684\"/>\r\n     <use style=\"fill:#4c72b0;stroke:#333333;\" x=\"103.834206\" xlink:href=\"#m7fec3b59a1\" y=\"202.54464\"/>\r\n     <use style=\"fill:#4c72b0;stroke:#333333;\" x=\"91.989227\" xlink:href=\"#m7fec3b59a1\" y=\"200.077158\"/>\r\n     <use style=\"fill:#4c72b0;stroke:#333333;\" x=\"229.614746\" xlink:href=\"#m7fec3b59a1\" y=\"46.408657\"/>\r\n     <use style=\"fill:#4c72b0;stroke:#333333;\" x=\"86.450036\" xlink:href=\"#m7fec3b59a1\" y=\"161.268655\"/>\r\n     <use style=\"fill:#4c72b0;stroke:#333333;\" x=\"239.398278\" xlink:href=\"#m7fec3b59a1\" y=\"50.75579\"/>\r\n     <use style=\"fill:#4c72b0;stroke:#333333;\" x=\"245.800597\" xlink:href=\"#m7fec3b59a1\" y=\"39.487771\"/>\r\n     <use style=\"fill:#4c72b0;stroke:#333333;\" x=\"231.514913\" xlink:href=\"#m7fec3b59a1\" y=\"65.21906\"/>\r\n     <use style=\"fill:#4c72b0;stroke:#333333;\" x=\"83.107583\" xlink:href=\"#m7fec3b59a1\" y=\"224.715776\"/>\r\n    </g>\r\n   </g>\r\n   <g id=\"PathCollection_2\">\r\n    <defs>\r\n     <path d=\"M 0 3 \r\nC 0.795609 3 1.55874 2.683901 2.12132 2.12132 \r\nC 2.683901 1.55874 3 0.795609 3 0 \r\nC 3 -0.795609 2.683901 -1.55874 2.12132 -2.12132 \r\nC 1.55874 -2.683901 0.795609 -3 0 -3 \r\nC -0.795609 -3 -1.55874 -2.683901 -2.12132 -2.12132 \r\nC -2.683901 -1.55874 -3 -0.795609 -3 0 \r\nC -3 0.795609 -2.683901 1.55874 -2.12132 2.12132 \r\nC -1.55874 2.683901 -0.795609 3 0 3 \r\nz\r\n\" id=\"mabc02173e3\" style=\"stroke:#333333;\"/>\r\n    </defs>\r\n    <g clip-path=\"url(#p07954842fc)\">\r\n     <use style=\"fill:#dd8452;stroke:#333333;\" x=\"218.162671\" xlink:href=\"#mabc02173e3\" y=\"183.489388\"/>\r\n     <use style=\"fill:#dd8452;stroke:#333333;\" x=\"107.380049\" xlink:href=\"#mabc02173e3\" y=\"84.152604\"/>\r\n     <use style=\"fill:#dd8452;stroke:#333333;\" x=\"260.94011\" xlink:href=\"#mabc02173e3\" y=\"199.475147\"/>\r\n     <use style=\"fill:#dd8452;stroke:#333333;\" x=\"101.263983\" xlink:href=\"#mabc02173e3\" y=\"88.504335\"/>\r\n     <use style=\"fill:#dd8452;stroke:#333333;\" x=\"238.325916\" xlink:href=\"#mabc02173e3\" y=\"213.739354\"/>\r\n     <use style=\"fill:#dd8452;stroke:#333333;\" x=\"236.407314\" xlink:href=\"#mabc02173e3\" y=\"200.323551\"/>\r\n     <use style=\"fill:#dd8452;stroke:#333333;\" x=\"221.693102\" xlink:href=\"#mabc02173e3\" y=\"187.576409\"/>\r\n     <use style=\"fill:#dd8452;stroke:#333333;\" x=\"95.273387\" xlink:href=\"#mabc02173e3\" y=\"64.114512\"/>\r\n     <use style=\"fill:#dd8452;stroke:#333333;\" x=\"214.95397\" xlink:href=\"#mabc02173e3\" y=\"194.107502\"/>\r\n     <use style=\"fill:#dd8452;stroke:#333333;\" x=\"219.466218\" xlink:href=\"#mabc02173e3\" y=\"197.177281\"/>\r\n     <use style=\"fill:#dd8452;stroke:#333333;\" x=\"203.384129\" xlink:href=\"#mabc02173e3\" y=\"164.442846\"/>\r\n     <use style=\"fill:#dd8452;stroke:#333333;\" x=\"240.967423\" xlink:href=\"#mabc02173e3\" y=\"178.488768\"/>\r\n     <use style=\"fill:#dd8452;stroke:#333333;\" x=\"237.967947\" xlink:href=\"#mabc02173e3\" y=\"196.958664\"/>\r\n     <use style=\"fill:#dd8452;stroke:#333333;\" x=\"81.203222\" xlink:href=\"#mabc02173e3\" y=\"63.38602\"/>\r\n     <use style=\"fill:#dd8452;stroke:#333333;\" x=\"95.186274\" xlink:href=\"#mabc02173e3\" y=\"73.663636\"/>\r\n     <use style=\"fill:#dd8452;stroke:#333333;\" x=\"90.745285\" xlink:href=\"#mabc02173e3\" y=\"58.988081\"/>\r\n     <use style=\"fill:#dd8452;stroke:#333333;\" x=\"240.409099\" xlink:href=\"#mabc02173e3\" y=\"203.419933\"/>\r\n     <use style=\"fill:#dd8452;stroke:#333333;\" x=\"208.62446\" xlink:href=\"#mabc02173e3\" y=\"207.90436\"/>\r\n     <use style=\"fill:#dd8452;stroke:#333333;\" x=\"72.268217\" xlink:href=\"#mabc02173e3\" y=\"73.084434\"/>\r\n     <use style=\"fill:#dd8452;stroke:#333333;\" x=\"231.337422\" xlink:href=\"#mabc02173e3\" y=\"215.619923\"/>\r\n     <use style=\"fill:#dd8452;stroke:#333333;\" x=\"107.8801\" xlink:href=\"#mabc02173e3\" y=\"57.495767\"/>\r\n     <use style=\"fill:#dd8452;stroke:#333333;\" x=\"136.985532\" xlink:href=\"#mabc02173e3\" y=\"54.331958\"/>\r\n     <use style=\"fill:#dd8452;stroke:#333333;\" x=\"91.497919\" xlink:href=\"#mabc02173e3\" y=\"44.462638\"/>\r\n     <use style=\"fill:#dd8452;stroke:#333333;\" x=\"203.95591\" xlink:href=\"#mabc02173e3\" y=\"204.211287\"/>\r\n     <use style=\"fill:#dd8452;stroke:#333333;\" x=\"226.373043\" xlink:href=\"#mabc02173e3\" y=\"191.055699\"/>\r\n     <use style=\"fill:#dd8452;stroke:#333333;\" x=\"97.559446\" xlink:href=\"#mabc02173e3\" y=\"64.144206\"/>\r\n     <use style=\"fill:#dd8452;stroke:#333333;\" x=\"256.100217\" xlink:href=\"#mabc02173e3\" y=\"209.258008\"/>\r\n     <use style=\"fill:#dd8452;stroke:#333333;\" x=\"86.968264\" xlink:href=\"#mabc02173e3\" y=\"85.64629\"/>\r\n     <use style=\"fill:#dd8452;stroke:#333333;\" x=\"63.534517\" xlink:href=\"#mabc02173e3\" y=\"89.562769\"/>\r\n     <use style=\"fill:#dd8452;stroke:#333333;\" x=\"105.677461\" xlink:href=\"#mabc02173e3\" y=\"70.623518\"/>\r\n     <use style=\"fill:#dd8452;stroke:#333333;\" x=\"243.983973\" xlink:href=\"#mabc02173e3\" y=\"194.933601\"/>\r\n     <use style=\"fill:#dd8452;stroke:#333333;\" x=\"82.927636\" xlink:href=\"#mabc02173e3\" y=\"50.059857\"/>\r\n     <use style=\"fill:#dd8452;stroke:#333333;\" x=\"237.961559\" xlink:href=\"#mabc02173e3\" y=\"215.155002\"/>\r\n     <use style=\"fill:#dd8452;stroke:#333333;\" x=\"216.365876\" xlink:href=\"#mabc02173e3\" y=\"204.594017\"/>\r\n     <use style=\"fill:#dd8452;stroke:#333333;\" x=\"109.95533\" xlink:href=\"#mabc02173e3\" y=\"53.297039\"/>\r\n     <use style=\"fill:#dd8452;stroke:#333333;\" x=\"92.161585\" xlink:href=\"#mabc02173e3\" y=\"62.377769\"/>\r\n     <use style=\"fill:#dd8452;stroke:#333333;\" x=\"242.312601\" xlink:href=\"#mabc02173e3\" y=\"197.89237\"/>\r\n     <use style=\"fill:#dd8452;stroke:#333333;\" x=\"93.21372\" xlink:href=\"#mabc02173e3\" y=\"78.577926\"/>\r\n     <use style=\"fill:#dd8452;stroke:#333333;\" x=\"230.432023\" xlink:href=\"#mabc02173e3\" y=\"205.132489\"/>\r\n     <use style=\"fill:#dd8452;stroke:#333333;\" x=\"106.828324\" xlink:href=\"#mabc02173e3\" y=\"67.48478\"/>\r\n     <use style=\"fill:#dd8452;stroke:#333333;\" x=\"252.130605\" xlink:href=\"#mabc02173e3\" y=\"176.474911\"/>\r\n     <use style=\"fill:#dd8452;stroke:#333333;\" x=\"85.972065\" xlink:href=\"#mabc02173e3\" y=\"53.145042\"/>\r\n     <use style=\"fill:#dd8452;stroke:#333333;\" x=\"130.267577\" xlink:href=\"#mabc02173e3\" y=\"67.851026\"/>\r\n     <use style=\"fill:#dd8452;stroke:#333333;\" x=\"230.285402\" xlink:href=\"#mabc02173e3\" y=\"204.929644\"/>\r\n     <use style=\"fill:#dd8452;stroke:#333333;\" x=\"76.614909\" xlink:href=\"#mabc02173e3\" y=\"57.49358\"/>\r\n     <use style=\"fill:#dd8452;stroke:#333333;\" x=\"90.411594\" xlink:href=\"#mabc02173e3\" y=\"76.79147\"/>\r\n     <use style=\"fill:#dd8452;stroke:#333333;\" x=\"80.65772\" xlink:href=\"#mabc02173e3\" y=\"44.91545\"/>\r\n     <use style=\"fill:#dd8452;stroke:#333333;\" x=\"70.945931\" xlink:href=\"#mabc02173e3\" y=\"37.993702\"/>\r\n     <use style=\"fill:#dd8452;stroke:#333333;\" x=\"234.945009\" xlink:href=\"#mabc02173e3\" y=\"186.561189\"/>\r\n     <use style=\"fill:#dd8452;stroke:#333333;\" x=\"115.257907\" xlink:href=\"#mabc02173e3\" y=\"31.673011\"/>\r\n     <use style=\"fill:#dd8452;stroke:#333333;\" x=\"99.150311\" xlink:href=\"#mabc02173e3\" y=\"49.725835\"/>\r\n     <use style=\"fill:#dd8452;stroke:#333333;\" x=\"229.829239\" xlink:href=\"#mabc02173e3\" y=\"205.23281\"/>\r\n     <use style=\"fill:#dd8452;stroke:#333333;\" x=\"103.061999\" xlink:href=\"#mabc02173e3\" y=\"65.95448\"/>\r\n     <use style=\"fill:#dd8452;stroke:#333333;\" x=\"104.269738\" xlink:href=\"#mabc02173e3\" y=\"58.005205\"/>\r\n     <use style=\"fill:#dd8452;stroke:#333333;\" x=\"114.158793\" xlink:href=\"#mabc02173e3\" y=\"63.194344\"/>\r\n     <use style=\"fill:#dd8452;stroke:#333333;\" x=\"87.134729\" xlink:href=\"#mabc02173e3\" y=\"34.040457\"/>\r\n     <use style=\"fill:#dd8452;stroke:#333333;\" x=\"91.627571\" xlink:href=\"#mabc02173e3\" y=\"78.161464\"/>\r\n     <use style=\"fill:#dd8452;stroke:#333333;\" x=\"65.495716\" xlink:href=\"#mabc02173e3\" y=\"56.950155\"/>\r\n     <use style=\"fill:#dd8452;stroke:#333333;\" x=\"88.722884\" xlink:href=\"#mabc02173e3\" y=\"65.43655\"/>\r\n     <use style=\"fill:#dd8452;stroke:#333333;\" x=\"236.430129\" xlink:href=\"#mabc02173e3\" y=\"220.25716\"/>\r\n     <use style=\"fill:#dd8452;stroke:#333333;\" x=\"246.220223\" xlink:href=\"#mabc02173e3\" y=\"198.207341\"/>\r\n     <use style=\"fill:#dd8452;stroke:#333333;\" x=\"121.540906\" xlink:href=\"#mabc02173e3\" y=\"60.28242\"/>\r\n     <use style=\"fill:#dd8452;stroke:#333333;\" x=\"95.2656\" xlink:href=\"#mabc02173e3\" y=\"68.424409\"/>\r\n     <use style=\"fill:#dd8452;stroke:#333333;\" x=\"95.165848\" xlink:href=\"#mabc02173e3\" y=\"43.313909\"/>\r\n     <use style=\"fill:#dd8452;stroke:#333333;\" x=\"217.86748\" xlink:href=\"#mabc02173e3\" y=\"198.568772\"/>\r\n     <use style=\"fill:#dd8452;stroke:#333333;\" x=\"89.169449\" xlink:href=\"#mabc02173e3\" y=\"83.663864\"/>\r\n     <use style=\"fill:#dd8452;stroke:#333333;\" x=\"217.351044\" xlink:href=\"#mabc02173e3\" y=\"194.308472\"/>\r\n     <use style=\"fill:#dd8452;stroke:#333333;\" x=\"250.162325\" xlink:href=\"#mabc02173e3\" y=\"212.494488\"/>\r\n     <use style=\"fill:#dd8452;stroke:#333333;\" x=\"231.65892\" xlink:href=\"#mabc02173e3\" y=\"204.379436\"/>\r\n     <use style=\"fill:#dd8452;stroke:#333333;\" x=\"101.987646\" xlink:href=\"#mabc02173e3\" y=\"54.373737\"/>\r\n     <use style=\"fill:#dd8452;stroke:#333333;\" x=\"79.045683\" xlink:href=\"#mabc02173e3\" y=\"66.430353\"/>\r\n     <use style=\"fill:#dd8452;stroke:#333333;\" x=\"238.24058\" xlink:href=\"#mabc02173e3\" y=\"176.740236\"/>\r\n     <use style=\"fill:#dd8452;stroke:#333333;\" x=\"224.45182\" xlink:href=\"#mabc02173e3\" y=\"185.729626\"/>\r\n     <use style=\"fill:#dd8452;stroke:#333333;\" x=\"93.552049\" xlink:href=\"#mabc02173e3\" y=\"62.333804\"/>\r\n     <use style=\"fill:#dd8452;stroke:#333333;\" x=\"226.273205\" xlink:href=\"#mabc02173e3\" y=\"188.006076\"/>\r\n     <use style=\"fill:#dd8452;stroke:#333333;\" x=\"76.099502\" xlink:href=\"#mabc02173e3\" y=\"53.330867\"/>\r\n     <use style=\"fill:#dd8452;stroke:#333333;\" x=\"234.877377\" xlink:href=\"#mabc02173e3\" y=\"193.381332\"/>\r\n     <use style=\"fill:#dd8452;stroke:#333333;\" x=\"244.795301\" xlink:href=\"#mabc02173e3\" y=\"219.728521\"/>\r\n     <use style=\"fill:#dd8452;stroke:#333333;\" x=\"240.970061\" xlink:href=\"#mabc02173e3\" y=\"212.536135\"/>\r\n     <use style=\"fill:#dd8452;stroke:#333333;\" x=\"253.183654\" xlink:href=\"#mabc02173e3\" y=\"187.259914\"/>\r\n     <use style=\"fill:#dd8452;stroke:#333333;\" x=\"247.034787\" xlink:href=\"#mabc02173e3\" y=\"177.168808\"/>\r\n     <use style=\"fill:#dd8452;stroke:#333333;\" x=\"89.031729\" xlink:href=\"#mabc02173e3\" y=\"55.015343\"/>\r\n     <use style=\"fill:#dd8452;stroke:#333333;\" x=\"70.766592\" xlink:href=\"#mabc02173e3\" y=\"64.400944\"/>\r\n     <use style=\"fill:#dd8452;stroke:#333333;\" x=\"227.793128\" xlink:href=\"#mabc02173e3\" y=\"198.155728\"/>\r\n     <use style=\"fill:#dd8452;stroke:#333333;\" x=\"227.576587\" xlink:href=\"#mabc02173e3\" y=\"218.93496\"/>\r\n     <use style=\"fill:#dd8452;stroke:#333333;\" x=\"104.931791\" xlink:href=\"#mabc02173e3\" y=\"64.266117\"/>\r\n    </g>\r\n   </g>\r\n   <g id=\"patch_3\">\r\n    <path d=\"M 53.389062 239.229375 \r\nL 53.389062 21.789375 \r\n\" style=\"fill:none;stroke:#ffffff;stroke-linecap:square;stroke-linejoin:miter;stroke-width:1.25;\"/>\r\n   </g>\r\n   <g id=\"patch_4\">\r\n    <path d=\"M 276.589063 239.229375 \r\nL 276.589063 21.789375 \r\n\" style=\"fill:none;stroke:#ffffff;stroke-linecap:square;stroke-linejoin:miter;stroke-width:1.25;\"/>\r\n   </g>\r\n   <g id=\"patch_5\">\r\n    <path d=\"M 53.389063 239.229375 \r\nL 276.589063 239.229375 \r\n\" style=\"fill:none;stroke:#ffffff;stroke-linecap:square;stroke-linejoin:miter;stroke-width:1.25;\"/>\r\n   </g>\r\n   <g id=\"patch_6\">\r\n    <path d=\"M 53.389063 21.789375 \r\nL 276.589063 21.789375 \r\n\" style=\"fill:none;stroke:#ffffff;stroke-linecap:square;stroke-linejoin:miter;stroke-width:1.25;\"/>\r\n   </g>\r\n   <g id=\"text_14\">\r\n    <!-- Dataset_samples -->\r\n    <defs>\r\n     <path d=\"M 7.71875 0 \r\nL 7.71875 71.578125 \r\nL 32.375 71.578125 \r\nQ 40.71875 71.578125 45.125 70.5625 \r\nQ 51.265625 69.140625 55.609375 65.4375 \r\nQ 61.28125 60.640625 64.078125 53.1875 \r\nQ 66.890625 45.75 66.890625 36.1875 \r\nQ 66.890625 28.03125 64.984375 21.734375 \r\nQ 63.09375 15.4375 60.109375 11.296875 \r\nQ 57.125 7.171875 53.578125 4.796875 \r\nQ 50.046875 2.4375 45.046875 1.21875 \r\nQ 40.046875 0 33.546875 0 \r\nz\r\nM 17.1875 8.453125 \r\nL 32.46875 8.453125 \r\nQ 39.546875 8.453125 43.578125 9.765625 \r\nQ 47.609375 11.078125 50 13.484375 \r\nQ 53.375 16.84375 55.25 22.53125 \r\nQ 57.125 28.21875 57.125 36.328125 \r\nQ 57.125 47.5625 53.4375 53.59375 \r\nQ 49.75 59.625 44.484375 61.671875 \r\nQ 40.671875 63.140625 32.234375 63.140625 \r\nL 17.1875 63.140625 \r\nz\r\n\" id=\"ArialMT-68\"/>\r\n     <path d=\"M 40.4375 6.390625 \r\nQ 35.546875 2.25 31.03125 0.53125 \r\nQ 26.515625 -1.171875 21.34375 -1.171875 \r\nQ 12.796875 -1.171875 8.203125 3 \r\nQ 3.609375 7.171875 3.609375 13.671875 \r\nQ 3.609375 17.484375 5.34375 20.625 \r\nQ 7.078125 23.78125 9.890625 25.6875 \r\nQ 12.703125 27.59375 16.21875 28.5625 \r\nQ 18.796875 29.25 24.03125 29.890625 \r\nQ 34.671875 31.15625 39.703125 32.90625 \r\nQ 39.75 34.71875 39.75 35.203125 \r\nQ 39.75 40.578125 37.25 42.78125 \r\nQ 33.890625 45.75 27.25 45.75 \r\nQ 21.046875 45.75 18.09375 43.578125 \r\nQ 15.140625 41.40625 13.71875 35.890625 \r\nL 5.125 37.0625 \r\nQ 6.296875 42.578125 8.984375 45.96875 \r\nQ 11.671875 49.359375 16.75 51.1875 \r\nQ 21.828125 53.03125 28.515625 53.03125 \r\nQ 35.15625 53.03125 39.296875 51.46875 \r\nQ 43.453125 49.90625 45.40625 47.53125 \r\nQ 47.359375 45.171875 48.140625 41.546875 \r\nQ 48.578125 39.3125 48.578125 33.453125 \r\nL 48.578125 21.734375 \r\nQ 48.578125 9.46875 49.140625 6.21875 \r\nQ 49.703125 2.984375 51.375 0 \r\nL 42.1875 0 \r\nQ 40.828125 2.734375 40.4375 6.390625 \r\nz\r\nM 39.703125 26.03125 \r\nQ 34.90625 24.078125 25.34375 22.703125 \r\nQ 19.921875 21.921875 17.671875 20.9375 \r\nQ 15.4375 19.96875 14.203125 18.09375 \r\nQ 12.984375 16.21875 12.984375 13.921875 \r\nQ 12.984375 10.40625 15.640625 8.0625 \r\nQ 18.3125 5.71875 23.4375 5.71875 \r\nQ 28.515625 5.71875 32.46875 7.9375 \r\nQ 36.421875 10.15625 38.28125 14.015625 \r\nQ 39.703125 17 39.703125 22.796875 \r\nz\r\n\" id=\"ArialMT-97\"/>\r\n     <path d=\"M 25.78125 7.859375 \r\nL 27.046875 0.09375 \r\nQ 23.34375 -0.6875 20.40625 -0.6875 \r\nQ 15.625 -0.6875 12.984375 0.828125 \r\nQ 10.359375 2.34375 9.28125 4.8125 \r\nQ 8.203125 7.28125 8.203125 15.1875 \r\nL 8.203125 45.015625 \r\nL 1.765625 45.015625 \r\nL 1.765625 51.859375 \r\nL 8.203125 51.859375 \r\nL 8.203125 64.703125 \r\nL 16.9375 69.96875 \r\nL 16.9375 51.859375 \r\nL 25.78125 51.859375 \r\nL 25.78125 45.015625 \r\nL 16.9375 45.015625 \r\nL 16.9375 14.703125 \r\nQ 16.9375 10.9375 17.40625 9.859375 \r\nQ 17.875 8.796875 18.921875 8.15625 \r\nQ 19.96875 7.515625 21.921875 7.515625 \r\nQ 23.390625 7.515625 25.78125 7.859375 \r\nz\r\n\" id=\"ArialMT-116\"/>\r\n     <path d=\"M 3.078125 15.484375 \r\nL 11.765625 16.84375 \r\nQ 12.5 11.625 15.84375 8.84375 \r\nQ 19.1875 6.0625 25.203125 6.0625 \r\nQ 31.25 6.0625 34.171875 8.515625 \r\nQ 37.109375 10.984375 37.109375 14.3125 \r\nQ 37.109375 17.28125 34.515625 19 \r\nQ 32.71875 20.171875 25.53125 21.96875 \r\nQ 15.875 24.421875 12.140625 26.203125 \r\nQ 8.40625 27.984375 6.46875 31.125 \r\nQ 4.546875 34.28125 4.546875 38.09375 \r\nQ 4.546875 41.546875 6.125 44.5 \r\nQ 7.71875 47.46875 10.453125 49.421875 \r\nQ 12.5 50.921875 16.03125 51.96875 \r\nQ 19.578125 53.03125 23.640625 53.03125 \r\nQ 29.734375 53.03125 34.34375 51.265625 \r\nQ 38.96875 49.515625 41.15625 46.5 \r\nQ 43.359375 43.5 44.1875 38.484375 \r\nL 35.59375 37.3125 \r\nQ 35.015625 41.3125 32.203125 43.546875 \r\nQ 29.390625 45.796875 24.265625 45.796875 \r\nQ 18.21875 45.796875 15.625 43.796875 \r\nQ 13.03125 41.796875 13.03125 39.109375 \r\nQ 13.03125 37.40625 14.109375 36.03125 \r\nQ 15.1875 34.625 17.484375 33.6875 \r\nQ 18.796875 33.203125 25.25 31.453125 \r\nQ 34.578125 28.953125 38.25 27.359375 \r\nQ 41.9375 25.78125 44.03125 22.75 \r\nQ 46.140625 19.734375 46.140625 15.234375 \r\nQ 46.140625 10.84375 43.578125 6.953125 \r\nQ 41.015625 3.078125 36.171875 0.953125 \r\nQ 31.34375 -1.171875 25.25 -1.171875 \r\nQ 15.140625 -1.171875 9.84375 3.03125 \r\nQ 4.546875 7.234375 3.078125 15.484375 \r\nz\r\n\" id=\"ArialMT-115\"/>\r\n     <path d=\"M 42.09375 16.703125 \r\nL 51.171875 15.578125 \r\nQ 49.03125 7.625 43.21875 3.21875 \r\nQ 37.40625 -1.171875 28.375 -1.171875 \r\nQ 17 -1.171875 10.328125 5.828125 \r\nQ 3.65625 12.84375 3.65625 25.484375 \r\nQ 3.65625 38.578125 10.390625 45.796875 \r\nQ 17.140625 53.03125 27.875 53.03125 \r\nQ 38.28125 53.03125 44.875 45.953125 \r\nQ 51.46875 38.875 51.46875 26.03125 \r\nQ 51.46875 25.25 51.421875 23.6875 \r\nL 12.75 23.6875 \r\nQ 13.234375 15.140625 17.578125 10.59375 \r\nQ 21.921875 6.0625 28.421875 6.0625 \r\nQ 33.25 6.0625 36.671875 8.59375 \r\nQ 40.09375 11.140625 42.09375 16.703125 \r\nz\r\nM 13.234375 30.90625 \r\nL 42.1875 30.90625 \r\nQ 41.609375 37.453125 38.875 40.71875 \r\nQ 34.671875 45.796875 27.984375 45.796875 \r\nQ 21.921875 45.796875 17.796875 41.75 \r\nQ 13.671875 37.703125 13.234375 30.90625 \r\nz\r\n\" id=\"ArialMT-101\"/>\r\n     <path d=\"M -1.515625 -19.875 \r\nL -1.515625 -13.53125 \r\nL 56.734375 -13.53125 \r\nL 56.734375 -19.875 \r\nz\r\n\" id=\"ArialMT-95\"/>\r\n     <path d=\"M 6.59375 0 \r\nL 6.59375 51.859375 \r\nL 14.453125 51.859375 \r\nL 14.453125 44.578125 \r\nQ 16.890625 48.390625 20.9375 50.703125 \r\nQ 25 53.03125 30.171875 53.03125 \r\nQ 35.9375 53.03125 39.625 50.640625 \r\nQ 43.3125 48.25 44.828125 43.953125 \r\nQ 50.984375 53.03125 60.84375 53.03125 \r\nQ 68.5625 53.03125 72.703125 48.75 \r\nQ 76.859375 44.484375 76.859375 35.59375 \r\nL 76.859375 0 \r\nL 68.109375 0 \r\nL 68.109375 32.671875 \r\nQ 68.109375 37.9375 67.25 40.25 \r\nQ 66.40625 42.578125 64.15625 43.984375 \r\nQ 61.921875 45.40625 58.890625 45.40625 \r\nQ 53.421875 45.40625 49.796875 41.765625 \r\nQ 46.1875 38.140625 46.1875 30.125 \r\nL 46.1875 0 \r\nL 37.40625 0 \r\nL 37.40625 33.6875 \r\nQ 37.40625 39.546875 35.25 42.46875 \r\nQ 33.109375 45.40625 28.21875 45.40625 \r\nQ 24.515625 45.40625 21.359375 43.453125 \r\nQ 18.21875 41.5 16.796875 37.734375 \r\nQ 15.375 33.984375 15.375 26.90625 \r\nL 15.375 0 \r\nz\r\n\" id=\"ArialMT-109\"/>\r\n     <path d=\"M 6.59375 -19.875 \r\nL 6.59375 51.859375 \r\nL 14.59375 51.859375 \r\nL 14.59375 45.125 \r\nQ 17.4375 49.078125 21 51.046875 \r\nQ 24.5625 53.03125 29.640625 53.03125 \r\nQ 36.28125 53.03125 41.359375 49.609375 \r\nQ 46.4375 46.1875 49.015625 39.953125 \r\nQ 51.609375 33.734375 51.609375 26.3125 \r\nQ 51.609375 18.359375 48.75 11.984375 \r\nQ 45.90625 5.609375 40.453125 2.21875 \r\nQ 35.015625 -1.171875 29 -1.171875 \r\nQ 24.609375 -1.171875 21.109375 0.6875 \r\nQ 17.625 2.546875 15.375 5.375 \r\nL 15.375 -19.875 \r\nz\r\nM 14.546875 25.640625 \r\nQ 14.546875 15.625 18.59375 10.84375 \r\nQ 22.65625 6.0625 28.421875 6.0625 \r\nQ 34.28125 6.0625 38.453125 11.015625 \r\nQ 42.625 15.96875 42.625 26.375 \r\nQ 42.625 36.28125 38.546875 41.203125 \r\nQ 34.46875 46.140625 28.8125 46.140625 \r\nQ 23.1875 46.140625 18.859375 40.890625 \r\nQ 14.546875 35.640625 14.546875 25.640625 \r\nz\r\n\" id=\"ArialMT-112\"/>\r\n     <path d=\"M 6.390625 0 \r\nL 6.390625 71.578125 \r\nL 15.1875 71.578125 \r\nL 15.1875 0 \r\nz\r\n\" id=\"ArialMT-108\"/>\r\n    </defs>\r\n    <g style=\"fill:#262626;\" transform=\"translate(118.635312 15.789375)scale(0.12 -0.12)\">\r\n     <use xlink:href=\"#ArialMT-68\"/>\r\n     <use x=\"72.216797\" xlink:href=\"#ArialMT-97\"/>\r\n     <use x=\"127.832031\" xlink:href=\"#ArialMT-116\"/>\r\n     <use x=\"155.615234\" xlink:href=\"#ArialMT-97\"/>\r\n     <use x=\"211.230469\" xlink:href=\"#ArialMT-115\"/>\r\n     <use x=\"261.230469\" xlink:href=\"#ArialMT-101\"/>\r\n     <use x=\"316.845703\" xlink:href=\"#ArialMT-116\"/>\r\n     <use x=\"344.628906\" xlink:href=\"#ArialMT-95\"/>\r\n     <use x=\"400.244141\" xlink:href=\"#ArialMT-115\"/>\r\n     <use x=\"450.244141\" xlink:href=\"#ArialMT-97\"/>\r\n     <use x=\"505.859375\" xlink:href=\"#ArialMT-109\"/>\r\n     <use x=\"589.160156\" xlink:href=\"#ArialMT-112\"/>\r\n     <use x=\"644.775391\" xlink:href=\"#ArialMT-108\"/>\r\n     <use x=\"666.992188\" xlink:href=\"#ArialMT-101\"/>\r\n     <use x=\"722.607422\" xlink:href=\"#ArialMT-115\"/>\r\n    </g>\r\n   </g>\r\n   <g id=\"legend_1\">\r\n    <g id=\"patch_7\">\r\n     <path d=\"M 197.010937 147.719219 \r\nL 268.889063 147.719219 \r\nQ 271.089063 147.719219 271.089063 145.519219 \r\nL 271.089063 115.499531 \r\nQ 271.089063 113.299531 268.889063 113.299531 \r\nL 197.010937 113.299531 \r\nQ 194.810937 113.299531 194.810937 115.499531 \r\nL 194.810937 145.519219 \r\nQ 194.810937 147.719219 197.010937 147.719219 \r\nz\r\n\" style=\"fill:#eaeaf2;opacity:0.8;stroke:#cccccc;stroke-linejoin:miter;\"/>\r\n    </g>\r\n    <g id=\"PathCollection_3\">\r\n     <g>\r\n      <use style=\"fill:#4c72b0;stroke:#333333;\" x=\"210.210938\" xlink:href=\"#m7fec3b59a1\" y=\"122.685625\"/>\r\n     </g>\r\n    </g>\r\n    <g id=\"text_15\">\r\n     <!-- Class 0 -->\r\n     <defs>\r\n      <path d=\"M 58.796875 25.09375 \r\nL 68.265625 22.703125 \r\nQ 65.28125 11.03125 57.546875 4.90625 \r\nQ 49.8125 -1.21875 38.625 -1.21875 \r\nQ 27.046875 -1.21875 19.796875 3.484375 \r\nQ 12.546875 8.203125 8.765625 17.140625 \r\nQ 4.984375 26.078125 4.984375 36.328125 \r\nQ 4.984375 47.515625 9.25 55.828125 \r\nQ 13.53125 64.15625 21.40625 68.46875 \r\nQ 29.296875 72.796875 38.765625 72.796875 \r\nQ 49.515625 72.796875 56.828125 67.328125 \r\nQ 64.15625 61.859375 67.046875 51.953125 \r\nL 57.71875 49.75 \r\nQ 55.21875 57.5625 50.484375 61.125 \r\nQ 45.75 64.703125 38.578125 64.703125 \r\nQ 30.328125 64.703125 24.78125 60.734375 \r\nQ 19.234375 56.78125 16.984375 50.109375 \r\nQ 14.75 43.453125 14.75 36.375 \r\nQ 14.75 27.25 17.40625 20.4375 \r\nQ 20.0625 13.625 25.671875 10.25 \r\nQ 31.296875 6.890625 37.84375 6.890625 \r\nQ 45.796875 6.890625 51.3125 11.46875 \r\nQ 56.84375 16.0625 58.796875 25.09375 \r\nz\r\n\" id=\"ArialMT-67\"/>\r\n      <path id=\"ArialMT-32\"/>\r\n     </defs>\r\n     <g style=\"fill:#262626;\" transform=\"translate(230.010938 125.573125)scale(0.11 -0.11)\">\r\n      <use xlink:href=\"#ArialMT-67\"/>\r\n      <use x=\"72.216797\" xlink:href=\"#ArialMT-108\"/>\r\n      <use x=\"94.433594\" xlink:href=\"#ArialMT-97\"/>\r\n      <use x=\"150.048828\" xlink:href=\"#ArialMT-115\"/>\r\n      <use x=\"200.048828\" xlink:href=\"#ArialMT-115\"/>\r\n      <use x=\"250.048828\" xlink:href=\"#ArialMT-32\"/>\r\n      <use x=\"277.832031\" xlink:href=\"#ArialMT-48\"/>\r\n     </g>\r\n    </g>\r\n    <g id=\"PathCollection_4\">\r\n     <g>\r\n      <use style=\"fill:#dd8452;stroke:#333333;\" x=\"210.210938\" xlink:href=\"#mabc02173e3\" y=\"138.245469\"/>\r\n     </g>\r\n    </g>\r\n    <g id=\"text_16\">\r\n     <!-- Class 1 -->\r\n     <g style=\"fill:#262626;\" transform=\"translate(230.010938 141.132969)scale(0.11 -0.11)\">\r\n      <use xlink:href=\"#ArialMT-67\"/>\r\n      <use x=\"72.216797\" xlink:href=\"#ArialMT-108\"/>\r\n      <use x=\"94.433594\" xlink:href=\"#ArialMT-97\"/>\r\n      <use x=\"150.048828\" xlink:href=\"#ArialMT-115\"/>\r\n      <use x=\"200.048828\" xlink:href=\"#ArialMT-115\"/>\r\n      <use x=\"250.048828\" xlink:href=\"#ArialMT-32\"/>\r\n      <use x=\"277.832031\" xlink:href=\"#ArialMT-49\"/>\r\n     </g>\r\n    </g>\r\n   </g>\r\n  </g>\r\n </g>\r\n <defs>\r\n  <clipPath id=\"p07954842fc\">\r\n   <rect height=\"217.44\" width=\"223.2\" x=\"53.389062\" y=\"21.789375\"/>\r\n  </clipPath>\r\n </defs>\r\n</svg>\r\n",
      "text/plain": [
       "<Figure size 288x288 with 1 Axes>"
      ]
     },
     "metadata": {},
     "output_type": "display_data"
    }
   ],
   "source": [
    "visualize_sample(dataset.data,dataset.label)"
   ]
  },
  {
   "cell_type": "code",
   "execution_count": 185,
   "metadata": {},
   "outputs": [],
   "source": [
    "data_loader = data.DataLoader(dataset,batch_size = 8 , shuffle = True)"
   ]
  },
  {
   "cell_type": "code",
   "execution_count": 207,
   "metadata": {},
   "outputs": [
    {
     "data": {
      "text/plain": [
       "1"
      ]
     },
     "execution_count": 207,
     "metadata": {},
     "output_type": "execute_result"
    }
   ],
   "source": [
    "next(iter((i**2 for i in [1,2,3,4])))"
   ]
  },
  {
   "cell_type": "code",
   "execution_count": 187,
   "metadata": {},
   "outputs": [
    {
     "name": "stdout",
     "output_type": "stream",
     "text": [
      "Data inputs torch.Size([8, 2]) \n",
      " tensor([[ 0.8959,  0.9973],\n",
      "        [ 1.1989,  1.0320],\n",
      "        [ 1.1487,  1.0275],\n",
      "        [ 1.1512,  0.0747],\n",
      "        [ 0.9883,  0.9285],\n",
      "        [ 1.2069, -0.0165],\n",
      "        [ 0.8310, -0.0795],\n",
      "        [ 0.9834, -0.0595]])\n",
      "Data labels torch.Size([8]) \n",
      " tensor([0, 0, 0, 1, 0, 1, 1, 1])\n"
     ]
    }
   ],
   "source": [
    "data_inputs , data_labels = next(iter(data_loader))\n",
    "\n",
    "# dataloader에서 처음으로 나오는 값을 확인\n",
    "\n",
    "print(\"Data inputs\", data_inputs.shape,\"\\n\",data_inputs)\n",
    "print(\"Data labels\", data_labels.shape,\"\\n\",data_labels)"
   ]
  }
 ],
 "metadata": {
  "interpreter": {
   "hash": "57bc2b6ce032b5f0e93daa91901b7ea38a856826ef43aa9e95b6d3999f5310df"
  },
  "kernelspec": {
   "display_name": "Python 3.8.3 ('base')",
   "language": "python",
   "name": "python3"
  },
  "language_info": {
   "codemirror_mode": {
    "name": "ipython",
    "version": 3
   },
   "file_extension": ".py",
   "mimetype": "text/x-python",
   "name": "python",
   "nbconvert_exporter": "python",
   "pygments_lexer": "ipython3",
   "version": "3.8.3"
  },
  "orig_nbformat": 4
 },
 "nbformat": 4,
 "nbformat_minor": 2
}
