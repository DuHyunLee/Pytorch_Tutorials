{
 "cells": [
  {
   "cell_type": "code",
   "execution_count": 2,
   "metadata": {},
   "outputs": [],
   "source": [
    "import os\n",
    "import math\n",
    "import numpy as np\n",
    "import time\n",
    "import matplotlib.pyplot as plt\n",
    "%matplotlib inline\n",
    "\n",
    "from IPython.display import set_matplotlib_formats\n",
    "set_matplotlib_formats(\"svg\",\"pdf\")\n",
    "from matplotlib.colors import to_rgba\n",
    "import seaborn as sns\n",
    "sns.set()\n",
    "\n",
    "from tqdm.notebook import tqdm"
   ]
  },
  {
   "cell_type": "code",
   "execution_count": 3,
   "metadata": {},
   "outputs": [
    {
     "name": "stdout",
     "output_type": "stream",
     "text": [
      "Using torch 1.7.1+cpu\n"
     ]
    }
   ],
   "source": [
    "import torch\n",
    "print(\"Using torch\",torch.__version__)"
   ]
  },
  {
   "cell_type": "code",
   "execution_count": 9,
   "metadata": {},
   "outputs": [
    {
     "data": {
      "text/plain": [
       "<torch._C.Generator at 0x1be3304ecb0>"
      ]
     },
     "execution_count": 9,
     "metadata": {},
     "output_type": "execute_result"
    }
   ],
   "source": [
    "torch.manual_seed(42)      "
   ]
  },
  {
   "cell_type": "code",
   "execution_count": 10,
   "metadata": {},
   "outputs": [
    {
     "name": "stdout",
     "output_type": "stream",
     "text": [
      "tensor([[[9.2755e-39, 1.0561e-38, 5.9694e-39, 1.0010e-38],\n",
      "         [1.0102e-38, 1.0561e-38, 1.0469e-38, 1.0653e-38],\n",
      "         [1.0469e-38, 8.9082e-39, 8.9082e-39, 1.0194e-38]],\n",
      "\n",
      "        [[9.1837e-39, 4.6837e-39, 6.9796e-39, 9.0000e-39],\n",
      "         [1.0561e-38, 1.0653e-38, 4.1327e-39, 8.9082e-39],\n",
      "         [9.8265e-39, 9.4592e-39, 1.0561e-38, 1.0653e-38]]])\n",
      "torch.Size([2, 3, 4])\n"
     ]
    }
   ],
   "source": [
    "x = torch.Tensor(2,3,4)\n",
    "print(x)\n",
    "print(x.shape)\n",
    "# tensor 생성시에 random값으로 생성"
   ]
  },
  {
   "cell_type": "code",
   "execution_count": 11,
   "metadata": {},
   "outputs": [
    {
     "name": "stdout",
     "output_type": "stream",
     "text": [
      "tensor([[1., 2.],\n",
      "        [3., 4.]])\n"
     ]
    }
   ],
   "source": [
    "x = torch.Tensor([[1,2],[3,4]])\n",
    "print(x)"
   ]
  },
  {
   "cell_type": "code",
   "execution_count": 12,
   "metadata": {},
   "outputs": [
    {
     "name": "stdout",
     "output_type": "stream",
     "text": [
      "tensor([[[0.8823, 0.9150, 0.3829, 0.9593],\n",
      "         [0.3904, 0.6009, 0.2566, 0.7936],\n",
      "         [0.9408, 0.1332, 0.9346, 0.5936]],\n",
      "\n",
      "        [[0.8694, 0.5677, 0.7411, 0.4294],\n",
      "         [0.8854, 0.5739, 0.2666, 0.6274],\n",
      "         [0.2696, 0.4414, 0.2969, 0.8317]]])\n"
     ]
    }
   ],
   "source": [
    "x = torch.rand(2,3,4)\n",
    "print(x)"
   ]
  },
  {
   "cell_type": "code",
   "execution_count": 13,
   "metadata": {},
   "outputs": [
    {
     "name": "stdout",
     "output_type": "stream",
     "text": [
      "shape: torch.Size([2, 3, 4])\n",
      "size: torch.Size([2, 3, 4])\n",
      "size: 2 3 4\n"
     ]
    }
   ],
   "source": [
    "shape = x.shape\n",
    "print(\"shape:\",x.shape)\n",
    "\n",
    "size = x.size()\n",
    "print(\"size:\",size)\n",
    "\n",
    "dim1,dim2,dim3 = x.size()\n",
    "print(\"size:\", dim1,dim2,dim3)"
   ]
  },
  {
   "cell_type": "code",
   "execution_count": 14,
   "metadata": {},
   "outputs": [
    {
     "name": "stdout",
     "output_type": "stream",
     "text": [
      "tensor([[0.1053, 0.2695, 0.3588],\n",
      "        [0.1994, 0.5472, 0.0062]]) tensor([[0.9516, 0.0753, 0.8860],\n",
      "        [0.5832, 0.3376, 0.8090]]) tensor([[1.0569, 0.3448, 1.2448],\n",
      "        [0.7826, 0.8848, 0.8151]])\n"
     ]
    }
   ],
   "source": [
    "x1 = torch.rand(2,3)\n",
    "x2 = torch.rand(2,3)\n",
    "\n",
    "y = x1+x2\n",
    "print(x1,x2,y)"
   ]
  },
  {
   "cell_type": "code",
   "execution_count": 15,
   "metadata": {},
   "outputs": [
    {
     "name": "stdout",
     "output_type": "stream",
     "text": [
      "x1:(before): tensor([[0.5779, 0.9040, 0.5547],\n",
      "        [0.3423, 0.6343, 0.3644]])\n",
      "x2:(before): tensor([[0.7104, 0.9464, 0.7890],\n",
      "        [0.2814, 0.7886, 0.5895]])\n",
      "x3:(before): tensor([[1, 2, 3],\n",
      "        [4, 5, 6]])\n",
      "x1:(after): tensor([[0.5779, 0.9040, 0.5547],\n",
      "        [0.3423, 0.6343, 0.3644]])\n",
      "x2:(after): tensor([[1.2884, 1.8504, 1.3437],\n",
      "        [0.6237, 1.4230, 0.9539]])\n",
      "x3:(after): tensor([[1, 2, 3],\n",
      "        [4, 5, 6]])\n"
     ]
    }
   ],
   "source": [
    "x1 = torch.rand(2,3)\n",
    "x2 = torch.rand(2,3)\n",
    "x3 = torch.tensor([[1,2,3],[4,5,6]])\n",
    "\n",
    "print(\"x1:(before):\",x1)\n",
    "print(\"x2:(before):\",x2)\n",
    "print(\"x3:(before):\",x3)\n",
    "\n",
    "\n",
    "x2.add_(x1)\n",
    "x3.add(x1)\n",
    "print(\"x1:(after):\",x1)  \n",
    "print(\"x2:(after):\",x2)\n",
    "print(\"x3:(after):\",x3)\n",
    "\n",
    "#x2.add(x1)이라는 명령어는 오류는 안나오는데 실질적으로 기능을 못하는 명령어\n",
    "\n"
   ]
  },
  {
   "cell_type": "code",
   "execution_count": 16,
   "metadata": {},
   "outputs": [
    {
     "name": "stdout",
     "output_type": "stream",
     "text": [
      "x: tensor([0, 1, 2, 3, 4, 5])\n"
     ]
    }
   ],
   "source": [
    "x = torch.arange(6)\n",
    "print(\"x:\",x)"
   ]
  },
  {
   "cell_type": "code",
   "execution_count": 17,
   "metadata": {},
   "outputs": [
    {
     "name": "stdout",
     "output_type": "stream",
     "text": [
      "x: tensor([[0, 1, 2],\n",
      "        [3, 4, 5]])\n"
     ]
    }
   ],
   "source": [
    "x = x.view(2,3)\n",
    "print(\"x:\",x)"
   ]
  },
  {
   "cell_type": "code",
   "execution_count": 18,
   "metadata": {},
   "outputs": [
    {
     "name": "stdout",
     "output_type": "stream",
     "text": [
      "X: tensor([[0, 3],\n",
      "        [1, 4],\n",
      "        [2, 5]])\n"
     ]
    }
   ],
   "source": [
    "x = x.permute(1,0) #swaapping dimension 0 and 1 #  차원 축을 바꿔줌\n",
    "print(\"X:\",x)"
   ]
  },
  {
   "cell_type": "code",
   "execution_count": 19,
   "metadata": {},
   "outputs": [
    {
     "name": "stdout",
     "output_type": "stream",
     "text": [
      "tensor([[0, 1, 2],\n",
      "        [3, 4, 5]])\n"
     ]
    }
   ],
   "source": [
    "x = torch.arange(6)\n",
    "x = x.view(2,3)\n",
    "print(x)"
   ]
  },
  {
   "cell_type": "code",
   "execution_count": 20,
   "metadata": {},
   "outputs": [
    {
     "name": "stdout",
     "output_type": "stream",
     "text": [
      "tensor([[0, 1, 2],\n",
      "        [3, 4, 5],\n",
      "        [6, 7, 8]])\n"
     ]
    }
   ],
   "source": [
    "w = torch.arange(9).view(3,3)\n",
    "print(w)"
   ]
  },
  {
   "cell_type": "code",
   "execution_count": 21,
   "metadata": {},
   "outputs": [
    {
     "name": "stdout",
     "output_type": "stream",
     "text": [
      "tensor([[15, 18, 21],\n",
      "        [42, 54, 66]])\n"
     ]
    }
   ],
   "source": [
    "h = torch.matmul(x,w) # 일반적인 행렬곱\n",
    "print(h)"
   ]
  },
  {
   "cell_type": "code",
   "execution_count": 22,
   "metadata": {},
   "outputs": [
    {
     "name": "stdout",
     "output_type": "stream",
     "text": [
      "x tensor([[ 0,  1,  2,  3],\n",
      "        [ 4,  5,  6,  7],\n",
      "        [ 8,  9, 10, 11]])\n"
     ]
    }
   ],
   "source": [
    "x = torch.arange(12).view(3,4)\n",
    "print(\"x\",x)"
   ]
  },
  {
   "cell_type": "code",
   "execution_count": 23,
   "metadata": {},
   "outputs": [
    {
     "name": "stdout",
     "output_type": "stream",
     "text": [
      "tensor([4, 5, 6, 7])\n",
      "tensor([4, 5, 6, 7])\n",
      "tensor([1, 5, 9])\n"
     ]
    }
   ],
   "source": [
    "print(x[1,:]) , print(x[1]) # 1행 출력\n",
    "print(x[:,1]) # 1열 출력"
   ]
  },
  {
   "cell_type": "code",
   "execution_count": 24,
   "metadata": {},
   "outputs": [
    {
     "name": "stdout",
     "output_type": "stream",
     "text": [
      "tensor([[ 6,  7],\n",
      "        [10, 11]])\n"
     ]
    }
   ],
   "source": [
    "print(x[1:3,2:])"
   ]
  },
  {
   "cell_type": "code",
   "execution_count": 25,
   "metadata": {},
   "outputs": [
    {
     "name": "stdout",
     "output_type": "stream",
     "text": [
      "False\n"
     ]
    }
   ],
   "source": [
    "x = torch.ones((3,))\n",
    "print(x.requires_grad)"
   ]
  },
  {
   "cell_type": "code",
   "execution_count": 26,
   "metadata": {},
   "outputs": [
    {
     "name": "stdout",
     "output_type": "stream",
     "text": [
      "True\n"
     ]
    }
   ],
   "source": [
    "x.requires_grad_(True)\n",
    "print(x.requires_grad)"
   ]
  },
  {
   "cell_type": "code",
   "execution_count": 27,
   "metadata": {},
   "outputs": [
    {
     "name": "stdout",
     "output_type": "stream",
     "text": [
      "tensor([0.2815, 0.0562, 0.5227], requires_grad=True)\n"
     ]
    }
   ],
   "source": [
    "x = torch.randn(3,dtype=torch.float32,requires_grad=True)\n",
    "print(x)"
   ]
  },
  {
   "cell_type": "code",
   "execution_count": 28,
   "metadata": {},
   "outputs": [
    {
     "name": "stdout",
     "output_type": "stream",
     "text": [
      "tensor(8.2657, grad_fn=<MeanBackward0>)\n"
     ]
    }
   ],
   "source": [
    "a = x + 2\n",
    "b = a**2\n",
    "c = b + 3\n",
    "y = c.mean()\n",
    "print(y)\n"
   ]
  },
  {
   "cell_type": "code",
   "execution_count": 29,
   "metadata": {},
   "outputs": [
    {
     "data": {
      "text/plain": [
       "<MeanBackward0 at 0x1be3707ccd0>"
      ]
     },
     "execution_count": 29,
     "metadata": {},
     "output_type": "execute_result"
    }
   ],
   "source": [
    "y.grad_fn"
   ]
  },
  {
   "cell_type": "code",
   "execution_count": 30,
   "metadata": {},
   "outputs": [],
   "source": [
    "y.backward()"
   ]
  },
  {
   "cell_type": "code",
   "execution_count": 31,
   "metadata": {},
   "outputs": [
    {
     "name": "stdout",
     "output_type": "stream",
     "text": [
      "tensor([1.5210, 1.3708, 1.6818])\n"
     ]
    }
   ],
   "source": [
    "print(x.grad)"
   ]
  },
  {
   "cell_type": "code",
   "execution_count": 32,
   "metadata": {},
   "outputs": [
    {
     "name": "stdout",
     "output_type": "stream",
     "text": [
      "False\n"
     ]
    }
   ],
   "source": [
    "gpu_avail = torch.cuda.is_available()\n",
    "print(gpu_avail)"
   ]
  },
  {
   "cell_type": "code",
   "execution_count": 33,
   "metadata": {},
   "outputs": [
    {
     "name": "stdout",
     "output_type": "stream",
     "text": [
      "cpu\n"
     ]
    }
   ],
   "source": [
    "device = torch.device(\"cuda\") if torch.cuda.is_available() else torch.device('cpu')\n",
    "print(device)"
   ]
  },
  {
   "cell_type": "code",
   "execution_count": 34,
   "metadata": {},
   "outputs": [
    {
     "name": "stdout",
     "output_type": "stream",
     "text": [
      "tensor([[0., 0., 0.],\n",
      "        [0., 0., 0.]])\n"
     ]
    }
   ],
   "source": [
    "x = torch.zeros(2,3)\n",
    "x = x.to(device)\n",
    "print(x)"
   ]
  },
  {
   "cell_type": "code",
   "execution_count": 35,
   "metadata": {},
   "outputs": [],
   "source": [
    "if torch.cuda.is_available():\n",
    "    torch.cuda.manual_seed(42)\n",
    "    torch.cuda.manual_seed_all(42)\n",
    "\n",
    "    torch.backends.cudnn.deterministic = True\n",
    "    torch.backends.cudnn.benchmark = False"
   ]
  },
  {
   "cell_type": "code",
   "execution_count": 36,
   "metadata": {},
   "outputs": [],
   "source": [
    "###pytorch Part 2"
   ]
  },
  {
   "cell_type": "code",
   "execution_count": 37,
   "metadata": {},
   "outputs": [],
   "source": [
    "import torch.nn as nn\n",
    "import torch.nn.functional as F"
   ]
  },
  {
   "cell_type": "code",
   "execution_count": 38,
   "metadata": {},
   "outputs": [],
   "source": [
    "class Mymodule(nn.Module):\n",
    "\n",
    "    def __init__(self):\n",
    "        super.__init__()\n",
    "        #some init for my module\n",
    "    \n",
    "    def forward(self,x):\n",
    "        pass\n",
    "        #Function for performing the calculation of the module\n",
    "        \n",
    "    #def backward()\n",
    "    #backward의 경우에는 자동으로 실행되고, 필요에 따라 내가 직접 정의할 수 있음."
   ]
  },
  {
   "cell_type": "code",
   "execution_count": 39,
   "metadata": {},
   "outputs": [],
   "source": [
    "class SimpleClassifier(nn.Module):\n",
    "\n",
    "    def __init__(self, num_inputs, num_hidden,num_outputs):\n",
    "        super().__init__()\n",
    "        # Initialize the module we need to build the network\n",
    "        self.linear1 = nn.Linear(num_inputs,num_hidden)\n",
    "        # input을 받아주는 layer\n",
    "        self.act_func = nn.Tanh()\n",
    "        # activation 함수 ## 근데 activation layer의 노드 수가 4개인데 이거는 설정을 어떻게 하는거지?\n",
    "                            ## 이건은 num_hidden이 결정하는 것!\n",
    "                            ## hidden Layer의 수가 여럿인데, 노드 수를 다르게 하고 싶을땐 어카지?\n",
    "        self.linear2 = nn.Linear(num_inputs,num_hidden)\n",
    "        # output\n",
    "\n",
    "    def forward(self,x):\n",
    "        # perform the calculation of the model to determine the prediction\n",
    "        x = self.linear1(x)\n",
    "        x = self.act_func(x)\n",
    "        x = self.linear2(x)\n",
    "\n",
    "        # x에 대한 식을 한줄로 써도 문제는 없지만 보기 불편하고, 이해하기 어려울 수 있으므로, 이렇게 쓰는게 나음\n",
    "\n",
    "        return x        "
   ]
  },
  {
   "cell_type": "code",
   "execution_count": 40,
   "metadata": {},
   "outputs": [
    {
     "name": "stdout",
     "output_type": "stream",
     "text": [
      "SimpleClassifier(\n",
      "  (linear1): Linear(in_features=2, out_features=4, bias=True)\n",
      "  (act_func): Tanh()\n",
      "  (linear2): Linear(in_features=2, out_features=4, bias=True)\n",
      ")\n"
     ]
    }
   ],
   "source": [
    "model = SimpleClassifier(num_inputs=2,num_hidden=4,num_outputs=1)\n",
    "# printing a module shows all its submodule\n",
    "# submodule이 전부 나타나게 하려면 어떻게 해야하는걸까? transformer 만들때는 망했는데 흑흑\n",
    "print(model)"
   ]
  },
  {
   "cell_type": "code",
   "execution_count": 41,
   "metadata": {},
   "outputs": [
    {
     "name": "stdout",
     "output_type": "stream",
     "text": [
      "parameter linear1.weight, shape torch.Size([4, 2])\n",
      "parameter linear1.bias, shape torch.Size([4])\n",
      "parameter linear2.weight, shape torch.Size([4, 2])\n",
      "parameter linear2.bias, shape torch.Size([4])\n"
     ]
    }
   ],
   "source": [
    "for name,param in model.named_parameters():\n",
    "    print(\"parameter %s, shape %s\" % (name, str(param.shape)))\n",
    "    #   %s는 .format이랑 비슷한 기능해줌."
   ]
  },
  {
   "cell_type": "code",
   "execution_count": 42,
   "metadata": {},
   "outputs": [],
   "source": [
    "import torch.utils.data as data"
   ]
  },
  {
   "cell_type": "code",
   "execution_count": 43,
   "metadata": {},
   "outputs": [
    {
     "data": {
      "text/plain": [
       "torch.utils.data.dataset.Dataset"
      ]
     },
     "execution_count": 43,
     "metadata": {},
     "output_type": "execute_result"
    }
   ],
   "source": [
    "data.Dataset"
   ]
  },
  {
   "cell_type": "code",
   "execution_count": 44,
   "metadata": {},
   "outputs": [
    {
     "name": "stdout",
     "output_type": "stream",
     "text": [
      "tensor([[0, 1],\n",
      "        [0, 1],\n",
      "        [0, 0]])\n",
      "tensor([1, 1, 0])\n",
      "tensor([ True,  True, False])\n"
     ]
    },
    {
     "data": {
      "text/plain": [
       "tensor([1, 1, 0])"
      ]
     },
     "execution_count": 44,
     "metadata": {},
     "output_type": "execute_result"
    }
   ],
   "source": [
    "x = torch.randint(low = 0, high = 2,size =(3,2))\n",
    "print(x)\n",
    "print(x.sum(dim = 1)) # 행끼리의 합\n",
    "# print(x.sum(dim = 0)) # 열끼리의 합\n",
    "\n",
    "# print(x.to(torch.long)) # datatype을 변경해주는 작업\n",
    "\n",
    "print(x.sum(dim = 1) == 1)# 행의 sum이 1이냐?\n",
    "(x.sum(dim = 1) == 1).to(torch.long)"
   ]
  },
  {
   "cell_type": "code",
   "execution_count": 60,
   "metadata": {},
   "outputs": [
    {
     "data": {
      "text/plain": [
       "tensor([0, 0, 0, 0, 0, 0, 0, 0, 0, 1])"
      ]
     },
     "execution_count": 60,
     "metadata": {},
     "output_type": "execute_result"
    }
   ],
   "source": [
    "data = torch.randint(low = 0,high = 2,size = (10,2),dtype = torch.float32)\n",
    "label = (data.sum(dim = 1) == 1 ).to(torch.long)\n",
    "label"
   ]
  },
  {
   "cell_type": "code",
   "execution_count": 45,
   "metadata": {},
   "outputs": [],
   "source": [
    "class XORDataset(data.Dataset): #data.Dataset를 상속받음\n",
    "    def __init__(self,size,std = 0.1):\n",
    "        \"\"\"\n",
    "            inputs :\n",
    "                size - Number of data points we want to generate\n",
    "                std - Standard deviation of the noise ( see generate_continuous_xor function)\n",
    "    \n",
    "        \"\"\"\n",
    "        super().__init__()\n",
    "        self.size = size\n",
    "        self.std = std\n",
    "        self.generate_continuous_xor()\n",
    "\n",
    "    def generate_continuous_xor(self):\n",
    "\n",
    "        # Each data point int he XOR dataset has two variables, x and y, that can be either 0 or 1\n",
    "        # the label is their XOR combination, i.e. 1 if iobly x or only y is 1 while the other is 0\n",
    "        # if x = y, the label is 0\n",
    "\n",
    "        data = torch.randint(low = 0,high = 2,size = (self.size,2),dtype = torch.float32)\n",
    "        label = (data.sum(dim = 1) == 1 ).to(torch.long)\n",
    "        # data.sum(dim = 1) == 1 : xor을 boolen값으로 나타내는 작업\n",
    "        # label 설계 : data를 열끼리 더한 값이 boolen형태의 값으로 출력이 되면, 그것을 숫자형으로 바꿔서 0 or 1로 나타나게 만든다.\n",
    "        # size는 내가 입력한 size * 2 짜리 matrix가 된다.\n",
    "\n",
    "        # To make it slightly more challenging, we add a bit of gaussian noise to the data points\n",
    "\n",
    "        data += self.std * torch.randn(data.shape)\n",
    "        # XOR data에 분산을 적용시켜준다.\n",
    "        # 아마도 이건 요소별 곱이겠지?\n",
    "\n",
    "        self.data =  data\n",
    "        self.label = label\n",
    "    \n",
    "    def __len__(self):\n",
    "\n",
    "        # number of data point we have. alternatively self.data.shaoe[0], or self.label.shape[0]\n",
    "\n",
    "        return self.size\n",
    "\n",
    "    def __getitem__(self,idx):\n",
    "        \n",
    "        # index를 사용할 수 있도록 해주는 내장함수!\n",
    "        # 이거 없으면 index 사용이 안된다.\n",
    "\n",
    "        data_point = self.data[idx]\n",
    "        data_label = self.label[idx]\n",
    "        return data_point , data_label\n",
    "\n"
   ]
  },
  {
   "cell_type": "code",
   "execution_count": 46,
   "metadata": {},
   "outputs": [
    {
     "name": "stdout",
     "output_type": "stream",
     "text": [
      "size of data: 200\n"
     ]
    },
    {
     "data": {
      "text/plain": [
       "(tensor([ 0.8353, -0.1036]), tensor(1))"
      ]
     },
     "execution_count": 46,
     "metadata": {},
     "output_type": "execute_result"
    }
   ],
   "source": [
    "dataset = XORDataset(size = 200)\n",
    "print(\"size of data:\",len(dataset))\n",
    "\n",
    "dataset[0]"
   ]
  },
  {
   "cell_type": "code",
   "execution_count": 47,
   "metadata": {},
   "outputs": [],
   "source": [
    "x = dataset[:][0][0:,0]\n",
    "y = dataset[:][0][0:,1]\n",
    "# dataset.data\n",
    "\n",
    "label = dataset[:][1]\n",
    "# dataset.label"
   ]
  },
  {
   "cell_type": "code",
   "execution_count": 48,
   "metadata": {},
   "outputs": [
    {
     "data": {
      "text/plain": [
       "array([[ 8.35295916e-01, -1.03620984e-01],\n",
       "       [ 9.02892530e-01,  1.28605056e+00],\n",
       "       [ 9.00589883e-01,  9.64098334e-01],\n",
       "       [ 8.99906576e-01,  9.93690014e-01],\n",
       "       [ 1.03830314e+00,  9.95523036e-01],\n",
       "       [ 7.68804610e-01,  9.35843885e-01],\n",
       "       [ 1.10530210e+00,  1.44950733e-01],\n",
       "       [ 9.52833220e-02,  1.11890674e+00],\n",
       "       [ 8.71773839e-01,  1.19652927e+00],\n",
       "       [ 8.82342160e-01,  1.11888504e+00],\n",
       "       [ 1.02155542e+00,  1.06264603e+00],\n",
       "       [ 1.09143531e+00,  1.00950442e-01],\n",
       "       [ 9.66110170e-01,  5.17973378e-02],\n",
       "       [ 8.25407028e-01,  1.10963869e+00],\n",
       "       [ 4.86561917e-02,  1.03668249e+00],\n",
       "       [-3.91183011e-02,  1.01698542e+00],\n",
       "       [ 9.27479863e-01, -9.52773318e-02],\n",
       "       [ 9.15721178e-01, -1.64126843e-01],\n",
       "       [ 9.28190589e-01, -1.08956499e-02],\n",
       "       [-1.82996616e-01,  1.03647089e+00],\n",
       "       [ 8.08474302e-01, -6.42175302e-02],\n",
       "       [ 9.32474852e-01,  9.18960214e-01],\n",
       "       [ 9.16703522e-01,  1.82964563e-01],\n",
       "       [ 7.77882934e-02, -5.76231210e-03],\n",
       "       [-1.45753667e-01, -9.71237943e-02],\n",
       "       [ 2.41500754e-02, -1.16115034e-01],\n",
       "       [ 1.45110535e-02,  1.66122228e-01],\n",
       "       [ 1.05438697e+00, -5.21415435e-02],\n",
       "       [ 1.12208390e+00,  9.39235568e-01],\n",
       "       [ 9.95473862e-01, -3.57293449e-02],\n",
       "       [-5.71393967e-02, -1.40782729e-01],\n",
       "       [-3.76368426e-02,  1.09874165e+00],\n",
       "       [-1.67823937e-02,  1.64331466e-01],\n",
       "       [ 5.16260266e-02,  1.60604447e-01],\n",
       "       [-9.81502607e-02,  1.05360734e+00],\n",
       "       [ 9.22603235e-02,  1.04871643e+00],\n",
       "       [-9.76955593e-02,  9.96636629e-01],\n",
       "       [-7.98263624e-02, -2.64824610e-02],\n",
       "       [ 9.83339012e-01,  1.02518201e+00],\n",
       "       [ 1.12571263e+00,  1.21730261e-01],\n",
       "       [ 1.03034091e+00, -4.50076759e-02],\n",
       "       [-1.73871424e-02,  1.00299096e+00],\n",
       "       [ 9.98604059e-01, -1.01640879e-03],\n",
       "       [ 2.33718194e-02,  1.14083469e+00],\n",
       "       [ 9.82574046e-01,  1.06092060e+00],\n",
       "       [ 2.25436017e-02, -2.79333182e-02],\n",
       "       [ 6.70187548e-02,  1.18799051e-02],\n",
       "       [-6.11940697e-02,  6.02620617e-02],\n",
       "       [ 9.55974936e-01,  2.18482956e-01],\n",
       "       [ 9.77151543e-02, -1.41533703e-01],\n",
       "       [ 9.99921799e-01,  9.23477858e-02],\n",
       "       [-1.18595660e-01,  1.12985849e+00],\n",
       "       [-1.20553613e-01, -9.54210386e-02],\n",
       "       [ 8.98728892e-02, -1.33677935e-02],\n",
       "       [ 6.84411824e-02,  1.07113922e+00],\n",
       "       [ 1.03048098e+00,  1.05130291e+00],\n",
       "       [ 8.05047750e-02, -1.11336045e-01],\n",
       "       [ 5.25799170e-02,  1.16827893e+00],\n",
       "       [ 9.67364386e-03,  2.57075280e-02],\n",
       "       [ 1.04727709e+00,  3.64023298e-02],\n",
       "       [ 1.17697966e+00,  1.06268179e+00],\n",
       "       [ 9.50238764e-01, -1.82280913e-02],\n",
       "       [-2.12001633e-02,  8.16216841e-02],\n",
       "       [ 8.98216516e-02, -1.53883416e-02],\n",
       "       [ 1.29458278e-01,  2.22673118e-02],\n",
       "       [ 8.70762944e-01,  1.68870147e-02],\n",
       "       [ 9.16738808e-01, -8.12947825e-02],\n",
       "       [ 9.70034227e-02, -6.75772280e-02],\n",
       "       [ 1.07637978e+00,  1.11792219e+00],\n",
       "       [ 1.00830197e+00,  1.04220200e+00],\n",
       "       [ 3.41847800e-02,  7.29841709e-01],\n",
       "       [ 6.66079996e-03, -9.11994129e-02],\n",
       "       [ 1.05633533e+00,  9.42136407e-01],\n",
       "       [ 8.77006948e-01,  1.20928645e+00],\n",
       "       [ 1.08757854e+00,  1.03255785e+00],\n",
       "       [ 1.03125763e+00,  9.94771361e-01],\n",
       "       [ 2.32028924e-02,  1.05064988e+00],\n",
       "       [ 9.08223629e-01,  4.20565531e-02],\n",
       "       [ 9.63114142e-01, -7.69614503e-02],\n",
       "       [ 2.07051239e-03,  1.07428741e+00],\n",
       "       [-1.19056001e-01,  7.75607377e-02],\n",
       "       [-9.43739340e-02,  1.73049103e-02],\n",
       "       [ 8.11854064e-01,  5.85094877e-02],\n",
       "       [ 1.15287316e+00, -9.32396576e-02],\n",
       "       [-8.70845541e-02, -6.41097277e-02],\n",
       "       [ 5.37378490e-02,  1.07817495e+00],\n",
       "       [ 1.10477304e+00, -3.94805595e-02],\n",
       "       [ 1.60769984e-01,  9.19357121e-01],\n",
       "       [-1.17720580e-02, -2.98643243e-02],\n",
       "       [ 1.51930168e-01,  1.00358021e+00],\n",
       "       [ 1.10366499e+00,  1.08816910e+00],\n",
       "       [-1.32372722e-01, -3.67463566e-02],\n",
       "       [ 1.00585222e+00,  8.33175182e-01],\n",
       "       [ 9.98003304e-01,  8.78688574e-01],\n",
       "       [ 1.19710483e-01,  9.21822786e-01],\n",
       "       [ 1.11624956e-01,  1.02915883e+00],\n",
       "       [ 2.79438291e-02,  9.42818105e-01],\n",
       "       [ 1.19490778e+00,  9.57481205e-01],\n",
       "       [ 9.62471902e-01,  1.44670352e-01],\n",
       "       [ 9.21282530e-01,  2.49920160e-01],\n",
       "       [ 1.23061584e-02,  8.75751153e-02],\n",
       "       [ 2.11626180e-02,  1.12271369e+00],\n",
       "       [-5.72280474e-02, -1.70700364e-02],\n",
       "       [-4.58705015e-02,  9.84558940e-01],\n",
       "       [ 9.90341902e-01,  1.15419245e+00],\n",
       "       [ 8.48526657e-01,  1.85178488e-01],\n",
       "       [-1.70162898e-02,  8.61393690e-01],\n",
       "       [ 1.65126935e-01, -5.15672155e-02],\n",
       "       [ 1.34625897e-01,  1.08556068e+00],\n",
       "       [ 8.47440362e-01,  1.25380605e-01],\n",
       "       [ 9.31566000e-01,  7.87835240e-01],\n",
       "       [ 1.07219577e+00,  9.40573692e-01],\n",
       "       [ 9.51906204e-01, -9.90362242e-02],\n",
       "       [ 8.78426313e-01,  1.52744388e-03],\n",
       "       [-1.04864672e-01,  1.17823076e+00],\n",
       "       [-5.95106073e-02, -1.45682618e-02],\n",
       "       [ 9.99304056e-02,  1.12751853e+00],\n",
       "       [ 1.12704027e+00, -7.50349415e-03],\n",
       "       [ 7.70503879e-01,  8.63694012e-01],\n",
       "       [ 1.14306474e+00,  9.74169612e-01],\n",
       "       [ 1.86447855e-02,  3.54713313e-02],\n",
       "       [ 1.01247883e+00,  1.04939044e+00],\n",
       "       [ 7.83910975e-03,  2.23590340e-02],\n",
       "       [ 1.01112807e+00, -1.53390244e-01],\n",
       "       [ 8.50634396e-01,  9.77861464e-01],\n",
       "       [ 1.20975105e-02,  5.53529374e-02],\n",
       "       [ 8.07967603e-01,  9.90293503e-01],\n",
       "       [-3.48668993e-02,  9.17761862e-01],\n",
       "       [-8.09705779e-02,  8.57013941e-01],\n",
       "       [-1.48105053e-02, -7.97774121e-02],\n",
       "       [ 1.87833890e-01,  1.01815403e+00],\n",
       "       [ 9.28750277e-01, -1.53256236e-02],\n",
       "       [ 8.76292408e-01, -2.30187520e-01],\n",
       "       [ 6.07149191e-02,  1.00346100e+00],\n",
       "       [ 9.48762119e-01,  5.57412766e-02],\n",
       "       [ 9.98239756e-01,  8.00465345e-01],\n",
       "       [-3.89446989e-02,  2.85438061e-01],\n",
       "       [ 1.03309131e+00,  9.77024212e-02],\n",
       "       [-3.44431698e-02,  9.81112719e-01],\n",
       "       [ 4.16987156e-03, -3.35658155e-02],\n",
       "       [ 9.57017839e-01,  1.05761588e+00],\n",
       "       [ 6.82919994e-02, -3.57190217e-03],\n",
       "       [ 9.11189556e-01,  9.41088080e-01],\n",
       "       [ 1.01307094e+00,  1.17126513e+00],\n",
       "       [-7.19018579e-02,  9.61416900e-01],\n",
       "       [ 1.00491011e+00,  1.24786161e-01],\n",
       "       [ 1.00929141e+00, -7.84363449e-02],\n",
       "       [ 1.00350153e+00,  1.08421803e+00],\n",
       "       [ 9.23310757e-01, -9.49486718e-02],\n",
       "       [ 5.83144501e-02,  1.00330198e+00],\n",
       "       [-1.25977099e-01, -7.29809925e-02],\n",
       "       [ 1.29751101e-01, -9.64551698e-03],\n",
       "       [ 4.15976159e-02,  1.90253571e-01],\n",
       "       [ 8.64753723e-01,  9.86971259e-01],\n",
       "       [ 1.75512955e-01,  1.00675106e+00],\n",
       "       [ 9.60216641e-01,  1.07583308e+00],\n",
       "       [ 1.06833982e+00, -1.38251828e-02],\n",
       "       [ 1.09863901e+00,  9.61074471e-01],\n",
       "       [ 6.13807440e-02, -2.78631281e-02],\n",
       "       [ 1.05885065e+00,  1.07091165e+00],\n",
       "       [ 1.01995587e+00,  8.75380516e-01],\n",
       "       [ 1.04035163e+00,  1.04462707e+00],\n",
       "       [-5.21843992e-02,  1.08302033e+00],\n",
       "       [ 9.94902909e-01,  1.43100977e-01],\n",
       "       [-1.28943428e-01,  1.07628107e-01],\n",
       "       [-2.28786379e-01,  9.51659203e-01],\n",
       "       [ 1.05599988e+00,  8.93976688e-01],\n",
       "       [ 8.57993782e-01,  9.44407165e-01],\n",
       "       [ 1.02240479e+00, -7.55478516e-02],\n",
       "       [ 1.08670807e+00,  1.91910174e-02],\n",
       "       [ 1.16001084e-01,  9.99118507e-01],\n",
       "       [ 8.50477740e-02,  9.15035486e-01],\n",
       "       [-6.60413429e-02,  1.01135254e+00],\n",
       "       [ 3.55692469e-02,  1.12056458e+00],\n",
       "       [ 1.13690305e+00,  9.30504203e-01],\n",
       "       [ 1.14324439e+00,  1.02276182e+00],\n",
       "       [-1.23220704e-01, -5.98077141e-02],\n",
       "       [-1.34929940e-02,  1.01487708e+00],\n",
       "       [-2.37767976e-02,  9.89860773e-01],\n",
       "       [ 1.09077179e+00, -3.66924852e-02],\n",
       "       [-5.95004149e-02,  1.03926337e+00],\n",
       "       [-1.43135041e-01,  9.96020138e-01],\n",
       "       [ 9.49965835e-01,  1.02930379e+00],\n",
       "       [ 1.01838624e+00,  9.20603454e-01],\n",
       "       [ 7.20186457e-02, -1.34130660e-02],\n",
       "       [ 9.83554006e-01,  1.13389063e+00],\n",
       "       [ 2.00471982e-01, -1.58078387e-01],\n",
       "       [ 8.66176903e-01,  4.74178158e-02],\n",
       "       [ 9.74947870e-01,  1.67045563e-01],\n",
       "       [ 1.18887591e+00, -7.53813908e-02],\n",
       "       [ 8.28574121e-01, -2.20697865e-01],\n",
       "       [-2.66994387e-02,  1.02584243e+00],\n",
       "       [ 4.96740825e-02,  7.63083100e-01],\n",
       "       [-2.76665594e-02,  9.66141641e-01],\n",
       "       [-8.81028473e-02,  1.03483534e+00],\n",
       "       [ 6.93003014e-02,  1.11980045e+00],\n",
       "       [-9.70576108e-02,  1.14723694e+00],\n",
       "       [ 8.62247407e-01,  8.79556298e-01],\n",
       "       [-4.82419841e-02,  9.18358088e-01],\n",
       "       [-1.64888903e-01,  9.72002923e-01]], dtype=float32)"
      ]
     },
     "execution_count": 48,
     "metadata": {},
     "output_type": "execute_result"
    }
   ],
   "source": [
    "dataset.data.cpu().numpy()\n",
    "# https://byeongjo-kim.tistory.com/32\n",
    "# .cpu()는 gpu에 있는 데이터를 cpu로 복사해서 가져오는것을 이야기한다.\n"
   ]
  },
  {
   "cell_type": "code",
   "execution_count": 49,
   "metadata": {},
   "outputs": [],
   "source": [
    "def visualize_sample(data,label):\n",
    "    if isinstance(data,torch.Tensor):\n",
    "        # isinstance(data,dtype) -> 가져온 데이터 타입이 입력학 dtype과 같으면 True, 아니면 False\n",
    "        # GPU로 부터 tensor를 가져와서 CPU에 복사한 뒤에, numpy로 변환한다.\n",
    "        data = data.cpu().numpy()\n",
    "    \n",
    "    if isinstance(label,torch.Tensor):\n",
    "        label = label.cpu().numpy()\n",
    "    \n",
    "    data_0 = data[label == 0]\n",
    "    data_1 = data[label == 1]\n",
    "\n",
    "    plt.figure(figsize=(4,4))\n",
    "    plt.scatter(data_0[:,0], data_0[:,1], edgecolor=\"#333\", label = \"Class 0\")\n",
    "    plt.scatter(data_1[:,0], data_1[:,1], edgecolor=\"#333\", label = \"Class 1\")    \n",
    "\n",
    "    plt.title(\"Dataset_samples\")\n",
    "    plt.ylabel(r\"$x_2$\")\n",
    "    plt.xlabel(r\"$x_1$\")\n",
    "    plt.legend()\n",
    "\n",
    "\n"
   ]
  },
  {
   "cell_type": "code",
   "execution_count": 50,
   "metadata": {},
   "outputs": [
    {
     "data": {
      "application/pdf": "[encoded data removed]",
      "image/svg+xml": "<?xml version=\"1.0\" encoding=\"utf-8\" standalone=\"no\"?>\r\n<!DOCTYPE svg PUBLIC \"-//W3C//DTD SVG 1.1//EN\"\r\n  \"http://www.w3.org/Graphics/SVG/1.1/DTD/svg11.dtd\">\r\n<!-- Created with matplotlib (https://matplotlib.org/) -->\r\n<svg height=\"280.963594pt\" version=\"1.1\" viewBox=\"0 0 283.789062 280.963594\" width=\"283.789062pt\" xmlns=\"http://www.w3.org/2000/svg\" xmlns:xlink=\"http://www.w3.org/1999/xlink\">\r\n <defs>\r\n  <style type=\"text/css\">\r\n*{stroke-linecap:butt;stroke-linejoin:round;}\r\n  </style>\r\n </defs>\r\n <g id=\"figure_1\">\r\n  <g id=\"patch_1\">\r\n   <path d=\"M 0 280.963594 \r\nL 283.789062 280.963594 \r\nL 283.789062 0 \r\nL 0 0 \r\nz\r\n\" style=\"fill:#ffffff;\"/>\r\n  </g>\r\n  <g id=\"axes_1\">\r\n   <g id=\"patch_2\">\r\n    <path d=\"M 53.389062 239.229375 \r\nL 276.589063 239.229375 \r\nL 276.589063 21.789375 \r\nL 53.389062 21.789375 \r\nz\r\n\" style=\"fill:#eaeaf2;\"/>\r\n   </g>\r\n   <g id=\"matplotlib.axis_1\">\r\n    <g id=\"xtick_1\">\r\n     <g id=\"line2d_1\">\r\n      <path clip-path=\"url(#p22ae439238)\" d=\"M 96.141827 239.229375 \r\nL 96.141827 21.789375 \r\n\" style=\"fill:none;stroke:#ffffff;stroke-linecap:round;\"/>\r\n     </g>\r\n     <g id=\"text_1\">\r\n      <!-- 0.0 -->\r\n      <defs>\r\n       <path d=\"M 4.15625 35.296875 \r\nQ 4.15625 48 6.765625 55.734375 \r\nQ 9.375 63.484375 14.515625 67.671875 \r\nQ 19.671875 71.875 27.484375 71.875 \r\nQ 33.25 71.875 37.59375 69.546875 \r\nQ 41.9375 67.234375 44.765625 62.859375 \r\nQ 47.609375 58.5 49.21875 52.21875 \r\nQ 50.828125 45.953125 50.828125 35.296875 \r\nQ 50.828125 22.703125 48.234375 14.96875 \r\nQ 45.65625 7.234375 40.5 3 \r\nQ 35.359375 -1.21875 27.484375 -1.21875 \r\nQ 17.140625 -1.21875 11.234375 6.203125 \r\nQ 4.15625 15.140625 4.15625 35.296875 \r\nz\r\nM 13.1875 35.296875 \r\nQ 13.1875 17.671875 17.3125 11.828125 \r\nQ 21.4375 6 27.484375 6 \r\nQ 33.546875 6 37.671875 11.859375 \r\nQ 41.796875 17.71875 41.796875 35.296875 \r\nQ 41.796875 52.984375 37.671875 58.78125 \r\nQ 33.546875 64.59375 27.390625 64.59375 \r\nQ 21.34375 64.59375 17.71875 59.46875 \r\nQ 13.1875 52.9375 13.1875 35.296875 \r\nz\r\n\" id=\"ArialMT-48\"/>\r\n       <path d=\"M 9.078125 0 \r\nL 9.078125 10.015625 \r\nL 19.09375 10.015625 \r\nL 19.09375 0 \r\nz\r\n\" id=\"ArialMT-46\"/>\r\n      </defs>\r\n      <g style=\"fill:#262626;\" transform=\"translate(88.496827 256.602969)scale(0.11 -0.11)\">\r\n       <use xlink:href=\"#ArialMT-48\"/>\r\n       <use x=\"55.615234\" xlink:href=\"#ArialMT-46\"/>\r\n       <use x=\"83.398438\" xlink:href=\"#ArialMT-48\"/>\r\n      </g>\r\n     </g>\r\n    </g>\r\n    <g id=\"xtick_2\">\r\n     <g id=\"line2d_2\">\r\n      <path clip-path=\"url(#p22ae439238)\" d=\"M 167.403301 239.229375 \r\nL 167.403301 21.789375 \r\n\" style=\"fill:none;stroke:#ffffff;stroke-linecap:round;\"/>\r\n     </g>\r\n     <g id=\"text_2\">\r\n      <!-- 0.5 -->\r\n      <defs>\r\n       <path d=\"M 4.15625 18.75 \r\nL 13.375 19.53125 \r\nQ 14.40625 12.796875 18.140625 9.390625 \r\nQ 21.875 6 27.15625 6 \r\nQ 33.5 6 37.890625 10.78125 \r\nQ 42.28125 15.578125 42.28125 23.484375 \r\nQ 42.28125 31 38.0625 35.34375 \r\nQ 33.84375 39.703125 27 39.703125 \r\nQ 22.75 39.703125 19.328125 37.765625 \r\nQ 15.921875 35.84375 13.96875 32.765625 \r\nL 5.71875 33.84375 \r\nL 12.640625 70.609375 \r\nL 48.25 70.609375 \r\nL 48.25 62.203125 \r\nL 19.671875 62.203125 \r\nL 15.828125 42.96875 \r\nQ 22.265625 47.46875 29.34375 47.46875 \r\nQ 38.71875 47.46875 45.15625 40.96875 \r\nQ 51.609375 34.46875 51.609375 24.265625 \r\nQ 51.609375 14.546875 45.953125 7.46875 \r\nQ 39.0625 -1.21875 27.15625 -1.21875 \r\nQ 17.390625 -1.21875 11.203125 4.25 \r\nQ 5.03125 9.71875 4.15625 18.75 \r\nz\r\n\" id=\"ArialMT-53\"/>\r\n      </defs>\r\n      <g style=\"fill:#262626;\" transform=\"translate(159.758301 256.602969)scale(0.11 -0.11)\">\r\n       <use xlink:href=\"#ArialMT-48\"/>\r\n       <use x=\"55.615234\" xlink:href=\"#ArialMT-46\"/>\r\n       <use x=\"83.398438\" xlink:href=\"#ArialMT-53\"/>\r\n      </g>\r\n     </g>\r\n    </g>\r\n    <g id=\"xtick_3\">\r\n     <g id=\"line2d_3\">\r\n      <path clip-path=\"url(#p22ae439238)\" d=\"M 238.664776 239.229375 \r\nL 238.664776 21.789375 \r\n\" style=\"fill:none;stroke:#ffffff;stroke-linecap:round;\"/>\r\n     </g>\r\n     <g id=\"text_3\">\r\n      <!-- 1.0 -->\r\n      <defs>\r\n       <path d=\"M 37.25 0 \r\nL 28.46875 0 \r\nL 28.46875 56 \r\nQ 25.296875 52.984375 20.140625 49.953125 \r\nQ 14.984375 46.921875 10.890625 45.40625 \r\nL 10.890625 53.90625 \r\nQ 18.265625 57.375 23.78125 62.296875 \r\nQ 29.296875 67.234375 31.59375 71.875 \r\nL 37.25 71.875 \r\nz\r\n\" id=\"ArialMT-49\"/>\r\n      </defs>\r\n      <g style=\"fill:#262626;\" transform=\"translate(231.019776 256.602969)scale(0.11 -0.11)\">\r\n       <use xlink:href=\"#ArialMT-49\"/>\r\n       <use x=\"55.615234\" xlink:href=\"#ArialMT-46\"/>\r\n       <use x=\"83.398438\" xlink:href=\"#ArialMT-48\"/>\r\n      </g>\r\n     </g>\r\n    </g>\r\n    <g id=\"text_4\">\r\n     <!-- $x_1$ -->\r\n     <defs>\r\n      <path d=\"M 60.015625 54.6875 \r\nL 34.90625 27.875 \r\nL 50.296875 0 \r\nL 39.984375 0 \r\nL 28.421875 21.6875 \r\nL 8.296875 0 \r\nL -2.59375 0 \r\nL 24.3125 28.8125 \r\nL 10.015625 54.6875 \r\nL 20.3125 54.6875 \r\nL 30.8125 34.90625 \r\nL 49.125 54.6875 \r\nz\r\n\" id=\"DejaVuSans-Oblique-120\"/>\r\n      <path d=\"M 12.40625 8.296875 \r\nL 28.515625 8.296875 \r\nL 28.515625 63.921875 \r\nL 10.984375 60.40625 \r\nL 10.984375 69.390625 \r\nL 28.421875 72.90625 \r\nL 38.28125 72.90625 \r\nL 38.28125 8.296875 \r\nL 54.390625 8.296875 \r\nL 54.390625 0 \r\nL 12.40625 0 \r\nz\r\n\" id=\"DejaVuSans-49\"/>\r\n     </defs>\r\n     <g style=\"fill:#262626;\" transform=\"translate(158.569063 271.378594)scale(0.12 -0.12)\">\r\n      <use transform=\"translate(0 0.3125)\" xlink:href=\"#DejaVuSans-Oblique-120\"/>\r\n      <use transform=\"translate(59.179688 -16.09375)scale(0.7)\" xlink:href=\"#DejaVuSans-49\"/>\r\n     </g>\r\n    </g>\r\n   </g>\r\n   <g id=\"matplotlib.axis_2\">\r\n    <g id=\"ytick_1\">\r\n     <g id=\"line2d_4\">\r\n      <path clip-path=\"url(#p22ae439238)\" d=\"M 53.389062 225.410176 \r\nL 276.589063 225.410176 \r\n\" style=\"fill:none;stroke:#ffffff;stroke-linecap:round;\"/>\r\n     </g>\r\n     <g id=\"text_5\">\r\n      <!-- −0.2 -->\r\n      <defs>\r\n       <path d=\"M 52.828125 31.203125 \r\nL 5.5625 31.203125 \r\nL 5.5625 39.40625 \r\nL 52.828125 39.40625 \r\nz\r\n\" id=\"ArialMT-8722\"/>\r\n       <path d=\"M 50.34375 8.453125 \r\nL 50.34375 0 \r\nL 3.03125 0 \r\nQ 2.9375 3.171875 4.046875 6.109375 \r\nQ 5.859375 10.9375 9.828125 15.625 \r\nQ 13.8125 20.3125 21.34375 26.46875 \r\nQ 33.015625 36.03125 37.109375 41.625 \r\nQ 41.21875 47.21875 41.21875 52.203125 \r\nQ 41.21875 57.421875 37.46875 61 \r\nQ 33.734375 64.59375 27.734375 64.59375 \r\nQ 21.390625 64.59375 17.578125 60.78125 \r\nQ 13.765625 56.984375 13.71875 50.25 \r\nL 4.6875 51.171875 \r\nQ 5.609375 61.28125 11.65625 66.578125 \r\nQ 17.71875 71.875 27.9375 71.875 \r\nQ 38.234375 71.875 44.234375 66.15625 \r\nQ 50.25 60.453125 50.25 52 \r\nQ 50.25 47.703125 48.484375 43.546875 \r\nQ 46.734375 39.40625 42.65625 34.8125 \r\nQ 38.578125 30.21875 29.109375 22.21875 \r\nQ 21.1875 15.578125 18.9375 13.203125 \r\nQ 16.703125 10.84375 15.234375 8.453125 \r\nz\r\n\" id=\"ArialMT-50\"/>\r\n      </defs>\r\n      <g style=\"fill:#262626;\" transform=\"translate(22.174375 229.346973)scale(0.11 -0.11)\">\r\n       <use xlink:href=\"#ArialMT-8722\"/>\r\n       <use x=\"58.398438\" xlink:href=\"#ArialMT-48\"/>\r\n       <use x=\"114.013672\" xlink:href=\"#ArialMT-46\"/>\r\n       <use x=\"141.796875\" xlink:href=\"#ArialMT-50\"/>\r\n      </g>\r\n     </g>\r\n    </g>\r\n    <g id=\"ytick_2\">\r\n     <g id=\"line2d_5\">\r\n      <path clip-path=\"url(#p22ae439238)\" d=\"M 53.389062 199.336075 \r\nL 276.589063 199.336075 \r\n\" style=\"fill:none;stroke:#ffffff;stroke-linecap:round;\"/>\r\n     </g>\r\n     <g id=\"text_6\">\r\n      <!-- 0.0 -->\r\n      <g style=\"fill:#262626;\" transform=\"translate(28.599062 203.272872)scale(0.11 -0.11)\">\r\n       <use xlink:href=\"#ArialMT-48\"/>\r\n       <use x=\"55.615234\" xlink:href=\"#ArialMT-46\"/>\r\n       <use x=\"83.398438\" xlink:href=\"#ArialMT-48\"/>\r\n      </g>\r\n     </g>\r\n    </g>\r\n    <g id=\"ytick_3\">\r\n     <g id=\"line2d_6\">\r\n      <path clip-path=\"url(#p22ae439238)\" d=\"M 53.389062 173.261973 \r\nL 276.589063 173.261973 \r\n\" style=\"fill:none;stroke:#ffffff;stroke-linecap:round;\"/>\r\n     </g>\r\n     <g id=\"text_7\">\r\n      <!-- 0.2 -->\r\n      <g style=\"fill:#262626;\" transform=\"translate(28.599062 177.19877)scale(0.11 -0.11)\">\r\n       <use xlink:href=\"#ArialMT-48\"/>\r\n       <use x=\"55.615234\" xlink:href=\"#ArialMT-46\"/>\r\n       <use x=\"83.398438\" xlink:href=\"#ArialMT-50\"/>\r\n      </g>\r\n     </g>\r\n    </g>\r\n    <g id=\"ytick_4\">\r\n     <g id=\"line2d_7\">\r\n      <path clip-path=\"url(#p22ae439238)\" d=\"M 53.389062 147.187872 \r\nL 276.589063 147.187872 \r\n\" style=\"fill:none;stroke:#ffffff;stroke-linecap:round;\"/>\r\n     </g>\r\n     <g id=\"text_8\">\r\n      <!-- 0.4 -->\r\n      <defs>\r\n       <path d=\"M 32.328125 0 \r\nL 32.328125 17.140625 \r\nL 1.265625 17.140625 \r\nL 1.265625 25.203125 \r\nL 33.9375 71.578125 \r\nL 41.109375 71.578125 \r\nL 41.109375 25.203125 \r\nL 50.78125 25.203125 \r\nL 50.78125 17.140625 \r\nL 41.109375 17.140625 \r\nL 41.109375 0 \r\nz\r\nM 32.328125 25.203125 \r\nL 32.328125 57.46875 \r\nL 9.90625 25.203125 \r\nz\r\n\" id=\"ArialMT-52\"/>\r\n      </defs>\r\n      <g style=\"fill:#262626;\" transform=\"translate(28.599062 151.124669)scale(0.11 -0.11)\">\r\n       <use xlink:href=\"#ArialMT-48\"/>\r\n       <use x=\"55.615234\" xlink:href=\"#ArialMT-46\"/>\r\n       <use x=\"83.398438\" xlink:href=\"#ArialMT-52\"/>\r\n      </g>\r\n     </g>\r\n    </g>\r\n    <g id=\"ytick_5\">\r\n     <g id=\"line2d_8\">\r\n      <path clip-path=\"url(#p22ae439238)\" d=\"M 53.389062 121.113771 \r\nL 276.589063 121.113771 \r\n\" style=\"fill:none;stroke:#ffffff;stroke-linecap:round;\"/>\r\n     </g>\r\n     <g id=\"text_9\">\r\n      <!-- 0.6 -->\r\n      <defs>\r\n       <path d=\"M 49.75 54.046875 \r\nL 41.015625 53.375 \r\nQ 39.84375 58.546875 37.703125 60.890625 \r\nQ 34.125 64.65625 28.90625 64.65625 \r\nQ 24.703125 64.65625 21.53125 62.3125 \r\nQ 17.390625 59.28125 14.984375 53.46875 \r\nQ 12.59375 47.65625 12.5 36.921875 \r\nQ 15.671875 41.75 20.265625 44.09375 \r\nQ 24.859375 46.4375 29.890625 46.4375 \r\nQ 38.671875 46.4375 44.84375 39.96875 \r\nQ 51.03125 33.5 51.03125 23.25 \r\nQ 51.03125 16.5 48.125 10.71875 \r\nQ 45.21875 4.9375 40.140625 1.859375 \r\nQ 35.0625 -1.21875 28.609375 -1.21875 \r\nQ 17.625 -1.21875 10.6875 6.859375 \r\nQ 3.765625 14.9375 3.765625 33.5 \r\nQ 3.765625 54.25 11.421875 63.671875 \r\nQ 18.109375 71.875 29.4375 71.875 \r\nQ 37.890625 71.875 43.28125 67.140625 \r\nQ 48.6875 62.40625 49.75 54.046875 \r\nz\r\nM 13.875 23.1875 \r\nQ 13.875 18.65625 15.796875 14.5 \r\nQ 17.71875 10.359375 21.1875 8.171875 \r\nQ 24.65625 6 28.46875 6 \r\nQ 34.03125 6 38.03125 10.484375 \r\nQ 42.046875 14.984375 42.046875 22.703125 \r\nQ 42.046875 30.125 38.078125 34.390625 \r\nQ 34.125 38.671875 28.125 38.671875 \r\nQ 22.171875 38.671875 18.015625 34.390625 \r\nQ 13.875 30.125 13.875 23.1875 \r\nz\r\n\" id=\"ArialMT-54\"/>\r\n      </defs>\r\n      <g style=\"fill:#262626;\" transform=\"translate(28.599062 125.050567)scale(0.11 -0.11)\">\r\n       <use xlink:href=\"#ArialMT-48\"/>\r\n       <use x=\"55.615234\" xlink:href=\"#ArialMT-46\"/>\r\n       <use x=\"83.398438\" xlink:href=\"#ArialMT-54\"/>\r\n      </g>\r\n     </g>\r\n    </g>\r\n    <g id=\"ytick_6\">\r\n     <g id=\"line2d_9\">\r\n      <path clip-path=\"url(#p22ae439238)\" d=\"M 53.389062 95.039669 \r\nL 276.589063 95.039669 \r\n\" style=\"fill:none;stroke:#ffffff;stroke-linecap:round;\"/>\r\n     </g>\r\n     <g id=\"text_10\">\r\n      <!-- 0.8 -->\r\n      <defs>\r\n       <path d=\"M 17.671875 38.8125 \r\nQ 12.203125 40.828125 9.5625 44.53125 \r\nQ 6.9375 48.25 6.9375 53.421875 \r\nQ 6.9375 61.234375 12.546875 66.546875 \r\nQ 18.171875 71.875 27.484375 71.875 \r\nQ 36.859375 71.875 42.578125 66.421875 \r\nQ 48.296875 60.984375 48.296875 53.171875 \r\nQ 48.296875 48.1875 45.671875 44.5 \r\nQ 43.0625 40.828125 37.75 38.8125 \r\nQ 44.34375 36.671875 47.78125 31.875 \r\nQ 51.21875 27.09375 51.21875 20.453125 \r\nQ 51.21875 11.28125 44.71875 5.03125 \r\nQ 38.234375 -1.21875 27.640625 -1.21875 \r\nQ 17.046875 -1.21875 10.546875 5.046875 \r\nQ 4.046875 11.328125 4.046875 20.703125 \r\nQ 4.046875 27.6875 7.59375 32.390625 \r\nQ 11.140625 37.109375 17.671875 38.8125 \r\nz\r\nM 15.921875 53.71875 \r\nQ 15.921875 48.640625 19.1875 45.40625 \r\nQ 22.46875 42.1875 27.6875 42.1875 \r\nQ 32.765625 42.1875 36.015625 45.375 \r\nQ 39.265625 48.578125 39.265625 53.21875 \r\nQ 39.265625 58.0625 35.90625 61.359375 \r\nQ 32.5625 64.65625 27.59375 64.65625 \r\nQ 22.5625 64.65625 19.234375 61.421875 \r\nQ 15.921875 58.203125 15.921875 53.71875 \r\nz\r\nM 13.09375 20.65625 \r\nQ 13.09375 16.890625 14.875 13.375 \r\nQ 16.65625 9.859375 20.171875 7.921875 \r\nQ 23.6875 6 27.734375 6 \r\nQ 34.03125 6 38.125 10.046875 \r\nQ 42.234375 14.109375 42.234375 20.359375 \r\nQ 42.234375 26.703125 38.015625 30.859375 \r\nQ 33.796875 35.015625 27.4375 35.015625 \r\nQ 21.234375 35.015625 17.15625 30.90625 \r\nQ 13.09375 26.8125 13.09375 20.65625 \r\nz\r\n\" id=\"ArialMT-56\"/>\r\n      </defs>\r\n      <g style=\"fill:#262626;\" transform=\"translate(28.599062 98.976466)scale(0.11 -0.11)\">\r\n       <use xlink:href=\"#ArialMT-48\"/>\r\n       <use x=\"55.615234\" xlink:href=\"#ArialMT-46\"/>\r\n       <use x=\"83.398438\" xlink:href=\"#ArialMT-56\"/>\r\n      </g>\r\n     </g>\r\n    </g>\r\n    <g id=\"ytick_7\">\r\n     <g id=\"line2d_10\">\r\n      <path clip-path=\"url(#p22ae439238)\" d=\"M 53.389062 68.965568 \r\nL 276.589063 68.965568 \r\n\" style=\"fill:none;stroke:#ffffff;stroke-linecap:round;\"/>\r\n     </g>\r\n     <g id=\"text_11\">\r\n      <!-- 1.0 -->\r\n      <g style=\"fill:#262626;\" transform=\"translate(28.599062 72.902365)scale(0.11 -0.11)\">\r\n       <use xlink:href=\"#ArialMT-49\"/>\r\n       <use x=\"55.615234\" xlink:href=\"#ArialMT-46\"/>\r\n       <use x=\"83.398438\" xlink:href=\"#ArialMT-48\"/>\r\n      </g>\r\n     </g>\r\n    </g>\r\n    <g id=\"ytick_8\">\r\n     <g id=\"line2d_11\">\r\n      <path clip-path=\"url(#p22ae439238)\" d=\"M 53.389062 42.891466 \r\nL 276.589063 42.891466 \r\n\" style=\"fill:none;stroke:#ffffff;stroke-linecap:round;\"/>\r\n     </g>\r\n     <g id=\"text_12\">\r\n      <!-- 1.2 -->\r\n      <g style=\"fill:#262626;\" transform=\"translate(28.599062 46.828263)scale(0.11 -0.11)\">\r\n       <use xlink:href=\"#ArialMT-49\"/>\r\n       <use x=\"55.615234\" xlink:href=\"#ArialMT-46\"/>\r\n       <use x=\"83.398438\" xlink:href=\"#ArialMT-50\"/>\r\n      </g>\r\n     </g>\r\n    </g>\r\n    <g id=\"text_13\">\r\n     <!-- $x_2$ -->\r\n     <defs>\r\n      <path d=\"M 19.1875 8.296875 \r\nL 53.609375 8.296875 \r\nL 53.609375 0 \r\nL 7.328125 0 \r\nL 7.328125 8.296875 \r\nQ 12.9375 14.109375 22.625 23.890625 \r\nQ 32.328125 33.6875 34.8125 36.53125 \r\nQ 39.546875 41.84375 41.421875 45.53125 \r\nQ 43.3125 49.21875 43.3125 52.78125 \r\nQ 43.3125 58.59375 39.234375 62.25 \r\nQ 35.15625 65.921875 28.609375 65.921875 \r\nQ 23.96875 65.921875 18.8125 64.3125 \r\nQ 13.671875 62.703125 7.8125 59.421875 \r\nL 7.8125 69.390625 \r\nQ 13.765625 71.78125 18.9375 73 \r\nQ 24.125 74.21875 28.421875 74.21875 \r\nQ 39.75 74.21875 46.484375 68.546875 \r\nQ 53.21875 62.890625 53.21875 53.421875 \r\nQ 53.21875 48.921875 51.53125 44.890625 \r\nQ 49.859375 40.875 45.40625 35.40625 \r\nQ 44.1875 33.984375 37.640625 27.21875 \r\nQ 31.109375 20.453125 19.1875 8.296875 \r\nz\r\n\" id=\"DejaVuSans-50\"/>\r\n     </defs>\r\n     <g style=\"fill:#262626;\" transform=\"translate(15.789375 136.929375)rotate(-90)scale(0.12 -0.12)\">\r\n      <use transform=\"translate(0 0.3125)\" xlink:href=\"#DejaVuSans-Oblique-120\"/>\r\n      <use transform=\"translate(59.179688 -16.09375)scale(0.7)\" xlink:href=\"#DejaVuSans-50\"/>\r\n     </g>\r\n    </g>\r\n   </g>\r\n   <g id=\"PathCollection_1\">\r\n    <defs>\r\n     <path d=\"M 0 3 \r\nC 0.795609 3 1.55874 2.683901 2.12132 2.12132 \r\nC 2.683901 1.55874 3 0.795609 3 0 \r\nC 3 -0.795609 2.683901 -1.55874 2.12132 -2.12132 \r\nC 1.55874 -2.683901 0.795609 -3 0 -3 \r\nC -0.795609 -3 -1.55874 -2.683901 -2.12132 -2.12132 \r\nC -2.683901 -1.55874 -3 -0.795609 -3 0 \r\nC -3 0.795609 -2.683901 1.55874 -2.12132 2.12132 \r\nC -1.55874 2.683901 -0.795609 3 0 3 \r\nz\r\n\" id=\"me78dc8ad1c\" style=\"stroke:#333333;\"/>\r\n    </defs>\r\n    <g clip-path=\"url(#p22ae439238)\">\r\n     <use style=\"fill:#4c72b0;stroke:#333333;\" x=\"224.824733\" xlink:href=\"#me78dc8ad1c\" y=\"31.673011\"/>\r\n     <use style=\"fill:#4c72b0;stroke:#333333;\" x=\"224.496553\" xlink:href=\"#me78dc8ad1c\" y=\"73.646086\"/>\r\n     <use style=\"fill:#4c72b0;stroke:#333333;\" x=\"224.399166\" xlink:href=\"#me78dc8ad1c\" y=\"69.788204\"/>\r\n     <use style=\"fill:#4c72b0;stroke:#333333;\" x=\"244.123852\" xlink:href=\"#me78dc8ad1c\" y=\"69.549232\"/>\r\n     <use style=\"fill:#4c72b0;stroke:#333333;\" x=\"205.714127\" xlink:href=\"#me78dc8ad1c\" y=\"77.329633\"/>\r\n     <use style=\"fill:#4c72b0;stroke:#333333;\" x=\"220.389605\" xlink:href=\"#me78dc8ad1c\" y=\"43.343947\"/>\r\n     <use style=\"fill:#4c72b0;stroke:#333333;\" x=\"221.895833\" xlink:href=\"#me78dc8ad1c\" y=\"53.466465\"/>\r\n     <use style=\"fill:#4c72b0;stroke:#333333;\" x=\"241.736918\" xlink:href=\"#me78dc8ad1c\" y=\"60.798373\"/>\r\n     <use style=\"fill:#4c72b0;stroke:#333333;\" x=\"213.78127\" xlink:href=\"#me78dc8ad1c\" y=\"54.671916\"/>\r\n     <use style=\"fill:#4c72b0;stroke:#333333;\" x=\"229.040892\" xlink:href=\"#me78dc8ad1c\" y=\"79.530766\"/>\r\n     <use style=\"fill:#4c72b0;stroke:#333333;\" x=\"107.228444\" xlink:href=\"#me78dc8ad1c\" y=\"200.08731\"/>\r\n     <use style=\"fill:#4c72b0;stroke:#333333;\" x=\"75.368584\" xlink:href=\"#me78dc8ad1c\" y=\"211.998153\"/>\r\n     <use style=\"fill:#4c72b0;stroke:#333333;\" x=\"99.583766\" xlink:href=\"#me78dc8ad1c\" y=\"214.474051\"/>\r\n     <use style=\"fill:#4c72b0;stroke:#333333;\" x=\"98.209985\" xlink:href=\"#me78dc8ad1c\" y=\"177.678636\"/>\r\n     <use style=\"fill:#4c72b0;stroke:#333333;\" x=\"256.064534\" xlink:href=\"#me78dc8ad1c\" y=\"76.887458\"/>\r\n     <use style=\"fill:#4c72b0;stroke:#333333;\" x=\"87.998151\" xlink:href=\"#me78dc8ad1c\" y=\"217.689991\"/>\r\n     <use style=\"fill:#4c72b0;stroke:#333333;\" x=\"93.74995\" xlink:href=\"#me78dc8ad1c\" y=\"177.912098\"/>\r\n     <use style=\"fill:#4c72b0;stroke:#333333;\" x=\"103.49972\" xlink:href=\"#me78dc8ad1c\" y=\"178.397992\"/>\r\n     <use style=\"fill:#4c72b0;stroke:#333333;\" x=\"84.764738\" xlink:href=\"#me78dc8ad1c\" y=\"202.788607\"/>\r\n     <use style=\"fill:#4c72b0;stroke:#333333;\" x=\"236.290203\" xlink:href=\"#me78dc8ad1c\" y=\"65.682576\"/>\r\n     <use style=\"fill:#4c72b0;stroke:#333333;\" x=\"236.181177\" xlink:href=\"#me78dc8ad1c\" y=\"61.023319\"/>\r\n     <use style=\"fill:#4c72b0;stroke:#333333;\" x=\"99.354807\" xlink:href=\"#me78dc8ad1c\" y=\"202.977756\"/>\r\n     <use style=\"fill:#4c72b0;stroke:#333333;\" x=\"105.693537\" xlink:href=\"#me78dc8ad1c\" y=\"197.787286\"/>\r\n     <use style=\"fill:#4c72b0;stroke:#333333;\" x=\"87.420267\" xlink:href=\"#me78dc8ad1c\" y=\"191.479679\"/>\r\n     <use style=\"fill:#4c72b0;stroke:#333333;\" x=\"110.068478\" xlink:href=\"#me78dc8ad1c\" y=\"217.787895\"/>\r\n     <use style=\"fill:#4c72b0;stroke:#333333;\" x=\"78.96017\" xlink:href=\"#me78dc8ad1c\" y=\"211.776164\"/>\r\n     <use style=\"fill:#4c72b0;stroke:#333333;\" x=\"108.950776\" xlink:href=\"#me78dc8ad1c\" y=\"201.078841\"/>\r\n     <use style=\"fill:#4c72b0;stroke:#333333;\" x=\"243.009015\" xlink:href=\"#me78dc8ad1c\" y=\"62.277181\"/>\r\n     <use style=\"fill:#4c72b0;stroke:#333333;\" x=\"107.615604\" xlink:href=\"#me78dc8ad1c\" y=\"213.851012\"/>\r\n     <use style=\"fill:#4c72b0;stroke:#333333;\" x=\"97.520543\" xlink:href=\"#me78dc8ad1c\" y=\"195.984571\"/>\r\n     <use style=\"fill:#4c72b0;stroke:#333333;\" x=\"263.888439\" xlink:href=\"#me78dc8ad1c\" y=\"60.79371\"/>\r\n     <use style=\"fill:#4c72b0;stroke:#333333;\" x=\"93.120317\" xlink:href=\"#me78dc8ad1c\" y=\"188.695015\"/>\r\n     <use style=\"fill:#4c72b0;stroke:#333333;\" x=\"108.943473\" xlink:href=\"#me78dc8ad1c\" y=\"201.342261\"/>\r\n     <use style=\"fill:#4c72b0;stroke:#333333;\" x=\"114.592602\" xlink:href=\"#me78dc8ad1c\" y=\"196.433074\"/>\r\n     <use style=\"fill:#4c72b0;stroke:#333333;\" x=\"109.96704\" xlink:href=\"#me78dc8ad1c\" y=\"208.146152\"/>\r\n     <use style=\"fill:#4c72b0;stroke:#333333;\" x=\"249.550647\" xlink:href=\"#me78dc8ad1c\" y=\"53.591992\"/>\r\n     <use style=\"fill:#4c72b0;stroke:#333333;\" x=\"239.847997\" xlink:href=\"#me78dc8ad1c\" y=\"63.463672\"/>\r\n     <use style=\"fill:#4c72b0;stroke:#333333;\" x=\"97.091143\" xlink:href=\"#me78dc8ad1c\" y=\"211.225789\"/>\r\n     <use style=\"fill:#4c72b0;stroke:#333333;\" x=\"246.693853\" xlink:href=\"#me78dc8ad1c\" y=\"76.509274\"/>\r\n     <use style=\"fill:#4c72b0;stroke:#333333;\" x=\"221.135443\" xlink:href=\"#me78dc8ad1c\" y=\"41.680787\"/>\r\n     <use style=\"fill:#4c72b0;stroke:#333333;\" x=\"251.146727\" xlink:href=\"#me78dc8ad1c\" y=\"64.720985\"/>\r\n     <use style=\"fill:#4c72b0;stroke:#333333;\" x=\"243.119705\" xlink:href=\"#me78dc8ad1c\" y=\"69.647228\"/>\r\n     <use style=\"fill:#4c72b0;stroke:#333333;\" x=\"79.173614\" xlink:href=\"#me78dc8ad1c\" y=\"189.224442\"/>\r\n     <use style=\"fill:#4c72b0;stroke:#333333;\" x=\"82.691375\" xlink:href=\"#me78dc8ad1c\" y=\"197.080025\"/>\r\n     <use style=\"fill:#4c72b0;stroke:#333333;\" x=\"83.730279\" xlink:href=\"#me78dc8ad1c\" y=\"207.694093\"/>\r\n     <use style=\"fill:#4c72b0;stroke:#333333;\" x=\"94.464038\" xlink:href=\"#me78dc8ad1c\" y=\"203.229502\"/>\r\n     <use style=\"fill:#4c72b0;stroke:#333333;\" x=\"253.439416\" xlink:href=\"#me78dc8ad1c\" y=\"57.470918\"/>\r\n     <use style=\"fill:#4c72b0;stroke:#333333;\" x=\"77.275676\" xlink:href=\"#me78dc8ad1c\" y=\"204.126716\"/>\r\n     <use style=\"fill:#4c72b0;stroke:#333333;\" x=\"239.498852\" xlink:href=\"#me78dc8ad1c\" y=\"90.714604\"/>\r\n     <use style=\"fill:#4c72b0;stroke:#333333;\" x=\"238.380201\" xlink:href=\"#me78dc8ad1c\" y=\"84.781\"/>\r\n     <use style=\"fill:#4c72b0;stroke:#333333;\" x=\"266.443608\" xlink:href=\"#me78dc8ad1c\" y=\"74.508765\"/>\r\n     <use style=\"fill:#4c72b0;stroke:#333333;\" x=\"97.895737\" xlink:href=\"#me78dc8ad1c\" y=\"187.918863\"/>\r\n     <use style=\"fill:#4c72b0;stroke:#333333;\" x=\"87.985516\" xlink:href=\"#me78dc8ad1c\" y=\"201.561504\"/>\r\n     <use style=\"fill:#4c72b0;stroke:#333333;\" x=\"237.288275\" xlink:href=\"#me78dc8ad1c\" y=\"48.86342\"/>\r\n     <use style=\"fill:#4c72b0;stroke:#333333;\" x=\"119.676204\" xlink:href=\"#me78dc8ad1c\" y=\"206.058919\"/>\r\n     <use style=\"fill:#4c72b0;stroke:#333333;\" x=\"228.91136\" xlink:href=\"#me78dc8ad1c\" y=\"96.625595\"/>\r\n     <use style=\"fill:#4c72b0;stroke:#333333;\" x=\"248.95433\" xlink:href=\"#me78dc8ad1c\" y=\"76.713006\"/>\r\n     <use style=\"fill:#4c72b0;stroke:#333333;\" x=\"87.660199\" xlink:href=\"#me78dc8ad1c\" y=\"201.235347\"/>\r\n     <use style=\"fill:#4c72b0;stroke:#333333;\" x=\"205.956312\" xlink:href=\"#me78dc8ad1c\" y=\"86.735848\"/>\r\n     <use style=\"fill:#4c72b0;stroke:#333333;\" x=\"259.054784\" xlink:href=\"#me78dc8ad1c\" y=\"72.333088\"/>\r\n     <use style=\"fill:#4c72b0;stroke:#333333;\" x=\"98.799136\" xlink:href=\"#me78dc8ad1c\" y=\"194.711659\"/>\r\n     <use style=\"fill:#4c72b0;stroke:#333333;\" x=\"240.443295\" xlink:href=\"#me78dc8ad1c\" y=\"62.526512\"/>\r\n     <use style=\"fill:#4c72b0;stroke:#333333;\" x=\"97.25908\" xlink:href=\"#me78dc8ad1c\" y=\"196.421116\"/>\r\n     <use style=\"fill:#4c72b0;stroke:#333333;\" x=\"217.376749\" xlink:href=\"#me78dc8ad1c\" y=\"71.85178\"/>\r\n     <use style=\"fill:#4c72b0;stroke:#333333;\" x=\"97.865999\" xlink:href=\"#me78dc8ad1c\" y=\"192.119684\"/>\r\n     <use style=\"fill:#4c72b0;stroke:#333333;\" x=\"211.295752\" xlink:href=\"#me78dc8ad1c\" y=\"70.231009\"/>\r\n     <use style=\"fill:#4c72b0;stroke:#333333;\" x=\"94.03099\" xlink:href=\"#me78dc8ad1c\" y=\"209.736697\"/>\r\n     <use style=\"fill:#4c72b0;stroke:#333333;\" x=\"238.4139\" xlink:href=\"#me78dc8ad1c\" y=\"94.979002\"/>\r\n     <use style=\"fill:#4c72b0;stroke:#333333;\" x=\"90.591313\" xlink:href=\"#me78dc8ad1c\" y=\"162.12337\"/>\r\n     <use style=\"fill:#4c72b0;stroke:#333333;\" x=\"96.736129\" xlink:href=\"#me78dc8ad1c\" y=\"203.712067\"/>\r\n     <use style=\"fill:#4c72b0;stroke:#333333;\" x=\"232.538831\" xlink:href=\"#me78dc8ad1c\" y=\"61.454157\"/>\r\n     <use style=\"fill:#4c72b0;stroke:#333333;\" x=\"105.875004\" xlink:href=\"#me78dc8ad1c\" y=\"199.801746\"/>\r\n     <use style=\"fill:#4c72b0;stroke:#333333;\" x=\"226.007249\" xlink:href=\"#me78dc8ad1c\" y=\"76.645945\"/>\r\n     <use style=\"fill:#4c72b0;stroke:#333333;\" x=\"240.527685\" xlink:href=\"#me78dc8ad1c\" y=\"46.637646\"/>\r\n     <use style=\"fill:#4c72b0;stroke:#333333;\" x=\"239.163825\" xlink:href=\"#me78dc8ad1c\" y=\"57.986021\"/>\r\n     <use style=\"fill:#4c72b0;stroke:#333333;\" x=\"78.187199\" xlink:href=\"#me78dc8ad1c\" y=\"208.850644\"/>\r\n     <use style=\"fill:#4c72b0;stroke:#333333;\" x=\"114.634336\" xlink:href=\"#me78dc8ad1c\" y=\"200.593566\"/>\r\n     <use style=\"fill:#4c72b0;stroke:#333333;\" x=\"102.070441\" xlink:href=\"#me78dc8ad1c\" y=\"174.53262\"/>\r\n     <use style=\"fill:#4c72b0;stroke:#333333;\" x=\"219.389077\" xlink:href=\"#me78dc8ad1c\" y=\"70.664131\"/>\r\n     <use style=\"fill:#4c72b0;stroke:#333333;\" x=\"232.994734\" xlink:href=\"#me78dc8ad1c\" y=\"59.07917\"/>\r\n     <use style=\"fill:#4c72b0;stroke:#333333;\" x=\"252.723099\" xlink:href=\"#me78dc8ad1c\" y=\"74.040309\"/>\r\n     <use style=\"fill:#4c72b0;stroke:#333333;\" x=\"104.889991\" xlink:href=\"#me78dc8ad1c\" y=\"202.968605\"/>\r\n     <use style=\"fill:#4c72b0;stroke:#333333;\" x=\"247.052343\" xlink:href=\"#me78dc8ad1c\" y=\"59.72078\"/>\r\n     <use style=\"fill:#4c72b0;stroke:#333333;\" x=\"241.508946\" xlink:href=\"#me78dc8ad1c\" y=\"85.212273\"/>\r\n     <use style=\"fill:#4c72b0;stroke:#333333;\" x=\"244.415809\" xlink:href=\"#me78dc8ad1c\" y=\"63.147514\"/>\r\n     <use style=\"fill:#4c72b0;stroke:#333333;\" x=\"77.764429\" xlink:href=\"#me78dc8ad1c\" y=\"185.304544\"/>\r\n     <use style=\"fill:#4c72b0;stroke:#333333;\" x=\"246.646043\" xlink:href=\"#me78dc8ad1c\" y=\"82.787881\"/>\r\n     <use style=\"fill:#4c72b0;stroke:#333333;\" x=\"218.425631\" xlink:href=\"#me78dc8ad1c\" y=\"76.213234\"/>\r\n     <use style=\"fill:#4c72b0;stroke:#333333;\" x=\"258.176602\" xlink:href=\"#me78dc8ad1c\" y=\"78.02577\"/>\r\n     <use style=\"fill:#4c72b0;stroke:#333333;\" x=\"259.080388\" xlink:href=\"#me78dc8ad1c\" y=\"65.998097\"/>\r\n     <use style=\"fill:#4c72b0;stroke:#333333;\" x=\"78.580048\" xlink:href=\"#me78dc8ad1c\" y=\"207.133237\"/>\r\n     <use style=\"fill:#4c72b0;stroke:#333333;\" x=\"231.533759\" xlink:href=\"#me78dc8ad1c\" y=\"65.145218\"/>\r\n     <use style=\"fill:#4c72b0;stroke:#333333;\" x=\"241.285238\" xlink:href=\"#me78dc8ad1c\" y=\"79.316536\"/>\r\n     <use style=\"fill:#4c72b0;stroke:#333333;\" x=\"106.406136\" xlink:href=\"#me78dc8ad1c\" y=\"201.084743\"/>\r\n     <use style=\"fill:#4c72b0;stroke:#333333;\" x=\"236.320844\" xlink:href=\"#me78dc8ad1c\" y=\"51.510179\"/>\r\n     <use style=\"fill:#4c72b0;stroke:#333333;\" x=\"124.713685\" xlink:href=\"#me78dc8ad1c\" y=\"219.944834\"/>\r\n     <use style=\"fill:#4c72b0;stroke:#333333;\" x=\"219.03187\" xlink:href=\"#me78dc8ad1c\" y=\"84.667874\"/>\r\n    </g>\r\n   </g>\r\n   <g id=\"PathCollection_2\">\r\n    <defs>\r\n     <path d=\"M 0 3 \r\nC 0.795609 3 1.55874 2.683901 2.12132 2.12132 \r\nC 2.683901 1.55874 3 0.795609 3 0 \r\nC 3 -0.795609 2.683901 -1.55874 2.12132 -2.12132 \r\nC 1.55874 -2.683901 0.795609 -3 0 -3 \r\nC -0.795609 -3 -1.55874 -2.683901 -2.12132 -2.12132 \r\nC -2.683901 -1.55874 -3 -0.795609 -3 0 \r\nC -3 0.795609 -2.683901 1.55874 -2.12132 2.12132 \r\nC -1.55874 2.683901 -0.795609 3 0 3 \r\nz\r\n\" id=\"m7e9f48617a\" style=\"stroke:#333333;\"/>\r\n    </defs>\r\n    <g clip-path=\"url(#p22ae439238)\">\r\n     <use style=\"fill:#dd8452;stroke:#333333;\" x=\"215.190664\" xlink:href=\"#m7e9f48617a\" y=\"212.845195\"/>\r\n     <use style=\"fill:#dd8452;stroke:#333333;\" x=\"253.672741\" xlink:href=\"#m7e9f48617a\" y=\"180.438774\"/>\r\n     <use style=\"fill:#dd8452;stroke:#333333;\" x=\"109.721887\" xlink:href=\"#m7e9f48617a\" y=\"53.463636\"/>\r\n     <use style=\"fill:#dd8452;stroke:#333333;\" x=\"251.696406\" xlink:href=\"#m7e9f48617a\" y=\"186.175115\"/>\r\n     <use style=\"fill:#dd8452;stroke:#333333;\" x=\"233.834697\" xlink:href=\"#m7e9f48617a\" y=\"192.58323\"/>\r\n     <use style=\"fill:#dd8452;stroke:#333333;\" x=\"103.07645\" xlink:href=\"#m7e9f48617a\" y=\"64.183253\"/>\r\n     <use style=\"fill:#dd8452;stroke:#333333;\" x=\"90.566571\" xlink:href=\"#m7e9f48617a\" y=\"66.75117\"/>\r\n     <use style=\"fill:#dd8452;stroke:#333333;\" x=\"228.328992\" xlink:href=\"#m7e9f48617a\" y=\"211.757429\"/>\r\n     <use style=\"fill:#dd8452;stroke:#333333;\" x=\"226.653109\" xlink:href=\"#m7e9f48617a\" y=\"220.733375\"/>\r\n     <use style=\"fill:#dd8452;stroke:#333333;\" x=\"228.430287\" xlink:href=\"#m7e9f48617a\" y=\"200.756546\"/>\r\n     <use style=\"fill:#dd8452;stroke:#333333;\" x=\"70.060609\" xlink:href=\"#m7e9f48617a\" y=\"64.210839\"/>\r\n     <use style=\"fill:#dd8452;stroke:#333333;\" x=\"211.367968\" xlink:href=\"#m7e9f48617a\" y=\"207.708147\"/>\r\n     <use style=\"fill:#dd8452;stroke:#333333;\" x=\"226.793116\" xlink:href=\"#m7e9f48617a\" y=\"175.482892\"/>\r\n     <use style=\"fill:#dd8452;stroke:#333333;\" x=\"246.416168\" xlink:href=\"#m7e9f48617a\" y=\"206.133794\"/>\r\n     <use style=\"fill:#dd8452;stroke:#333333;\" x=\"238.019697\" xlink:href=\"#m7e9f48617a\" y=\"203.994128\"/>\r\n     <use style=\"fill:#dd8452;stroke:#333333;\" x=\"90.777713\" xlink:href=\"#m7e9f48617a\" y=\"56.092569\"/>\r\n     <use style=\"fill:#dd8452;stroke:#333333;\" x=\"82.153162\" xlink:href=\"#m7e9f48617a\" y=\"61.976751\"/>\r\n     <use style=\"fill:#dd8452;stroke:#333333;\" x=\"109.29104\" xlink:href=\"#m7e9f48617a\" y=\"62.614383\"/>\r\n     <use style=\"fill:#dd8452;stroke:#333333;\" x=\"82.217967\" xlink:href=\"#m7e9f48617a\" y=\"69.404052\"/>\r\n     <use style=\"fill:#dd8452;stroke:#333333;\" x=\"256.581711\" xlink:href=\"#m7e9f48617a\" y=\"183.466039\"/>\r\n     <use style=\"fill:#dd8452;stroke:#333333;\" x=\"242.989052\" xlink:href=\"#m7e9f48617a\" y=\"205.203748\"/>\r\n     <use style=\"fill:#dd8452;stroke:#333333;\" x=\"93.66376\" xlink:href=\"#m7e9f48617a\" y=\"68.575635\"/>\r\n     <use style=\"fill:#dd8452;stroke:#333333;\" x=\"238.465822\" xlink:href=\"#m7e9f48617a\" y=\"199.468585\"/>\r\n     <use style=\"fill:#dd8452;stroke:#333333;\" x=\"99.472847\" xlink:href=\"#m7e9f48617a\" y=\"50.604878\"/>\r\n     <use style=\"fill:#dd8452;stroke:#333333;\" x=\"232.390194\" xlink:href=\"#m7e9f48617a\" y=\"170.852341\"/>\r\n     <use style=\"fill:#dd8452;stroke:#333333;\" x=\"238.65363\" xlink:href=\"#m7e9f48617a\" y=\"187.296647\"/>\r\n     <use style=\"fill:#dd8452;stroke:#333333;\" x=\"79.239223\" xlink:href=\"#m7e9f48617a\" y=\"52.03585\"/>\r\n     <use style=\"fill:#dd8452;stroke:#333333;\" x=\"105.896266\" xlink:href=\"#m7e9f48617a\" y=\"59.691112\"/>\r\n     <use style=\"fill:#dd8452;stroke:#333333;\" x=\"103.635671\" xlink:href=\"#m7e9f48617a\" y=\"47.026958\"/>\r\n     <use style=\"fill:#dd8452;stroke:#333333;\" x=\"245.402846\" xlink:href=\"#m7e9f48617a\" y=\"194.590285\"/>\r\n     <use style=\"fill:#dd8452;stroke:#333333;\" x=\"231.572658\" xlink:href=\"#m7e9f48617a\" y=\"201.71248\"/>\r\n     <use style=\"fill:#dd8452;stroke:#333333;\" x=\"220.245529\" xlink:href=\"#m7e9f48617a\" y=\"197.134506\"/>\r\n     <use style=\"fill:#dd8452;stroke:#333333;\" x=\"226.798145\" xlink:href=\"#m7e9f48617a\" y=\"209.934517\"/>\r\n     <use style=\"fill:#dd8452;stroke:#333333;\" x=\"101.013942\" xlink:href=\"#m7e9f48617a\" y=\"104.186241\"/>\r\n     <use style=\"fill:#dd8452;stroke:#333333;\" x=\"99.448771\" xlink:href=\"#m7e9f48617a\" y=\"62.362317\"/>\r\n     <use style=\"fill:#dd8452;stroke:#333333;\" x=\"225.584537\" xlink:href=\"#m7e9f48617a\" y=\"193.853141\"/>\r\n     <use style=\"fill:#dd8452;stroke:#333333;\" x=\"233.407694\" xlink:href=\"#m7e9f48617a\" y=\"209.369578\"/>\r\n     <use style=\"fill:#dd8452;stroke:#333333;\" x=\"96.436922\" xlink:href=\"#m7e9f48617a\" y=\"59.28068\"/>\r\n     <use style=\"fill:#dd8452;stroke:#333333;\" x=\"211.849662\" xlink:href=\"#m7e9f48617a\" y=\"191.708163\"/>\r\n     <use style=\"fill:#dd8452;stroke:#333333;\" x=\"260.452709\" xlink:href=\"#m7e9f48617a\" y=\"211.491776\"/>\r\n     <use style=\"fill:#dd8452;stroke:#333333;\" x=\"103.800703\" xlink:href=\"#m7e9f48617a\" y=\"58.77386\"/>\r\n     <use style=\"fill:#dd8452;stroke:#333333;\" x=\"253.597339\" xlink:href=\"#m7e9f48617a\" y=\"204.483175\"/>\r\n     <use style=\"fill:#dd8452;stroke:#333333;\" x=\"119.055239\" xlink:href=\"#m7e9f48617a\" y=\"79.479021\"/>\r\n     <use style=\"fill:#dd8452;stroke:#333333;\" x=\"117.795362\" xlink:href=\"#m7e9f48617a\" y=\"68.498814\"/>\r\n     <use style=\"fill:#dd8452;stroke:#333333;\" x=\"113.203318\" xlink:href=\"#m7e9f48617a\" y=\"79.157571\"/>\r\n     <use style=\"fill:#dd8452;stroke:#333333;\" x=\"112.050944\" xlink:href=\"#m7e9f48617a\" y=\"65.164116\"/>\r\n     <use style=\"fill:#dd8452;stroke:#333333;\" x=\"100.124463\" xlink:href=\"#m7e9f48617a\" y=\"76.4204\"/>\r\n     <use style=\"fill:#dd8452;stroke:#333333;\" x=\"233.316161\" xlink:href=\"#m7e9f48617a\" y=\"180.475328\"/>\r\n     <use style=\"fill:#dd8452;stroke:#333333;\" x=\"227.44573\" xlink:href=\"#m7e9f48617a\" y=\"166.753857\"/>\r\n     <use style=\"fill:#dd8452;stroke:#333333;\" x=\"99.157985\" xlink:href=\"#m7e9f48617a\" y=\"52.967322\"/>\r\n     <use style=\"fill:#dd8452;stroke:#333333;\" x=\"89.604227\" xlink:href=\"#m7e9f48617a\" y=\"70.978627\"/>\r\n     <use style=\"fill:#dd8452;stroke:#333333;\" x=\"217.076348\" xlink:href=\"#m7e9f48617a\" y=\"175.194261\"/>\r\n     <use style=\"fill:#dd8452;stroke:#333333;\" x=\"93.716615\" xlink:href=\"#m7e9f48617a\" y=\"87.035743\"/>\r\n     <use style=\"fill:#dd8452;stroke:#333333;\" x=\"115.329106\" xlink:href=\"#m7e9f48617a\" y=\"57.810979\"/>\r\n     <use style=\"fill:#dd8452;stroke:#333333;\" x=\"216.921526\" xlink:href=\"#m7e9f48617a\" y=\"182.990142\"/>\r\n     <use style=\"fill:#dd8452;stroke:#333333;\" x=\"231.810306\" xlink:href=\"#m7e9f48617a\" y=\"212.247478\"/>\r\n     <use style=\"fill:#dd8452;stroke:#333333;\" x=\"221.337735\" xlink:href=\"#m7e9f48617a\" y=\"199.136941\"/>\r\n     <use style=\"fill:#dd8452;stroke:#333333;\" x=\"81.196204\" xlink:href=\"#m7e9f48617a\" y=\"45.729533\"/>\r\n     <use style=\"fill:#dd8452;stroke:#333333;\" x=\"110.384203\" xlink:href=\"#m7e9f48617a\" y=\"52.340912\"/>\r\n     <use style=\"fill:#dd8452;stroke:#333333;\" x=\"256.770929\" xlink:href=\"#m7e9f48617a\" y=\"200.314309\"/>\r\n     <use style=\"fill:#dd8452;stroke:#333333;\" x=\"240.250781\" xlink:href=\"#m7e9f48617a\" y=\"219.333639\"/>\r\n     <use style=\"fill:#dd8452;stroke:#333333;\" x=\"91.172493\" xlink:href=\"#m7e9f48617a\" y=\"79.686995\"/>\r\n     <use style=\"fill:#dd8452;stroke:#333333;\" x=\"84.601661\" xlink:href=\"#m7e9f48617a\" y=\"87.606733\"/>\r\n     <use style=\"fill:#dd8452;stroke:#333333;\" x=\"122.912467\" xlink:href=\"#m7e9f48617a\" y=\"66.598818\"/>\r\n     <use style=\"fill:#dd8452;stroke:#333333;\" x=\"228.510055\" xlink:href=\"#m7e9f48617a\" y=\"201.334084\"/>\r\n     <use style=\"fill:#dd8452;stroke:#333333;\" x=\"221.033605\" xlink:href=\"#m7e9f48617a\" y=\"229.345739\"/>\r\n     <use style=\"fill:#dd8452;stroke:#333333;\" x=\"104.795096\" xlink:href=\"#m7e9f48617a\" y=\"68.514355\"/>\r\n     <use style=\"fill:#dd8452;stroke:#333333;\" x=\"231.362202\" xlink:href=\"#m7e9f48617a\" y=\"192.069056\"/>\r\n     <use style=\"fill:#dd8452;stroke:#333333;\" x=\"243.381046\" xlink:href=\"#m7e9f48617a\" y=\"186.598561\"/>\r\n     <use style=\"fill:#dd8452;stroke:#333333;\" x=\"91.232884\" xlink:href=\"#m7e9f48617a\" y=\"71.427912\"/>\r\n     <use style=\"fill:#dd8452;stroke:#333333;\" x=\"85.894162\" xlink:href=\"#m7e9f48617a\" y=\"73.995666\"/>\r\n     <use style=\"fill:#dd8452;stroke:#333333;\" x=\"239.364579\" xlink:href=\"#m7e9f48617a\" y=\"183.06764\"/>\r\n     <use style=\"fill:#dd8452;stroke:#333333;\" x=\"239.989015\" xlink:href=\"#m7e9f48617a\" y=\"209.561861\"/>\r\n     <use style=\"fill:#dd8452;stroke:#333333;\" x=\"227.734799\" xlink:href=\"#m7e9f48617a\" y=\"211.714581\"/>\r\n     <use style=\"fill:#dd8452;stroke:#333333;\" x=\"104.452974\" xlink:href=\"#m7e9f48617a\" y=\"68.535087\"/>\r\n     <use style=\"fill:#dd8452;stroke:#333333;\" x=\"121.15645\" xlink:href=\"#m7e9f48617a\" y=\"68.085429\"/>\r\n     <use style=\"fill:#dd8452;stroke:#333333;\" x=\"248.404769\" xlink:href=\"#m7e9f48617a\" y=\"201.138471\"/>\r\n     <use style=\"fill:#dd8452;stroke:#333333;\" x=\"88.704352\" xlink:href=\"#m7e9f48617a\" y=\"58.142165\"/>\r\n     <use style=\"fill:#dd8452;stroke:#333333;\" x=\"237.938323\" xlink:href=\"#m7e9f48617a\" y=\"180.679928\"/>\r\n     <use style=\"fill:#dd8452;stroke:#333333;\" x=\"63.534517\" xlink:href=\"#m7e9f48617a\" y=\"75.267782\"/>\r\n     <use style=\"fill:#dd8452;stroke:#333333;\" x=\"241.857972\" xlink:href=\"#m7e9f48617a\" y=\"209.185287\"/>\r\n     <use style=\"fill:#dd8452;stroke:#333333;\" x=\"251.022665\" xlink:href=\"#m7e9f48617a\" y=\"196.834132\"/>\r\n     <use style=\"fill:#dd8452;stroke:#333333;\" x=\"112.674643\" xlink:href=\"#m7e9f48617a\" y=\"69.080488\"/>\r\n     <use style=\"fill:#dd8452;stroke:#333333;\" x=\"108.263086\" xlink:href=\"#m7e9f48617a\" y=\"80.042434\"/>\r\n     <use style=\"fill:#dd8452;stroke:#333333;\" x=\"86.72942\" xlink:href=\"#m7e9f48617a\" y=\"67.485531\"/>\r\n     <use style=\"fill:#dd8452;stroke:#333333;\" x=\"101.21126\" xlink:href=\"#m7e9f48617a\" y=\"53.247502\"/>\r\n     <use style=\"fill:#dd8452;stroke:#333333;\" x=\"94.218765\" xlink:href=\"#m7e9f48617a\" y=\"67.026035\"/>\r\n     <use style=\"fill:#dd8452;stroke:#333333;\" x=\"92.753087\" xlink:href=\"#m7e9f48617a\" y=\"70.287424\"/>\r\n     <use style=\"fill:#dd8452;stroke:#333333;\" x=\"251.60184\" xlink:href=\"#m7e9f48617a\" y=\"204.119693\"/>\r\n     <use style=\"fill:#dd8452;stroke:#333333;\" x=\"87.661652\" xlink:href=\"#m7e9f48617a\" y=\"63.846783\"/>\r\n     <use style=\"fill:#dd8452;stroke:#333333;\" x=\"75.741798\" xlink:href=\"#m7e9f48617a\" y=\"69.484424\"/>\r\n     <use style=\"fill:#dd8452;stroke:#333333;\" x=\"219.591913\" xlink:href=\"#m7e9f48617a\" y=\"193.15419\"/>\r\n     <use style=\"fill:#dd8452;stroke:#333333;\" x=\"235.094272\" xlink:href=\"#m7e9f48617a\" y=\"177.55826\"/>\r\n     <use style=\"fill:#dd8452;stroke:#333333;\" x=\"265.583928\" xlink:href=\"#m7e9f48617a\" y=\"209.163585\"/>\r\n     <use style=\"fill:#dd8452;stroke:#333333;\" x=\"214.232654\" xlink:href=\"#m7e9f48617a\" y=\"228.108567\"/>\r\n     <use style=\"fill:#dd8452;stroke:#333333;\" x=\"92.336544\" xlink:href=\"#m7e9f48617a\" y=\"65.596477\"/>\r\n     <use style=\"fill:#dd8452;stroke:#333333;\" x=\"103.221523\" xlink:href=\"#m7e9f48617a\" y=\"99.852544\"/>\r\n     <use style=\"fill:#dd8452;stroke:#333333;\" x=\"92.198707\" xlink:href=\"#m7e9f48617a\" y=\"73.379699\"/>\r\n     <use style=\"fill:#dd8452;stroke:#333333;\" x=\"83.585149\" xlink:href=\"#m7e9f48617a\" y=\"64.424067\"/>\r\n     <use style=\"fill:#dd8452;stroke:#333333;\" x=\"106.01871\" xlink:href=\"#m7e9f48617a\" y=\"53.347122\"/>\r\n     <use style=\"fill:#dd8452;stroke:#333333;\" x=\"82.30889\" xlink:href=\"#m7e9f48617a\" y=\"49.770213\"/>\r\n     <use style=\"fill:#dd8452;stroke:#333333;\" x=\"89.266237\" xlink:href=\"#m7e9f48617a\" y=\"79.609265\"/>\r\n     <use style=\"fill:#dd8452;stroke:#333333;\" x=\"72.641374\" xlink:href=\"#m7e9f48617a\" y=\"72.615561\"/>\r\n    </g>\r\n   </g>\r\n   <g id=\"patch_3\">\r\n    <path d=\"M 53.389062 239.229375 \r\nL 53.389062 21.789375 \r\n\" style=\"fill:none;stroke:#ffffff;stroke-linecap:square;stroke-linejoin:miter;stroke-width:1.25;\"/>\r\n   </g>\r\n   <g id=\"patch_4\">\r\n    <path d=\"M 276.589063 239.229375 \r\nL 276.589063 21.789375 \r\n\" style=\"fill:none;stroke:#ffffff;stroke-linecap:square;stroke-linejoin:miter;stroke-width:1.25;\"/>\r\n   </g>\r\n   <g id=\"patch_5\">\r\n    <path d=\"M 53.389063 239.229375 \r\nL 276.589063 239.229375 \r\n\" style=\"fill:none;stroke:#ffffff;stroke-linecap:square;stroke-linejoin:miter;stroke-width:1.25;\"/>\r\n   </g>\r\n   <g id=\"patch_6\">\r\n    <path d=\"M 53.389063 21.789375 \r\nL 276.589063 21.789375 \r\n\" style=\"fill:none;stroke:#ffffff;stroke-linecap:square;stroke-linejoin:miter;stroke-width:1.25;\"/>\r\n   </g>\r\n   <g id=\"text_14\">\r\n    <!-- Dataset_samples -->\r\n    <defs>\r\n     <path d=\"M 7.71875 0 \r\nL 7.71875 71.578125 \r\nL 32.375 71.578125 \r\nQ 40.71875 71.578125 45.125 70.5625 \r\nQ 51.265625 69.140625 55.609375 65.4375 \r\nQ 61.28125 60.640625 64.078125 53.1875 \r\nQ 66.890625 45.75 66.890625 36.1875 \r\nQ 66.890625 28.03125 64.984375 21.734375 \r\nQ 63.09375 15.4375 60.109375 11.296875 \r\nQ 57.125 7.171875 53.578125 4.796875 \r\nQ 50.046875 2.4375 45.046875 1.21875 \r\nQ 40.046875 0 33.546875 0 \r\nz\r\nM 17.1875 8.453125 \r\nL 32.46875 8.453125 \r\nQ 39.546875 8.453125 43.578125 9.765625 \r\nQ 47.609375 11.078125 50 13.484375 \r\nQ 53.375 16.84375 55.25 22.53125 \r\nQ 57.125 28.21875 57.125 36.328125 \r\nQ 57.125 47.5625 53.4375 53.59375 \r\nQ 49.75 59.625 44.484375 61.671875 \r\nQ 40.671875 63.140625 32.234375 63.140625 \r\nL 17.1875 63.140625 \r\nz\r\n\" id=\"ArialMT-68\"/>\r\n     <path d=\"M 40.4375 6.390625 \r\nQ 35.546875 2.25 31.03125 0.53125 \r\nQ 26.515625 -1.171875 21.34375 -1.171875 \r\nQ 12.796875 -1.171875 8.203125 3 \r\nQ 3.609375 7.171875 3.609375 13.671875 \r\nQ 3.609375 17.484375 5.34375 20.625 \r\nQ 7.078125 23.78125 9.890625 25.6875 \r\nQ 12.703125 27.59375 16.21875 28.5625 \r\nQ 18.796875 29.25 24.03125 29.890625 \r\nQ 34.671875 31.15625 39.703125 32.90625 \r\nQ 39.75 34.71875 39.75 35.203125 \r\nQ 39.75 40.578125 37.25 42.78125 \r\nQ 33.890625 45.75 27.25 45.75 \r\nQ 21.046875 45.75 18.09375 43.578125 \r\nQ 15.140625 41.40625 13.71875 35.890625 \r\nL 5.125 37.0625 \r\nQ 6.296875 42.578125 8.984375 45.96875 \r\nQ 11.671875 49.359375 16.75 51.1875 \r\nQ 21.828125 53.03125 28.515625 53.03125 \r\nQ 35.15625 53.03125 39.296875 51.46875 \r\nQ 43.453125 49.90625 45.40625 47.53125 \r\nQ 47.359375 45.171875 48.140625 41.546875 \r\nQ 48.578125 39.3125 48.578125 33.453125 \r\nL 48.578125 21.734375 \r\nQ 48.578125 9.46875 49.140625 6.21875 \r\nQ 49.703125 2.984375 51.375 0 \r\nL 42.1875 0 \r\nQ 40.828125 2.734375 40.4375 6.390625 \r\nz\r\nM 39.703125 26.03125 \r\nQ 34.90625 24.078125 25.34375 22.703125 \r\nQ 19.921875 21.921875 17.671875 20.9375 \r\nQ 15.4375 19.96875 14.203125 18.09375 \r\nQ 12.984375 16.21875 12.984375 13.921875 \r\nQ 12.984375 10.40625 15.640625 8.0625 \r\nQ 18.3125 5.71875 23.4375 5.71875 \r\nQ 28.515625 5.71875 32.46875 7.9375 \r\nQ 36.421875 10.15625 38.28125 14.015625 \r\nQ 39.703125 17 39.703125 22.796875 \r\nz\r\n\" id=\"ArialMT-97\"/>\r\n     <path d=\"M 25.78125 7.859375 \r\nL 27.046875 0.09375 \r\nQ 23.34375 -0.6875 20.40625 -0.6875 \r\nQ 15.625 -0.6875 12.984375 0.828125 \r\nQ 10.359375 2.34375 9.28125 4.8125 \r\nQ 8.203125 7.28125 8.203125 15.1875 \r\nL 8.203125 45.015625 \r\nL 1.765625 45.015625 \r\nL 1.765625 51.859375 \r\nL 8.203125 51.859375 \r\nL 8.203125 64.703125 \r\nL 16.9375 69.96875 \r\nL 16.9375 51.859375 \r\nL 25.78125 51.859375 \r\nL 25.78125 45.015625 \r\nL 16.9375 45.015625 \r\nL 16.9375 14.703125 \r\nQ 16.9375 10.9375 17.40625 9.859375 \r\nQ 17.875 8.796875 18.921875 8.15625 \r\nQ 19.96875 7.515625 21.921875 7.515625 \r\nQ 23.390625 7.515625 25.78125 7.859375 \r\nz\r\n\" id=\"ArialMT-116\"/>\r\n     <path d=\"M 3.078125 15.484375 \r\nL 11.765625 16.84375 \r\nQ 12.5 11.625 15.84375 8.84375 \r\nQ 19.1875 6.0625 25.203125 6.0625 \r\nQ 31.25 6.0625 34.171875 8.515625 \r\nQ 37.109375 10.984375 37.109375 14.3125 \r\nQ 37.109375 17.28125 34.515625 19 \r\nQ 32.71875 20.171875 25.53125 21.96875 \r\nQ 15.875 24.421875 12.140625 26.203125 \r\nQ 8.40625 27.984375 6.46875 31.125 \r\nQ 4.546875 34.28125 4.546875 38.09375 \r\nQ 4.546875 41.546875 6.125 44.5 \r\nQ 7.71875 47.46875 10.453125 49.421875 \r\nQ 12.5 50.921875 16.03125 51.96875 \r\nQ 19.578125 53.03125 23.640625 53.03125 \r\nQ 29.734375 53.03125 34.34375 51.265625 \r\nQ 38.96875 49.515625 41.15625 46.5 \r\nQ 43.359375 43.5 44.1875 38.484375 \r\nL 35.59375 37.3125 \r\nQ 35.015625 41.3125 32.203125 43.546875 \r\nQ 29.390625 45.796875 24.265625 45.796875 \r\nQ 18.21875 45.796875 15.625 43.796875 \r\nQ 13.03125 41.796875 13.03125 39.109375 \r\nQ 13.03125 37.40625 14.109375 36.03125 \r\nQ 15.1875 34.625 17.484375 33.6875 \r\nQ 18.796875 33.203125 25.25 31.453125 \r\nQ 34.578125 28.953125 38.25 27.359375 \r\nQ 41.9375 25.78125 44.03125 22.75 \r\nQ 46.140625 19.734375 46.140625 15.234375 \r\nQ 46.140625 10.84375 43.578125 6.953125 \r\nQ 41.015625 3.078125 36.171875 0.953125 \r\nQ 31.34375 -1.171875 25.25 -1.171875 \r\nQ 15.140625 -1.171875 9.84375 3.03125 \r\nQ 4.546875 7.234375 3.078125 15.484375 \r\nz\r\n\" id=\"ArialMT-115\"/>\r\n     <path d=\"M 42.09375 16.703125 \r\nL 51.171875 15.578125 \r\nQ 49.03125 7.625 43.21875 3.21875 \r\nQ 37.40625 -1.171875 28.375 -1.171875 \r\nQ 17 -1.171875 10.328125 5.828125 \r\nQ 3.65625 12.84375 3.65625 25.484375 \r\nQ 3.65625 38.578125 10.390625 45.796875 \r\nQ 17.140625 53.03125 27.875 53.03125 \r\nQ 38.28125 53.03125 44.875 45.953125 \r\nQ 51.46875 38.875 51.46875 26.03125 \r\nQ 51.46875 25.25 51.421875 23.6875 \r\nL 12.75 23.6875 \r\nQ 13.234375 15.140625 17.578125 10.59375 \r\nQ 21.921875 6.0625 28.421875 6.0625 \r\nQ 33.25 6.0625 36.671875 8.59375 \r\nQ 40.09375 11.140625 42.09375 16.703125 \r\nz\r\nM 13.234375 30.90625 \r\nL 42.1875 30.90625 \r\nQ 41.609375 37.453125 38.875 40.71875 \r\nQ 34.671875 45.796875 27.984375 45.796875 \r\nQ 21.921875 45.796875 17.796875 41.75 \r\nQ 13.671875 37.703125 13.234375 30.90625 \r\nz\r\n\" id=\"ArialMT-101\"/>\r\n     <path d=\"M -1.515625 -19.875 \r\nL -1.515625 -13.53125 \r\nL 56.734375 -13.53125 \r\nL 56.734375 -19.875 \r\nz\r\n\" id=\"ArialMT-95\"/>\r\n     <path d=\"M 6.59375 0 \r\nL 6.59375 51.859375 \r\nL 14.453125 51.859375 \r\nL 14.453125 44.578125 \r\nQ 16.890625 48.390625 20.9375 50.703125 \r\nQ 25 53.03125 30.171875 53.03125 \r\nQ 35.9375 53.03125 39.625 50.640625 \r\nQ 43.3125 48.25 44.828125 43.953125 \r\nQ 50.984375 53.03125 60.84375 53.03125 \r\nQ 68.5625 53.03125 72.703125 48.75 \r\nQ 76.859375 44.484375 76.859375 35.59375 \r\nL 76.859375 0 \r\nL 68.109375 0 \r\nL 68.109375 32.671875 \r\nQ 68.109375 37.9375 67.25 40.25 \r\nQ 66.40625 42.578125 64.15625 43.984375 \r\nQ 61.921875 45.40625 58.890625 45.40625 \r\nQ 53.421875 45.40625 49.796875 41.765625 \r\nQ 46.1875 38.140625 46.1875 30.125 \r\nL 46.1875 0 \r\nL 37.40625 0 \r\nL 37.40625 33.6875 \r\nQ 37.40625 39.546875 35.25 42.46875 \r\nQ 33.109375 45.40625 28.21875 45.40625 \r\nQ 24.515625 45.40625 21.359375 43.453125 \r\nQ 18.21875 41.5 16.796875 37.734375 \r\nQ 15.375 33.984375 15.375 26.90625 \r\nL 15.375 0 \r\nz\r\n\" id=\"ArialMT-109\"/>\r\n     <path d=\"M 6.59375 -19.875 \r\nL 6.59375 51.859375 \r\nL 14.59375 51.859375 \r\nL 14.59375 45.125 \r\nQ 17.4375 49.078125 21 51.046875 \r\nQ 24.5625 53.03125 29.640625 53.03125 \r\nQ 36.28125 53.03125 41.359375 49.609375 \r\nQ 46.4375 46.1875 49.015625 39.953125 \r\nQ 51.609375 33.734375 51.609375 26.3125 \r\nQ 51.609375 18.359375 48.75 11.984375 \r\nQ 45.90625 5.609375 40.453125 2.21875 \r\nQ 35.015625 -1.171875 29 -1.171875 \r\nQ 24.609375 -1.171875 21.109375 0.6875 \r\nQ 17.625 2.546875 15.375 5.375 \r\nL 15.375 -19.875 \r\nz\r\nM 14.546875 25.640625 \r\nQ 14.546875 15.625 18.59375 10.84375 \r\nQ 22.65625 6.0625 28.421875 6.0625 \r\nQ 34.28125 6.0625 38.453125 11.015625 \r\nQ 42.625 15.96875 42.625 26.375 \r\nQ 42.625 36.28125 38.546875 41.203125 \r\nQ 34.46875 46.140625 28.8125 46.140625 \r\nQ 23.1875 46.140625 18.859375 40.890625 \r\nQ 14.546875 35.640625 14.546875 25.640625 \r\nz\r\n\" id=\"ArialMT-112\"/>\r\n     <path d=\"M 6.390625 0 \r\nL 6.390625 71.578125 \r\nL 15.1875 71.578125 \r\nL 15.1875 0 \r\nz\r\n\" id=\"ArialMT-108\"/>\r\n    </defs>\r\n    <g style=\"fill:#262626;\" transform=\"translate(118.635312 15.789375)scale(0.12 -0.12)\">\r\n     <use xlink:href=\"#ArialMT-68\"/>\r\n     <use x=\"72.216797\" xlink:href=\"#ArialMT-97\"/>\r\n     <use x=\"127.832031\" xlink:href=\"#ArialMT-116\"/>\r\n     <use x=\"155.615234\" xlink:href=\"#ArialMT-97\"/>\r\n     <use x=\"211.230469\" xlink:href=\"#ArialMT-115\"/>\r\n     <use x=\"261.230469\" xlink:href=\"#ArialMT-101\"/>\r\n     <use x=\"316.845703\" xlink:href=\"#ArialMT-116\"/>\r\n     <use x=\"344.628906\" xlink:href=\"#ArialMT-95\"/>\r\n     <use x=\"400.244141\" xlink:href=\"#ArialMT-115\"/>\r\n     <use x=\"450.244141\" xlink:href=\"#ArialMT-97\"/>\r\n     <use x=\"505.859375\" xlink:href=\"#ArialMT-109\"/>\r\n     <use x=\"589.160156\" xlink:href=\"#ArialMT-112\"/>\r\n     <use x=\"644.775391\" xlink:href=\"#ArialMT-108\"/>\r\n     <use x=\"666.992188\" xlink:href=\"#ArialMT-101\"/>\r\n     <use x=\"722.607422\" xlink:href=\"#ArialMT-115\"/>\r\n    </g>\r\n   </g>\r\n   <g id=\"legend_1\">\r\n    <g id=\"patch_7\">\r\n     <path d=\"M 197.010937 147.719219 \r\nL 268.889063 147.719219 \r\nQ 271.089063 147.719219 271.089063 145.519219 \r\nL 271.089063 115.499531 \r\nQ 271.089063 113.299531 268.889063 113.299531 \r\nL 197.010937 113.299531 \r\nQ 194.810937 113.299531 194.810937 115.499531 \r\nL 194.810937 145.519219 \r\nQ 194.810937 147.719219 197.010937 147.719219 \r\nz\r\n\" style=\"fill:#eaeaf2;opacity:0.8;stroke:#cccccc;stroke-linejoin:miter;\"/>\r\n    </g>\r\n    <g id=\"PathCollection_3\">\r\n     <g>\r\n      <use style=\"fill:#4c72b0;stroke:#333333;\" x=\"210.210938\" xlink:href=\"#me78dc8ad1c\" y=\"122.685625\"/>\r\n     </g>\r\n    </g>\r\n    <g id=\"text_15\">\r\n     <!-- Class 0 -->\r\n     <defs>\r\n      <path d=\"M 58.796875 25.09375 \r\nL 68.265625 22.703125 \r\nQ 65.28125 11.03125 57.546875 4.90625 \r\nQ 49.8125 -1.21875 38.625 -1.21875 \r\nQ 27.046875 -1.21875 19.796875 3.484375 \r\nQ 12.546875 8.203125 8.765625 17.140625 \r\nQ 4.984375 26.078125 4.984375 36.328125 \r\nQ 4.984375 47.515625 9.25 55.828125 \r\nQ 13.53125 64.15625 21.40625 68.46875 \r\nQ 29.296875 72.796875 38.765625 72.796875 \r\nQ 49.515625 72.796875 56.828125 67.328125 \r\nQ 64.15625 61.859375 67.046875 51.953125 \r\nL 57.71875 49.75 \r\nQ 55.21875 57.5625 50.484375 61.125 \r\nQ 45.75 64.703125 38.578125 64.703125 \r\nQ 30.328125 64.703125 24.78125 60.734375 \r\nQ 19.234375 56.78125 16.984375 50.109375 \r\nQ 14.75 43.453125 14.75 36.375 \r\nQ 14.75 27.25 17.40625 20.4375 \r\nQ 20.0625 13.625 25.671875 10.25 \r\nQ 31.296875 6.890625 37.84375 6.890625 \r\nQ 45.796875 6.890625 51.3125 11.46875 \r\nQ 56.84375 16.0625 58.796875 25.09375 \r\nz\r\n\" id=\"ArialMT-67\"/>\r\n      <path id=\"ArialMT-32\"/>\r\n     </defs>\r\n     <g style=\"fill:#262626;\" transform=\"translate(230.010938 125.573125)scale(0.11 -0.11)\">\r\n      <use xlink:href=\"#ArialMT-67\"/>\r\n      <use x=\"72.216797\" xlink:href=\"#ArialMT-108\"/>\r\n      <use x=\"94.433594\" xlink:href=\"#ArialMT-97\"/>\r\n      <use x=\"150.048828\" xlink:href=\"#ArialMT-115\"/>\r\n      <use x=\"200.048828\" xlink:href=\"#ArialMT-115\"/>\r\n      <use x=\"250.048828\" xlink:href=\"#ArialMT-32\"/>\r\n      <use x=\"277.832031\" xlink:href=\"#ArialMT-48\"/>\r\n     </g>\r\n    </g>\r\n    <g id=\"PathCollection_4\">\r\n     <g>\r\n      <use style=\"fill:#dd8452;stroke:#333333;\" x=\"210.210938\" xlink:href=\"#m7e9f48617a\" y=\"138.245469\"/>\r\n     </g>\r\n    </g>\r\n    <g id=\"text_16\">\r\n     <!-- Class 1 -->\r\n     <g style=\"fill:#262626;\" transform=\"translate(230.010938 141.132969)scale(0.11 -0.11)\">\r\n      <use xlink:href=\"#ArialMT-67\"/>\r\n      <use x=\"72.216797\" xlink:href=\"#ArialMT-108\"/>\r\n      <use x=\"94.433594\" xlink:href=\"#ArialMT-97\"/>\r\n      <use x=\"150.048828\" xlink:href=\"#ArialMT-115\"/>\r\n      <use x=\"200.048828\" xlink:href=\"#ArialMT-115\"/>\r\n      <use x=\"250.048828\" xlink:href=\"#ArialMT-32\"/>\r\n      <use x=\"277.832031\" xlink:href=\"#ArialMT-49\"/>\r\n     </g>\r\n    </g>\r\n   </g>\r\n  </g>\r\n </g>\r\n <defs>\r\n  <clipPath id=\"p22ae439238\">\r\n   <rect height=\"217.44\" width=\"223.2\" x=\"53.389062\" y=\"21.789375\"/>\r\n  </clipPath>\r\n </defs>\r\n</svg>\r\n",
      "text/plain": [
       "<Figure size 288x288 with 1 Axes>"
      ]
     },
     "metadata": {},
     "output_type": "display_data"
    }
   ],
   "source": [
    "visualize_sample(dataset.data,dataset.label)"
   ]
  },
  {
   "cell_type": "code",
   "execution_count": 51,
   "metadata": {},
   "outputs": [],
   "source": [
    "data_loader = data.DataLoader(dataset,batch_size = 8 , shuffle = True)\n",
    "\n",
    "# https://tutorials.pytorch.kr/beginner/basics/data_tutorial.html\n",
    "\n",
    "# DataLoader라는 것이 무엇인고!"
   ]
  },
  {
   "cell_type": "code",
   "execution_count": 52,
   "metadata": {},
   "outputs": [
    {
     "data": {
      "text/plain": [
       "1"
      ]
     },
     "execution_count": 52,
     "metadata": {},
     "output_type": "execute_result"
    }
   ],
   "source": [
    "next(iter((i**2 for i in [1,2,3,4])))"
   ]
  },
  {
   "cell_type": "code",
   "execution_count": 53,
   "metadata": {},
   "outputs": [
    {
     "name": "stdout",
     "output_type": "stream",
     "text": [
      "Data inputs torch.Size([8, 2]) \n",
      " tensor([[-0.0212,  0.0816],\n",
      "        [ 0.0537,  1.0782],\n",
      "        [-0.1049,  1.1782],\n",
      "        [-0.0482,  0.9184],\n",
      "        [ 0.0898, -0.0154],\n",
      "        [ 0.0078,  0.0224],\n",
      "        [-0.0944,  0.0173],\n",
      "        [ 1.0035,  1.0842]])\n",
      "Data labels torch.Size([8]) \n",
      " tensor([0, 1, 1, 1, 0, 0, 0, 0])\n"
     ]
    }
   ],
   "source": [
    "data_loader = data.DataLoader(dataset,batch_size = 8 , shuffle = True)\n",
    "# shuffle = True면 학습할 때 들어가는 data batch 순서가 랜덤하게 들어가는거고 False면 앞에서 부터 순서대로 들어가는거임\n",
    "\n",
    "data_inputs , data_labels = next(iter(data_loader))\n",
    "\n",
    "# dataloader에서 처음으로 나오는 값을 확인\n",
    "\n",
    "print(\"Data inputs\", data_inputs.shape,\"\\n\",data_inputs)\n",
    "print(\"Data labels\", data_labels.shape,\"\\n\",data_labels)"
   ]
  },
  {
   "cell_type": "code",
   "execution_count": 54,
   "metadata": {},
   "outputs": [
    {
     "data": {
      "text/plain": [
       "'\\n1. get a batch from the data loader\\n2. obtain the predictions from the model for the batch\\n3. calculate the loss based on the difference between predictions and labels\\n4. backpropagation calculate the gradients for every parameter with respect to the loss\\n5. update the parameters of the model in the direction of the gradients\\n\\n\\n'"
      ]
     },
     "execution_count": 54,
     "metadata": {},
     "output_type": "execute_result"
    }
   ],
   "source": [
    "#optimizer\n",
    "\n",
    "\"\"\"\n",
    "1. get a batch from the data loader\n",
    "2. obtain the predictions from the model for the batch\n",
    "3. calculate the loss based on the difference between predictions and labels\n",
    "4. backpropagation calculate the gradients for every parameter with respect to the loss\n",
    "5. update the parameters of the model in the direction of the gradients\n",
    "\n",
    "\n",
    "\"\"\""
   ]
  },
  {
   "cell_type": "code",
   "execution_count": 55,
   "metadata": {},
   "outputs": [],
   "source": [
    "loss_module = nn.BCEWithLogitsLoss()"
   ]
  },
  {
   "cell_type": "code",
   "execution_count": 56,
   "metadata": {},
   "outputs": [],
   "source": [
    "optimizer = torch.optim.SGD(model.parameters(),lr = 0.1)"
   ]
  },
  {
   "cell_type": "code",
   "execution_count": 57,
   "metadata": {},
   "outputs": [],
   "source": [
    "train_dataset = XORDataset(size = 1000)\n",
    "train_dataset_loader = data.DataLoader(train_dataset,batch_size=120,shuffle=True)"
   ]
  },
  {
   "cell_type": "code",
   "execution_count": 58,
   "metadata": {},
   "outputs": [
    {
     "data": {
      "text/plain": [
       "SimpleClassifier(\n",
       "  (linear1): Linear(in_features=2, out_features=4, bias=True)\n",
       "  (act_func): Tanh()\n",
       "  (linear2): Linear(in_features=2, out_features=4, bias=True)\n",
       ")"
      ]
     },
     "execution_count": 58,
     "metadata": {},
     "output_type": "execute_result"
    }
   ],
   "source": [
    "model.to(device)"
   ]
  },
  {
   "cell_type": "code",
   "execution_count": null,
   "metadata": {},
   "outputs": [],
   "source": [
    "  def train_model(model,optimizer,data_loader,loss_module,num_epoch = 100):\n",
    "      # set model to train mode\n",
    "      model.train() # model은 train mode가 있고 evaluate mode 가 있다는데 무슨소린지 잘 모르겠음.\n",
    "\n",
    "      for epoch in tqdm(range(num_epoch)):\n",
    "          for data_inputs, data_labels in data_loader:"
   ]
  }
 ],
 "metadata": {
  "interpreter": {
   "hash": "57bc2b6ce032b5f0e93daa91901b7ea38a856826ef43aa9e95b6d3999f5310df"
  },
  "kernelspec": {
   "display_name": "Python 3.8.3 ('base')",
   "language": "python",
   "name": "python3"
  },
  "language_info": {
   "codemirror_mode": {
    "name": "ipython",
    "version": 3
   },
   "file_extension": ".py",
   "mimetype": "text/x-python",
   "name": "python",
   "nbconvert_exporter": "python",
   "pygments_lexer": "ipython3",
   "version": "3.8.3"
  },
  "orig_nbformat": 4
 },
 "nbformat": 4,
 "nbformat_minor": 2
}
